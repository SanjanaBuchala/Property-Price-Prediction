{
 "cells": [
  {
   "cell_type": "markdown",
   "metadata": {},
   "source": [
    "### Regression: Housesales Dataset\n",
    "\n",
    "This dataset contains historical sales details of all the houses sold between May 2014 to May 2015 in Kings County, Washington State, USA.\n",
    "\n",
    "Dataset Link: https://www.kaggle.com/swathiachath/kc-housesales-data\n",
    "\n",
    "Extra Data Dictionary: https://info.kingcounty.gov/assessor/esales/Glossary.aspx?type=r#g\n",
    "\n",
    "The aim of this regression is to predict the house sales in King County, Washington State.\n",
    "\n",
    "In the first part of the project, we work on exploring the dataset to gain insights, view the different trends and also finding any missing value or correlation amoung the 21 features. "
   ]
  },
  {
   "cell_type": "code",
   "execution_count": 1,
   "metadata": {},
   "outputs": [],
   "source": [
    "import pandas as pd\n",
    "import numpy as np\n",
    "import os\n",
    "import seaborn as sns\n",
    "import matplotlib.pyplot as plt\n",
    "os.getcwd()\n",
    "os.chdir('C:/Users/Sumukh/Desktop/Sanjana')"
   ]
  },
  {
   "cell_type": "markdown",
   "metadata": {},
   "source": [
    "Importing the house dataset into a data frame using pandas"
   ]
  },
  {
   "cell_type": "code",
   "execution_count": 2,
   "metadata": {},
   "outputs": [],
   "source": [
    "house = pd.read_csv('kc_house_data.csv')"
   ]
  },
  {
   "cell_type": "markdown",
   "metadata": {},
   "source": [
    "Exploring the dataset"
   ]
  },
  {
   "cell_type": "code",
   "execution_count": 3,
   "metadata": {
    "scrolled": true
   },
   "outputs": [
    {
     "data": {
      "text/html": [
       "<div>\n",
       "<style scoped>\n",
       "    .dataframe tbody tr th:only-of-type {\n",
       "        vertical-align: middle;\n",
       "    }\n",
       "\n",
       "    .dataframe tbody tr th {\n",
       "        vertical-align: top;\n",
       "    }\n",
       "\n",
       "    .dataframe thead th {\n",
       "        text-align: right;\n",
       "    }\n",
       "</style>\n",
       "<table border=\"1\" class=\"dataframe\">\n",
       "  <thead>\n",
       "    <tr style=\"text-align: right;\">\n",
       "      <th></th>\n",
       "      <th>id</th>\n",
       "      <th>date</th>\n",
       "      <th>price</th>\n",
       "      <th>bedrooms</th>\n",
       "      <th>bathrooms</th>\n",
       "      <th>sqft_living</th>\n",
       "      <th>sqft_lot</th>\n",
       "      <th>floors</th>\n",
       "      <th>waterfront</th>\n",
       "      <th>view</th>\n",
       "      <th>...</th>\n",
       "      <th>grade</th>\n",
       "      <th>sqft_above</th>\n",
       "      <th>sqft_basement</th>\n",
       "      <th>yr_built</th>\n",
       "      <th>yr_renovated</th>\n",
       "      <th>zipcode</th>\n",
       "      <th>lat</th>\n",
       "      <th>long</th>\n",
       "      <th>sqft_living15</th>\n",
       "      <th>sqft_lot15</th>\n",
       "    </tr>\n",
       "  </thead>\n",
       "  <tbody>\n",
       "    <tr>\n",
       "      <th>0</th>\n",
       "      <td>7129300520</td>\n",
       "      <td>10/13/2014</td>\n",
       "      <td>221900.0</td>\n",
       "      <td>3.0</td>\n",
       "      <td>1.00</td>\n",
       "      <td>1180.0</td>\n",
       "      <td>5650.0</td>\n",
       "      <td>1.0</td>\n",
       "      <td>0.0</td>\n",
       "      <td>0</td>\n",
       "      <td>...</td>\n",
       "      <td>7</td>\n",
       "      <td>1180.0</td>\n",
       "      <td>0.0</td>\n",
       "      <td>1955</td>\n",
       "      <td>0</td>\n",
       "      <td>98178.0</td>\n",
       "      <td>47.5112</td>\n",
       "      <td>-122.257</td>\n",
       "      <td>NaN</td>\n",
       "      <td>5650.0</td>\n",
       "    </tr>\n",
       "    <tr>\n",
       "      <th>1</th>\n",
       "      <td>6414100192</td>\n",
       "      <td>12/9/2014</td>\n",
       "      <td>538000.0</td>\n",
       "      <td>3.0</td>\n",
       "      <td>2.25</td>\n",
       "      <td>2570.0</td>\n",
       "      <td>7242.0</td>\n",
       "      <td>2.0</td>\n",
       "      <td>0.0</td>\n",
       "      <td>0</td>\n",
       "      <td>...</td>\n",
       "      <td>7</td>\n",
       "      <td>2170.0</td>\n",
       "      <td>400.0</td>\n",
       "      <td>1951</td>\n",
       "      <td>1991</td>\n",
       "      <td>98125.0</td>\n",
       "      <td>47.7210</td>\n",
       "      <td>-122.319</td>\n",
       "      <td>NaN</td>\n",
       "      <td>7639.0</td>\n",
       "    </tr>\n",
       "    <tr>\n",
       "      <th>2</th>\n",
       "      <td>5631500400</td>\n",
       "      <td>2/25/2015</td>\n",
       "      <td>180000.0</td>\n",
       "      <td>2.0</td>\n",
       "      <td>1.00</td>\n",
       "      <td>770.0</td>\n",
       "      <td>10000.0</td>\n",
       "      <td>1.0</td>\n",
       "      <td>0.0</td>\n",
       "      <td>0</td>\n",
       "      <td>...</td>\n",
       "      <td>6</td>\n",
       "      <td>770.0</td>\n",
       "      <td>0.0</td>\n",
       "      <td>1933</td>\n",
       "      <td>0</td>\n",
       "      <td>98028.0</td>\n",
       "      <td>47.7379</td>\n",
       "      <td>-122.233</td>\n",
       "      <td>NaN</td>\n",
       "      <td>8062.0</td>\n",
       "    </tr>\n",
       "    <tr>\n",
       "      <th>3</th>\n",
       "      <td>2487200875</td>\n",
       "      <td>12/9/2014</td>\n",
       "      <td>604000.0</td>\n",
       "      <td>4.0</td>\n",
       "      <td>3.00</td>\n",
       "      <td>1960.0</td>\n",
       "      <td>NaN</td>\n",
       "      <td>1.0</td>\n",
       "      <td>0.0</td>\n",
       "      <td>0</td>\n",
       "      <td>...</td>\n",
       "      <td>7</td>\n",
       "      <td>1050.0</td>\n",
       "      <td>910.0</td>\n",
       "      <td>1965</td>\n",
       "      <td>0</td>\n",
       "      <td>98136.0</td>\n",
       "      <td>47.5208</td>\n",
       "      <td>-122.393</td>\n",
       "      <td>NaN</td>\n",
       "      <td>5000.0</td>\n",
       "    </tr>\n",
       "    <tr>\n",
       "      <th>4</th>\n",
       "      <td>1954400510</td>\n",
       "      <td>2/18/2015</td>\n",
       "      <td>510000.0</td>\n",
       "      <td>3.0</td>\n",
       "      <td>2.00</td>\n",
       "      <td>1680.0</td>\n",
       "      <td>NaN</td>\n",
       "      <td>1.0</td>\n",
       "      <td>0.0</td>\n",
       "      <td>0</td>\n",
       "      <td>...</td>\n",
       "      <td>8</td>\n",
       "      <td>1680.0</td>\n",
       "      <td>0.0</td>\n",
       "      <td>1987</td>\n",
       "      <td>0</td>\n",
       "      <td>98074.0</td>\n",
       "      <td>47.6168</td>\n",
       "      <td>-122.045</td>\n",
       "      <td>NaN</td>\n",
       "      <td>7503.0</td>\n",
       "    </tr>\n",
       "  </tbody>\n",
       "</table>\n",
       "<p>5 rows × 21 columns</p>\n",
       "</div>"
      ],
      "text/plain": [
       "           id        date     price  bedrooms  bathrooms  sqft_living  \\\n",
       "0  7129300520  10/13/2014  221900.0       3.0       1.00       1180.0   \n",
       "1  6414100192   12/9/2014  538000.0       3.0       2.25       2570.0   \n",
       "2  5631500400   2/25/2015  180000.0       2.0       1.00        770.0   \n",
       "3  2487200875   12/9/2014  604000.0       4.0       3.00       1960.0   \n",
       "4  1954400510   2/18/2015  510000.0       3.0       2.00       1680.0   \n",
       "\n",
       "   sqft_lot  floors  waterfront  view     ...      grade  sqft_above  \\\n",
       "0    5650.0     1.0         0.0     0     ...          7      1180.0   \n",
       "1    7242.0     2.0         0.0     0     ...          7      2170.0   \n",
       "2   10000.0     1.0         0.0     0     ...          6       770.0   \n",
       "3       NaN     1.0         0.0     0     ...          7      1050.0   \n",
       "4       NaN     1.0         0.0     0     ...          8      1680.0   \n",
       "\n",
       "   sqft_basement  yr_built  yr_renovated  zipcode      lat     long  \\\n",
       "0            0.0      1955             0  98178.0  47.5112 -122.257   \n",
       "1          400.0      1951          1991  98125.0  47.7210 -122.319   \n",
       "2            0.0      1933             0  98028.0  47.7379 -122.233   \n",
       "3          910.0      1965             0  98136.0  47.5208 -122.393   \n",
       "4            0.0      1987             0  98074.0  47.6168 -122.045   \n",
       "\n",
       "   sqft_living15  sqft_lot15  \n",
       "0            NaN      5650.0  \n",
       "1            NaN      7639.0  \n",
       "2            NaN      8062.0  \n",
       "3            NaN      5000.0  \n",
       "4            NaN      7503.0  \n",
       "\n",
       "[5 rows x 21 columns]"
      ]
     },
     "execution_count": 3,
     "metadata": {},
     "output_type": "execute_result"
    }
   ],
   "source": [
    "house.head()"
   ]
  },
  {
   "cell_type": "code",
   "execution_count": 4,
   "metadata": {
    "scrolled": false
   },
   "outputs": [
    {
     "name": "stdout",
     "output_type": "stream",
     "text": [
      "<class 'pandas.core.frame.DataFrame'>\n",
      "RangeIndex: 21597 entries, 0 to 21596\n",
      "Data columns (total 21 columns):\n",
      "id               21597 non-null int64\n",
      "date             21597 non-null object\n",
      "price            21597 non-null float64\n",
      "bedrooms         21526 non-null float64\n",
      "bathrooms        21544 non-null float64\n",
      "sqft_living      21572 non-null float64\n",
      "sqft_lot         21483 non-null float64\n",
      "floors           21597 non-null float64\n",
      "waterfront       21510 non-null float64\n",
      "view             21597 non-null int64\n",
      "condition        21597 non-null int64\n",
      "grade            21597 non-null int64\n",
      "sqft_above       21521 non-null float64\n",
      "sqft_basement    21367 non-null float64\n",
      "yr_built         21597 non-null int64\n",
      "yr_renovated     21597 non-null int64\n",
      "zipcode          21316 non-null float64\n",
      "lat              21352 non-null float64\n",
      "long             21352 non-null float64\n",
      "sqft_living15    21417 non-null float64\n",
      "sqft_lot15       21579 non-null float64\n",
      "dtypes: float64(14), int64(6), object(1)\n",
      "memory usage: 3.5+ MB\n"
     ]
    }
   ],
   "source": [
    "house.info()"
   ]
  },
  {
   "cell_type": "code",
   "execution_count": 5,
   "metadata": {},
   "outputs": [
    {
     "name": "stdout",
     "output_type": "stream",
     "text": [
      "The dataset contains 21597 rows and 21 columns\n",
      "The dataset contains 4 Categorical features and 17 Numerical features\n"
     ]
    }
   ],
   "source": [
    "print('The dataset contains {} rows and {} columns'.format(house.shape[0],house.shape[1]))\n",
    "print('The dataset contains {} Categorical features and {} Numerical features'.format(4,17))"
   ]
  },
  {
   "cell_type": "code",
   "execution_count": 6,
   "metadata": {
    "scrolled": false
   },
   "outputs": [
    {
     "data": {
      "text/html": [
       "<div>\n",
       "<style scoped>\n",
       "    .dataframe tbody tr th:only-of-type {\n",
       "        vertical-align: middle;\n",
       "    }\n",
       "\n",
       "    .dataframe tbody tr th {\n",
       "        vertical-align: top;\n",
       "    }\n",
       "\n",
       "    .dataframe thead th {\n",
       "        text-align: right;\n",
       "    }\n",
       "</style>\n",
       "<table border=\"1\" class=\"dataframe\">\n",
       "  <thead>\n",
       "    <tr style=\"text-align: right;\">\n",
       "      <th></th>\n",
       "      <th>id</th>\n",
       "      <th>price</th>\n",
       "      <th>bedrooms</th>\n",
       "      <th>bathrooms</th>\n",
       "      <th>sqft_living</th>\n",
       "      <th>sqft_lot</th>\n",
       "      <th>floors</th>\n",
       "      <th>waterfront</th>\n",
       "      <th>view</th>\n",
       "      <th>condition</th>\n",
       "      <th>grade</th>\n",
       "      <th>sqft_above</th>\n",
       "      <th>sqft_basement</th>\n",
       "      <th>yr_built</th>\n",
       "      <th>yr_renovated</th>\n",
       "      <th>zipcode</th>\n",
       "      <th>lat</th>\n",
       "      <th>long</th>\n",
       "      <th>sqft_living15</th>\n",
       "      <th>sqft_lot15</th>\n",
       "    </tr>\n",
       "  </thead>\n",
       "  <tbody>\n",
       "    <tr>\n",
       "      <th>count</th>\n",
       "      <td>2.159700e+04</td>\n",
       "      <td>2.159700e+04</td>\n",
       "      <td>21526.000000</td>\n",
       "      <td>21544.000000</td>\n",
       "      <td>21572.000000</td>\n",
       "      <td>2.148300e+04</td>\n",
       "      <td>21597.000000</td>\n",
       "      <td>21510.000000</td>\n",
       "      <td>21597.000000</td>\n",
       "      <td>21597.000000</td>\n",
       "      <td>21597.000000</td>\n",
       "      <td>21521.000000</td>\n",
       "      <td>21367.000000</td>\n",
       "      <td>21597.000000</td>\n",
       "      <td>21597.000000</td>\n",
       "      <td>21316.000000</td>\n",
       "      <td>21352.000000</td>\n",
       "      <td>21352.000000</td>\n",
       "      <td>21417.000000</td>\n",
       "      <td>21579.000000</td>\n",
       "    </tr>\n",
       "    <tr>\n",
       "      <th>mean</th>\n",
       "      <td>4.580474e+09</td>\n",
       "      <td>5.402966e+05</td>\n",
       "      <td>3.373270</td>\n",
       "      <td>2.116158</td>\n",
       "      <td>2080.287920</td>\n",
       "      <td>1.510421e+04</td>\n",
       "      <td>1.494096</td>\n",
       "      <td>0.007485</td>\n",
       "      <td>0.234292</td>\n",
       "      <td>3.409825</td>\n",
       "      <td>7.657915</td>\n",
       "      <td>1788.564937</td>\n",
       "      <td>289.867553</td>\n",
       "      <td>1970.999676</td>\n",
       "      <td>84.464787</td>\n",
       "      <td>98078.499156</td>\n",
       "      <td>47.561143</td>\n",
       "      <td>-122.214150</td>\n",
       "      <td>1985.673297</td>\n",
       "      <td>12753.935586</td>\n",
       "    </tr>\n",
       "    <tr>\n",
       "      <th>std</th>\n",
       "      <td>2.876736e+09</td>\n",
       "      <td>3.673681e+05</td>\n",
       "      <td>0.926818</td>\n",
       "      <td>0.769219</td>\n",
       "      <td>918.164282</td>\n",
       "      <td>4.148688e+04</td>\n",
       "      <td>0.539683</td>\n",
       "      <td>0.086193</td>\n",
       "      <td>0.766390</td>\n",
       "      <td>0.650546</td>\n",
       "      <td>1.173200</td>\n",
       "      <td>827.966953</td>\n",
       "      <td>441.724304</td>\n",
       "      <td>29.375234</td>\n",
       "      <td>401.821438</td>\n",
       "      <td>53.991122</td>\n",
       "      <td>0.138844</td>\n",
       "      <td>0.140353</td>\n",
       "      <td>684.480004</td>\n",
       "      <td>27271.039053</td>\n",
       "    </tr>\n",
       "    <tr>\n",
       "      <th>min</th>\n",
       "      <td>1.000102e+06</td>\n",
       "      <td>7.800000e+04</td>\n",
       "      <td>1.000000</td>\n",
       "      <td>0.500000</td>\n",
       "      <td>370.000000</td>\n",
       "      <td>5.200000e+02</td>\n",
       "      <td>1.000000</td>\n",
       "      <td>0.000000</td>\n",
       "      <td>0.000000</td>\n",
       "      <td>1.000000</td>\n",
       "      <td>3.000000</td>\n",
       "      <td>370.000000</td>\n",
       "      <td>0.000000</td>\n",
       "      <td>1900.000000</td>\n",
       "      <td>0.000000</td>\n",
       "      <td>98001.000000</td>\n",
       "      <td>47.155900</td>\n",
       "      <td>-122.519000</td>\n",
       "      <td>399.000000</td>\n",
       "      <td>651.000000</td>\n",
       "    </tr>\n",
       "    <tr>\n",
       "      <th>25%</th>\n",
       "      <td>2.123049e+09</td>\n",
       "      <td>3.220000e+05</td>\n",
       "      <td>3.000000</td>\n",
       "      <td>1.750000</td>\n",
       "      <td>1430.000000</td>\n",
       "      <td>5.040000e+03</td>\n",
       "      <td>1.000000</td>\n",
       "      <td>0.000000</td>\n",
       "      <td>0.000000</td>\n",
       "      <td>3.000000</td>\n",
       "      <td>7.000000</td>\n",
       "      <td>1190.000000</td>\n",
       "      <td>0.000000</td>\n",
       "      <td>1951.000000</td>\n",
       "      <td>0.000000</td>\n",
       "      <td>98033.000000</td>\n",
       "      <td>47.469950</td>\n",
       "      <td>-122.328000</td>\n",
       "      <td>1490.000000</td>\n",
       "      <td>5100.000000</td>\n",
       "    </tr>\n",
       "    <tr>\n",
       "      <th>50%</th>\n",
       "      <td>3.904930e+09</td>\n",
       "      <td>4.500000e+05</td>\n",
       "      <td>3.000000</td>\n",
       "      <td>2.250000</td>\n",
       "      <td>1910.000000</td>\n",
       "      <td>7.616000e+03</td>\n",
       "      <td>1.500000</td>\n",
       "      <td>0.000000</td>\n",
       "      <td>0.000000</td>\n",
       "      <td>3.000000</td>\n",
       "      <td>7.000000</td>\n",
       "      <td>1560.000000</td>\n",
       "      <td>0.000000</td>\n",
       "      <td>1975.000000</td>\n",
       "      <td>0.000000</td>\n",
       "      <td>98065.000000</td>\n",
       "      <td>47.573450</td>\n",
       "      <td>-122.231000</td>\n",
       "      <td>1840.000000</td>\n",
       "      <td>7620.000000</td>\n",
       "    </tr>\n",
       "    <tr>\n",
       "      <th>75%</th>\n",
       "      <td>7.308900e+09</td>\n",
       "      <td>6.450000e+05</td>\n",
       "      <td>4.000000</td>\n",
       "      <td>2.500000</td>\n",
       "      <td>2550.000000</td>\n",
       "      <td>1.067200e+04</td>\n",
       "      <td>2.000000</td>\n",
       "      <td>0.000000</td>\n",
       "      <td>0.000000</td>\n",
       "      <td>4.000000</td>\n",
       "      <td>8.000000</td>\n",
       "      <td>2210.000000</td>\n",
       "      <td>560.000000</td>\n",
       "      <td>1997.000000</td>\n",
       "      <td>0.000000</td>\n",
       "      <td>98118.000000</td>\n",
       "      <td>47.679700</td>\n",
       "      <td>-122.123000</td>\n",
       "      <td>2360.000000</td>\n",
       "      <td>10080.000000</td>\n",
       "    </tr>\n",
       "    <tr>\n",
       "      <th>max</th>\n",
       "      <td>9.900000e+09</td>\n",
       "      <td>7.700000e+06</td>\n",
       "      <td>33.000000</td>\n",
       "      <td>8.000000</td>\n",
       "      <td>13540.000000</td>\n",
       "      <td>1.651359e+06</td>\n",
       "      <td>3.500000</td>\n",
       "      <td>1.000000</td>\n",
       "      <td>4.000000</td>\n",
       "      <td>5.000000</td>\n",
       "      <td>13.000000</td>\n",
       "      <td>9410.000000</td>\n",
       "      <td>4820.000000</td>\n",
       "      <td>2015.000000</td>\n",
       "      <td>2015.000000</td>\n",
       "      <td>98199.000000</td>\n",
       "      <td>47.777600</td>\n",
       "      <td>-121.315000</td>\n",
       "      <td>6210.000000</td>\n",
       "      <td>871200.000000</td>\n",
       "    </tr>\n",
       "  </tbody>\n",
       "</table>\n",
       "</div>"
      ],
      "text/plain": [
       "                 id         price      bedrooms     bathrooms   sqft_living  \\\n",
       "count  2.159700e+04  2.159700e+04  21526.000000  21544.000000  21572.000000   \n",
       "mean   4.580474e+09  5.402966e+05      3.373270      2.116158   2080.287920   \n",
       "std    2.876736e+09  3.673681e+05      0.926818      0.769219    918.164282   \n",
       "min    1.000102e+06  7.800000e+04      1.000000      0.500000    370.000000   \n",
       "25%    2.123049e+09  3.220000e+05      3.000000      1.750000   1430.000000   \n",
       "50%    3.904930e+09  4.500000e+05      3.000000      2.250000   1910.000000   \n",
       "75%    7.308900e+09  6.450000e+05      4.000000      2.500000   2550.000000   \n",
       "max    9.900000e+09  7.700000e+06     33.000000      8.000000  13540.000000   \n",
       "\n",
       "           sqft_lot        floors    waterfront          view     condition  \\\n",
       "count  2.148300e+04  21597.000000  21510.000000  21597.000000  21597.000000   \n",
       "mean   1.510421e+04      1.494096      0.007485      0.234292      3.409825   \n",
       "std    4.148688e+04      0.539683      0.086193      0.766390      0.650546   \n",
       "min    5.200000e+02      1.000000      0.000000      0.000000      1.000000   \n",
       "25%    5.040000e+03      1.000000      0.000000      0.000000      3.000000   \n",
       "50%    7.616000e+03      1.500000      0.000000      0.000000      3.000000   \n",
       "75%    1.067200e+04      2.000000      0.000000      0.000000      4.000000   \n",
       "max    1.651359e+06      3.500000      1.000000      4.000000      5.000000   \n",
       "\n",
       "              grade    sqft_above  sqft_basement      yr_built  yr_renovated  \\\n",
       "count  21597.000000  21521.000000   21367.000000  21597.000000  21597.000000   \n",
       "mean       7.657915   1788.564937     289.867553   1970.999676     84.464787   \n",
       "std        1.173200    827.966953     441.724304     29.375234    401.821438   \n",
       "min        3.000000    370.000000       0.000000   1900.000000      0.000000   \n",
       "25%        7.000000   1190.000000       0.000000   1951.000000      0.000000   \n",
       "50%        7.000000   1560.000000       0.000000   1975.000000      0.000000   \n",
       "75%        8.000000   2210.000000     560.000000   1997.000000      0.000000   \n",
       "max       13.000000   9410.000000    4820.000000   2015.000000   2015.000000   \n",
       "\n",
       "            zipcode           lat          long  sqft_living15     sqft_lot15  \n",
       "count  21316.000000  21352.000000  21352.000000   21417.000000   21579.000000  \n",
       "mean   98078.499156     47.561143   -122.214150    1985.673297   12753.935586  \n",
       "std       53.991122      0.138844      0.140353     684.480004   27271.039053  \n",
       "min    98001.000000     47.155900   -122.519000     399.000000     651.000000  \n",
       "25%    98033.000000     47.469950   -122.328000    1490.000000    5100.000000  \n",
       "50%    98065.000000     47.573450   -122.231000    1840.000000    7620.000000  \n",
       "75%    98118.000000     47.679700   -122.123000    2360.000000   10080.000000  \n",
       "max    98199.000000     47.777600   -121.315000    6210.000000  871200.000000  "
      ]
     },
     "execution_count": 6,
     "metadata": {},
     "output_type": "execute_result"
    }
   ],
   "source": [
    "house.describe()"
   ]
  },
  {
   "cell_type": "code",
   "execution_count": 7,
   "metadata": {},
   "outputs": [
    {
     "data": {
      "text/plain": [
       "Index(['id', 'date', 'price', 'bedrooms', 'bathrooms', 'sqft_living',\n",
       "       'sqft_lot', 'floors', 'waterfront', 'view', 'condition', 'grade',\n",
       "       'sqft_above', 'sqft_basement', 'yr_built', 'yr_renovated', 'zipcode',\n",
       "       'lat', 'long', 'sqft_living15', 'sqft_lot15'],\n",
       "      dtype='object')"
      ]
     },
     "execution_count": 7,
     "metadata": {},
     "output_type": "execute_result"
    }
   ],
   "source": [
    "house.columns"
   ]
  },
  {
   "cell_type": "markdown",
   "metadata": {},
   "source": [
    "Transformation : Mapping or OHE the features"
   ]
  },
  {
   "cell_type": "code",
   "execution_count": 8,
   "metadata": {
    "scrolled": false
   },
   "outputs": [
    {
     "data": {
      "text/plain": [
       "Index(['id', 'date', 'price', 'bedrooms', 'bathrooms', 'sqft_living',\n",
       "       'sqft_lot', 'floors', 'waterfront', 'view', 'condition', 'grade',\n",
       "       'sqft_above', 'sqft_basement', 'yr_built', 'yr_renovated', 'zipcode',\n",
       "       'lat', 'long', 'sqft_living15', 'sqft_lot15'],\n",
       "      dtype='object')"
      ]
     },
     "execution_count": 8,
     "metadata": {},
     "output_type": "execute_result"
    }
   ],
   "source": [
    "house.columns"
   ]
  },
  {
   "cell_type": "markdown",
   "metadata": {},
   "source": [
    "House which has a view to a waterfront, Yes = 1 or No = 0."
   ]
  },
  {
   "cell_type": "code",
   "execution_count": 9,
   "metadata": {},
   "outputs": [
    {
     "data": {
      "text/plain": [
       "array([ 0.,  1., nan])"
      ]
     },
     "execution_count": 9,
     "metadata": {},
     "output_type": "execute_result"
    }
   ],
   "source": [
    "house['waterfront'].unique()"
   ]
  },
  {
   "cell_type": "markdown",
   "metadata": {},
   "source": [
    "Given: Has been viewed\n",
    "\n",
    "Assumption: Number of times house has been viewed, cateforical but not ordinal hence ONE HOT ENCODING is preformed"
   ]
  },
  {
   "cell_type": "code",
   "execution_count": 10,
   "metadata": {
    "scrolled": true
   },
   "outputs": [
    {
     "data": {
      "text/plain": [
       "array([0, 3, 4, 2, 1], dtype=int64)"
      ]
     },
     "execution_count": 10,
     "metadata": {},
     "output_type": "execute_result"
    }
   ],
   "source": [
    "house['view'].unique()"
   ]
  },
  {
   "cell_type": "code",
   "execution_count": 11,
   "metadata": {},
   "outputs": [],
   "source": [
    "#view = pd.get_dummies(house['view'],prefix= 'view')"
   ]
  },
  {
   "cell_type": "markdown",
   "metadata": {},
   "source": [
    "Given: How good the condition of the house is (Overall), 1 indicates worn out property and 5 excellent. \n",
    "\n",
    "Assumption: 1 as worn out, 2 as decent, 3 as good, 4 as great, 5 as excellent. Since the data is categorical and ordinal, mapping is performed"
   ]
  },
  {
   "cell_type": "code",
   "execution_count": 12,
   "metadata": {},
   "outputs": [
    {
     "data": {
      "text/plain": [
       "array([3, 5, 4, 1, 2], dtype=int64)"
      ]
     },
     "execution_count": 12,
     "metadata": {},
     "output_type": "execute_result"
    }
   ],
   "source": [
    "house['condition'].unique()"
   ]
  },
  {
   "cell_type": "code",
   "execution_count": 13,
   "metadata": {},
   "outputs": [],
   "source": [
    "condition = pd.get_dummies(house['condition'],prefix= 'condition',drop_first=True)"
   ]
  },
  {
   "cell_type": "markdown",
   "metadata": {},
   "source": [
    "Given: Overall grade given to the housing unit, based on King County grading system. Classification by construction quality which refers to the types of materials used and the quality of workmanship. Buildings of better quality (higher grade) cost more to build per unit of measure and command higher value. 1 poor ,13 excellent.\n",
    "\n",
    "Assumption: grouping as 1 = minimum/poor (1-3) , 2 = low quality (4-6), 3 = average (7-8), 4 = better/high (9-10) , 5 = excellent (11-13). Since the data is categorical but ordinal, mapping is performed"
   ]
  },
  {
   "cell_type": "code",
   "execution_count": 14,
   "metadata": {},
   "outputs": [
    {
     "data": {
      "text/plain": [
       "array([ 7,  6,  8, 11,  9,  5, 10, 12,  4,  3, 13], dtype=int64)"
      ]
     },
     "execution_count": 14,
     "metadata": {},
     "output_type": "execute_result"
    }
   ],
   "source": [
    "house['grade'].unique()"
   ]
  },
  {
   "cell_type": "code",
   "execution_count": 15,
   "metadata": {},
   "outputs": [],
   "source": [
    "house.loc[house['grade'] == 3, 'grade'] = 1\n",
    "house.loc[house['grade'] == 4, 'grade'] = 2\n",
    "house.loc[house['grade'] == 5, 'grade'] = 2\n",
    "house.loc[house['grade'] == 6, 'grade'] = 2\n",
    "house.loc[house['grade'] == 7, 'grade'] = 3\n",
    "house.loc[house['grade'] == 8, 'grade'] = 3\n",
    "house.loc[house['grade'] == 9, 'grade'] = 4\n",
    "house.loc[house['grade'] == 10, 'grade'] = 4\n",
    "house.loc[house['grade'] == 11, 'grade'] = 5\n",
    "house.loc[house['grade'] == 12, 'grade'] = 5\n",
    "house.loc[house['grade'] == 13, 'grade'] = 5"
   ]
  },
  {
   "cell_type": "code",
   "execution_count": 16,
   "metadata": {},
   "outputs": [],
   "source": [
    "grade = pd.get_dummies(house['grade'],prefix= 'grade',drop_first=True)"
   ]
  },
  {
   "cell_type": "markdown",
   "metadata": {},
   "source": [
    "Concating all the dummies into the dataset"
   ]
  },
  {
   "cell_type": "code",
   "execution_count": 17,
   "metadata": {},
   "outputs": [],
   "source": [
    "dummies = pd.concat([condition,grade],axis=1)\n",
    "\n",
    "dummies = dummies.astype('int64')"
   ]
  },
  {
   "cell_type": "code",
   "execution_count": 18,
   "metadata": {},
   "outputs": [],
   "source": [
    "house = house.drop(columns =['condition','grade'])"
   ]
  },
  {
   "cell_type": "code",
   "execution_count": 19,
   "metadata": {},
   "outputs": [],
   "source": [
    "house = pd.concat([house,dummies],axis=1)"
   ]
  },
  {
   "cell_type": "code",
   "execution_count": 20,
   "metadata": {},
   "outputs": [
    {
     "data": {
      "text/plain": [
       "(21597, 27)"
      ]
     },
     "execution_count": 20,
     "metadata": {},
     "output_type": "execute_result"
    }
   ],
   "source": [
    "house.shape"
   ]
  },
  {
   "cell_type": "markdown",
   "metadata": {},
   "source": [
    "Converting this columns into a categorical column representing whether the house under went any renovated or not. Since the '0's are assumed to represent lack of renovation. This conversion can provide valuable insight into how the price of the house varies with the renovation factor"
   ]
  },
  {
   "cell_type": "code",
   "execution_count": 21,
   "metadata": {
    "scrolled": false
   },
   "outputs": [
    {
     "data": {
      "text/plain": [
       "array([   0, 1991, 2002, 2010, 1999, 1992, 2013, 1994, 1978, 2005, 2008,\n",
       "       2003, 1984, 1954, 2014, 2011, 1974, 1983, 1945, 1990, 1988, 1957,\n",
       "       1977, 1981, 1995, 2000, 1998, 1970, 1989, 2004, 1986, 2009, 2007,\n",
       "       1987, 1973, 2006, 1985, 2001, 1980, 1971, 1979, 1997, 1950, 1969,\n",
       "       1948, 2015, 1968, 2012, 1963, 1951, 1993, 1962, 1996, 1972, 1953,\n",
       "       1955, 1982, 1956, 1940, 1976, 1946, 1975, 1958, 1964, 1959, 1960,\n",
       "       1967, 1965, 1934, 1944], dtype=int64)"
      ]
     },
     "execution_count": 21,
     "metadata": {},
     "output_type": "execute_result"
    }
   ],
   "source": [
    "house['yr_renovated'].unique()"
   ]
  },
  {
   "cell_type": "code",
   "execution_count": 22,
   "metadata": {},
   "outputs": [],
   "source": [
    "house.loc[(house['yr_renovated'] > 0),'yr_renovated']= 1"
   ]
  },
  {
   "cell_type": "code",
   "execution_count": 23,
   "metadata": {},
   "outputs": [],
   "source": [
    "house.rename(columns = {'yr_renovated':'renovated'}, inplace = True)"
   ]
  },
  {
   "cell_type": "code",
   "execution_count": 24,
   "metadata": {},
   "outputs": [
    {
     "data": {
      "text/plain": [
       "Index(['id', 'date', 'price', 'bedrooms', 'bathrooms', 'sqft_living',\n",
       "       'sqft_lot', 'floors', 'waterfront', 'view', 'sqft_above',\n",
       "       'sqft_basement', 'yr_built', 'renovated', 'zipcode', 'lat', 'long',\n",
       "       'sqft_living15', 'sqft_lot15', 'condition_2', 'condition_3',\n",
       "       'condition_4', 'condition_5', 'grade_2', 'grade_3', 'grade_4',\n",
       "       'grade_5'],\n",
       "      dtype='object')"
      ]
     },
     "execution_count": 24,
     "metadata": {},
     "output_type": "execute_result"
    }
   ],
   "source": [
    "house.columns"
   ]
  },
  {
   "cell_type": "markdown",
   "metadata": {},
   "source": [
    "Creating a new columns Age (year of sales - year buit), to analysis whether the Age of the house causes the price to vary"
   ]
  },
  {
   "cell_type": "code",
   "execution_count": 25,
   "metadata": {},
   "outputs": [],
   "source": [
    "house['date'] = pd.to_datetime(house['date']) #converting to datatime\n",
    "house['year'] = house['date'].dt.year #extracting the year from the date\n",
    "\n",
    "house['Age'] = house['year']-house['yr_built'] #calculating the age of the house"
   ]
  },
  {
   "cell_type": "code",
   "execution_count": 26,
   "metadata": {},
   "outputs": [
    {
     "data": {
      "text/plain": [
       "(21597, 29)"
      ]
     },
     "execution_count": 26,
     "metadata": {},
     "output_type": "execute_result"
    }
   ],
   "source": [
    "house.shape"
   ]
  },
  {
   "cell_type": "code",
   "execution_count": 27,
   "metadata": {
    "scrolled": false
   },
   "outputs": [
    {
     "data": {
      "text/plain": [
       "id                        int64\n",
       "date             datetime64[ns]\n",
       "price                   float64\n",
       "bedrooms                float64\n",
       "bathrooms               float64\n",
       "sqft_living             float64\n",
       "sqft_lot                float64\n",
       "floors                  float64\n",
       "waterfront              float64\n",
       "view                      int64\n",
       "sqft_above              float64\n",
       "sqft_basement           float64\n",
       "yr_built                  int64\n",
       "renovated                 int64\n",
       "zipcode                 float64\n",
       "lat                     float64\n",
       "long                    float64\n",
       "sqft_living15           float64\n",
       "sqft_lot15              float64\n",
       "condition_2               int64\n",
       "condition_3               int64\n",
       "condition_4               int64\n",
       "condition_5               int64\n",
       "grade_2                   int64\n",
       "grade_3                   int64\n",
       "grade_4                   int64\n",
       "grade_5                   int64\n",
       "year                      int64\n",
       "Age                       int64\n",
       "dtype: object"
      ]
     },
     "execution_count": 27,
     "metadata": {},
     "output_type": "execute_result"
    }
   ],
   "source": [
    "house.dtypes"
   ]
  },
  {
   "cell_type": "markdown",
   "metadata": {},
   "source": [
    "Check for Missing Value"
   ]
  },
  {
   "cell_type": "code",
   "execution_count": 28,
   "metadata": {},
   "outputs": [
    {
     "data": {
      "text/plain": [
       "id                 0\n",
       "date               0\n",
       "price              0\n",
       "bedrooms          71\n",
       "bathrooms         53\n",
       "sqft_living       25\n",
       "sqft_lot         114\n",
       "floors             0\n",
       "waterfront        87\n",
       "view               0\n",
       "sqft_above        76\n",
       "sqft_basement    230\n",
       "yr_built           0\n",
       "renovated          0\n",
       "zipcode          281\n",
       "lat              245\n",
       "long             245\n",
       "sqft_living15    180\n",
       "sqft_lot15        18\n",
       "condition_2        0\n",
       "condition_3        0\n",
       "condition_4        0\n",
       "condition_5        0\n",
       "grade_2            0\n",
       "grade_3            0\n",
       "grade_4            0\n",
       "grade_5            0\n",
       "year               0\n",
       "Age                0\n",
       "dtype: int64"
      ]
     },
     "execution_count": 28,
     "metadata": {},
     "output_type": "execute_result"
    }
   ],
   "source": [
    "house.isnull().sum()"
   ]
  },
  {
   "cell_type": "code",
   "execution_count": 29,
   "metadata": {},
   "outputs": [
    {
     "data": {
      "text/html": [
       "<div>\n",
       "<style scoped>\n",
       "    .dataframe tbody tr th:only-of-type {\n",
       "        vertical-align: middle;\n",
       "    }\n",
       "\n",
       "    .dataframe tbody tr th {\n",
       "        vertical-align: top;\n",
       "    }\n",
       "\n",
       "    .dataframe thead th {\n",
       "        text-align: right;\n",
       "    }\n",
       "</style>\n",
       "<table border=\"1\" class=\"dataframe\">\n",
       "  <thead>\n",
       "    <tr style=\"text-align: right;\">\n",
       "      <th></th>\n",
       "      <th>Total</th>\n",
       "      <th>Percent</th>\n",
       "    </tr>\n",
       "  </thead>\n",
       "  <tbody>\n",
       "    <tr>\n",
       "      <th>zipcode</th>\n",
       "      <td>281</td>\n",
       "      <td>0.013011</td>\n",
       "    </tr>\n",
       "    <tr>\n",
       "      <th>long</th>\n",
       "      <td>245</td>\n",
       "      <td>0.011344</td>\n",
       "    </tr>\n",
       "    <tr>\n",
       "      <th>lat</th>\n",
       "      <td>245</td>\n",
       "      <td>0.011344</td>\n",
       "    </tr>\n",
       "    <tr>\n",
       "      <th>sqft_basement</th>\n",
       "      <td>230</td>\n",
       "      <td>0.010650</td>\n",
       "    </tr>\n",
       "    <tr>\n",
       "      <th>sqft_living15</th>\n",
       "      <td>180</td>\n",
       "      <td>0.008334</td>\n",
       "    </tr>\n",
       "    <tr>\n",
       "      <th>sqft_lot</th>\n",
       "      <td>114</td>\n",
       "      <td>0.005279</td>\n",
       "    </tr>\n",
       "    <tr>\n",
       "      <th>waterfront</th>\n",
       "      <td>87</td>\n",
       "      <td>0.004028</td>\n",
       "    </tr>\n",
       "    <tr>\n",
       "      <th>sqft_above</th>\n",
       "      <td>76</td>\n",
       "      <td>0.003519</td>\n",
       "    </tr>\n",
       "    <tr>\n",
       "      <th>bedrooms</th>\n",
       "      <td>71</td>\n",
       "      <td>0.003287</td>\n",
       "    </tr>\n",
       "    <tr>\n",
       "      <th>bathrooms</th>\n",
       "      <td>53</td>\n",
       "      <td>0.002454</td>\n",
       "    </tr>\n",
       "    <tr>\n",
       "      <th>sqft_living</th>\n",
       "      <td>25</td>\n",
       "      <td>0.001158</td>\n",
       "    </tr>\n",
       "    <tr>\n",
       "      <th>sqft_lot15</th>\n",
       "      <td>18</td>\n",
       "      <td>0.000833</td>\n",
       "    </tr>\n",
       "  </tbody>\n",
       "</table>\n",
       "</div>"
      ],
      "text/plain": [
       "               Total   Percent\n",
       "zipcode          281  0.013011\n",
       "long             245  0.011344\n",
       "lat              245  0.011344\n",
       "sqft_basement    230  0.010650\n",
       "sqft_living15    180  0.008334\n",
       "sqft_lot         114  0.005279\n",
       "waterfront        87  0.004028\n",
       "sqft_above        76  0.003519\n",
       "bedrooms          71  0.003287\n",
       "bathrooms         53  0.002454\n",
       "sqft_living       25  0.001158\n",
       "sqft_lot15        18  0.000833"
      ]
     },
     "execution_count": 29,
     "metadata": {},
     "output_type": "execute_result"
    },
    {
     "data": {
      "image/png": "[encoded data removed]",
      "text/plain": [
       "<Figure size 2160x864 with 1 Axes>"
      ]
     },
     "metadata": {
      "needs_background": "light"
     },
     "output_type": "display_data"
    }
   ],
   "source": [
    "total = house.isnull().sum().sort_values(ascending=False)\n",
    "percent = (house.isnull().sum()/house.isnull().count()).sort_values(ascending=False)\n",
    "missing_data = pd.concat([total, percent], axis=1, keys=['Total', 'Percent'])\n",
    "f, ax = plt.subplots(figsize=(30, 12))\n",
    "plt.xticks(rotation='90')\n",
    "sns.barplot(x=missing_data.index, y=missing_data['Percent'])\n",
    "plt.xlabel('Features', fontsize=15)\n",
    "plt.ylabel('Percent of missing values', fontsize=17)\n",
    "plt.title('Percent missing data by feature', fontsize=17)\n",
    "\n",
    "missing_data.head(12)"
   ]
  },
  {
   "cell_type": "code",
   "execution_count": 30,
   "metadata": {
    "scrolled": true
   },
   "outputs": [
    {
     "name": "stdout",
     "output_type": "stream",
     "text": [
      "The percentage of missing value in the dataset is: 8%\n"
     ]
    }
   ],
   "source": [
    "missing_values = house.isna()\n",
    "m = missing_values.sum().sum()\n",
    "percentofmissing = (m/len(house))*100\n",
    "print('The percentage of missing value in the dataset is: {:.0f}%'.format(percentofmissing))"
   ]
  },
  {
   "cell_type": "markdown",
   "metadata": {},
   "source": [
    "Dropping columns are considered to be insignificant and can produce meaningless information when added to a model\n",
    "\n",
    "1. zipcode, lat, long are categorical variables that represent location but are too large in categories to bin/reassign to get meaningful insights, hence are dropped. \n",
    "\n",
    "2. Date, yr_buit are dropped since valuable insights that these columns have to offer, are inferred from the Age column that has been added as a feature (sales date - year built = Age of the house)\n",
    "\n",
    "3. ID is dropped since it's insignficant for the business problem"
   ]
  },
  {
   "cell_type": "code",
   "execution_count": 31,
   "metadata": {
    "scrolled": true
   },
   "outputs": [],
   "source": [
    "house = house.drop(columns=['id','date','yr_built','zipcode','lat','long'])"
   ]
  },
  {
   "cell_type": "code",
   "execution_count": 32,
   "metadata": {},
   "outputs": [
    {
     "data": {
      "text/plain": [
       "(21597, 23)"
      ]
     },
     "execution_count": 32,
     "metadata": {},
     "output_type": "execute_result"
    }
   ],
   "source": [
    "house.shape"
   ]
  },
  {
   "cell_type": "code",
   "execution_count": 33,
   "metadata": {
    "scrolled": false
   },
   "outputs": [
    {
     "data": {
      "text/plain": [
       "price              0\n",
       "bedrooms          71\n",
       "bathrooms         53\n",
       "sqft_living       25\n",
       "sqft_lot         114\n",
       "floors             0\n",
       "waterfront        87\n",
       "view               0\n",
       "sqft_above        76\n",
       "sqft_basement    230\n",
       "renovated          0\n",
       "sqft_living15    180\n",
       "sqft_lot15        18\n",
       "condition_2        0\n",
       "condition_3        0\n",
       "condition_4        0\n",
       "condition_5        0\n",
       "grade_2            0\n",
       "grade_3            0\n",
       "grade_4            0\n",
       "grade_5            0\n",
       "year               0\n",
       "Age                0\n",
       "dtype: int64"
      ]
     },
     "execution_count": 33,
     "metadata": {},
     "output_type": "execute_result"
    }
   ],
   "source": [
    "house.isnull().sum()"
   ]
  },
  {
   "cell_type": "code",
   "execution_count": 34,
   "metadata": {
    "scrolled": true
   },
   "outputs": [
    {
     "data": {
      "text/plain": [
       "count    21526.000000\n",
       "mean         3.373270\n",
       "std          0.926818\n",
       "min          1.000000\n",
       "25%          3.000000\n",
       "50%          3.000000\n",
       "75%          4.000000\n",
       "max         33.000000\n",
       "Name: bedrooms, dtype: float64"
      ]
     },
     "execution_count": 34,
     "metadata": {},
     "output_type": "execute_result"
    }
   ],
   "source": [
    "house.bedrooms.describe()"
   ]
  },
  {
   "cell_type": "code",
   "execution_count": 35,
   "metadata": {},
   "outputs": [
    {
     "data": {
      "text/plain": [
       "array([ 3.,  2.,  4.,  5., nan,  1.,  6.,  7.,  8.,  9., 11., 10., 33.])"
      ]
     },
     "execution_count": 35,
     "metadata": {},
     "output_type": "execute_result"
    }
   ],
   "source": [
    "house.bedrooms.unique()"
   ]
  },
  {
   "cell_type": "markdown",
   "metadata": {},
   "source": [
    "Since bedroom seems to have large outliers, missing values are imputed using median"
   ]
  },
  {
   "cell_type": "code",
   "execution_count": 36,
   "metadata": {},
   "outputs": [],
   "source": [
    "house['bedrooms'].fillna(house['bedrooms'].median(), inplace=True)"
   ]
  },
  {
   "cell_type": "code",
   "execution_count": 37,
   "metadata": {},
   "outputs": [],
   "source": [
    "h1 = house.groupby('bedrooms')"
   ]
  },
  {
   "cell_type": "code",
   "execution_count": 38,
   "metadata": {
    "scrolled": false
   },
   "outputs": [
    {
     "data": {
      "text/html": [
       "<div>\n",
       "<style scoped>\n",
       "    .dataframe tbody tr th:only-of-type {\n",
       "        vertical-align: middle;\n",
       "    }\n",
       "\n",
       "    .dataframe tbody tr th {\n",
       "        vertical-align: top;\n",
       "    }\n",
       "\n",
       "    .dataframe thead th {\n",
       "        text-align: right;\n",
       "    }\n",
       "</style>\n",
       "<table border=\"1\" class=\"dataframe\">\n",
       "  <thead>\n",
       "    <tr style=\"text-align: right;\">\n",
       "      <th></th>\n",
       "      <th>price</th>\n",
       "      <th>bathrooms</th>\n",
       "      <th>sqft_living</th>\n",
       "      <th>sqft_lot</th>\n",
       "      <th>floors</th>\n",
       "      <th>waterfront</th>\n",
       "      <th>view</th>\n",
       "      <th>sqft_above</th>\n",
       "      <th>sqft_basement</th>\n",
       "      <th>renovated</th>\n",
       "      <th>...</th>\n",
       "      <th>condition_2</th>\n",
       "      <th>condition_3</th>\n",
       "      <th>condition_4</th>\n",
       "      <th>condition_5</th>\n",
       "      <th>grade_2</th>\n",
       "      <th>grade_3</th>\n",
       "      <th>grade_4</th>\n",
       "      <th>grade_5</th>\n",
       "      <th>year</th>\n",
       "      <th>Age</th>\n",
       "    </tr>\n",
       "    <tr>\n",
       "      <th>bedrooms</th>\n",
       "      <th></th>\n",
       "      <th></th>\n",
       "      <th></th>\n",
       "      <th></th>\n",
       "      <th></th>\n",
       "      <th></th>\n",
       "      <th></th>\n",
       "      <th></th>\n",
       "      <th></th>\n",
       "      <th></th>\n",
       "      <th></th>\n",
       "      <th></th>\n",
       "      <th></th>\n",
       "      <th></th>\n",
       "      <th></th>\n",
       "      <th></th>\n",
       "      <th></th>\n",
       "      <th></th>\n",
       "      <th></th>\n",
       "      <th></th>\n",
       "      <th></th>\n",
       "    </tr>\n",
       "  </thead>\n",
       "  <tbody>\n",
       "    <tr>\n",
       "      <th>1.0</th>\n",
       "      <td>350000.0</td>\n",
       "      <td>1.00</td>\n",
       "      <td>700.0</td>\n",
       "      <td>5100.0</td>\n",
       "      <td>1.0</td>\n",
       "      <td>0.0</td>\n",
       "      <td>0</td>\n",
       "      <td>700.0</td>\n",
       "      <td>0.0</td>\n",
       "      <td>0</td>\n",
       "      <td>...</td>\n",
       "      <td>0</td>\n",
       "      <td>1</td>\n",
       "      <td>0</td>\n",
       "      <td>0</td>\n",
       "      <td>0</td>\n",
       "      <td>1</td>\n",
       "      <td>0</td>\n",
       "      <td>0</td>\n",
       "      <td>2014</td>\n",
       "      <td>72</td>\n",
       "    </tr>\n",
       "    <tr>\n",
       "      <th>2.0</th>\n",
       "      <td>180000.0</td>\n",
       "      <td>1.00</td>\n",
       "      <td>770.0</td>\n",
       "      <td>10000.0</td>\n",
       "      <td>1.0</td>\n",
       "      <td>0.0</td>\n",
       "      <td>0</td>\n",
       "      <td>770.0</td>\n",
       "      <td>0.0</td>\n",
       "      <td>0</td>\n",
       "      <td>...</td>\n",
       "      <td>0</td>\n",
       "      <td>1</td>\n",
       "      <td>0</td>\n",
       "      <td>0</td>\n",
       "      <td>1</td>\n",
       "      <td>0</td>\n",
       "      <td>0</td>\n",
       "      <td>0</td>\n",
       "      <td>2015</td>\n",
       "      <td>82</td>\n",
       "    </tr>\n",
       "    <tr>\n",
       "      <th>3.0</th>\n",
       "      <td>221900.0</td>\n",
       "      <td>1.00</td>\n",
       "      <td>1180.0</td>\n",
       "      <td>5650.0</td>\n",
       "      <td>1.0</td>\n",
       "      <td>0.0</td>\n",
       "      <td>0</td>\n",
       "      <td>1180.0</td>\n",
       "      <td>0.0</td>\n",
       "      <td>0</td>\n",
       "      <td>...</td>\n",
       "      <td>0</td>\n",
       "      <td>1</td>\n",
       "      <td>0</td>\n",
       "      <td>0</td>\n",
       "      <td>0</td>\n",
       "      <td>1</td>\n",
       "      <td>0</td>\n",
       "      <td>0</td>\n",
       "      <td>2014</td>\n",
       "      <td>59</td>\n",
       "    </tr>\n",
       "    <tr>\n",
       "      <th>4.0</th>\n",
       "      <td>604000.0</td>\n",
       "      <td>3.00</td>\n",
       "      <td>1960.0</td>\n",
       "      <td>8075.0</td>\n",
       "      <td>1.0</td>\n",
       "      <td>0.0</td>\n",
       "      <td>0</td>\n",
       "      <td>1050.0</td>\n",
       "      <td>910.0</td>\n",
       "      <td>0</td>\n",
       "      <td>...</td>\n",
       "      <td>0</td>\n",
       "      <td>0</td>\n",
       "      <td>0</td>\n",
       "      <td>1</td>\n",
       "      <td>0</td>\n",
       "      <td>1</td>\n",
       "      <td>0</td>\n",
       "      <td>0</td>\n",
       "      <td>2014</td>\n",
       "      <td>49</td>\n",
       "    </tr>\n",
       "    <tr>\n",
       "      <th>5.0</th>\n",
       "      <td>530000.0</td>\n",
       "      <td>2.00</td>\n",
       "      <td>1810.0</td>\n",
       "      <td>5639.0</td>\n",
       "      <td>1.5</td>\n",
       "      <td>0.0</td>\n",
       "      <td>0</td>\n",
       "      <td>1600.0</td>\n",
       "      <td>0.0</td>\n",
       "      <td>0</td>\n",
       "      <td>...</td>\n",
       "      <td>0</td>\n",
       "      <td>1</td>\n",
       "      <td>0</td>\n",
       "      <td>0</td>\n",
       "      <td>0</td>\n",
       "      <td>1</td>\n",
       "      <td>0</td>\n",
       "      <td>0</td>\n",
       "      <td>2015</td>\n",
       "      <td>115</td>\n",
       "    </tr>\n",
       "    <tr>\n",
       "      <th>6.0</th>\n",
       "      <td>464000.0</td>\n",
       "      <td>3.00</td>\n",
       "      <td>2300.0</td>\n",
       "      <td>3404.0</td>\n",
       "      <td>2.0</td>\n",
       "      <td>0.0</td>\n",
       "      <td>0</td>\n",
       "      <td>1600.0</td>\n",
       "      <td>700.0</td>\n",
       "      <td>1</td>\n",
       "      <td>...</td>\n",
       "      <td>0</td>\n",
       "      <td>1</td>\n",
       "      <td>0</td>\n",
       "      <td>0</td>\n",
       "      <td>0</td>\n",
       "      <td>1</td>\n",
       "      <td>0</td>\n",
       "      <td>0</td>\n",
       "      <td>2014</td>\n",
       "      <td>94</td>\n",
       "    </tr>\n",
       "    <tr>\n",
       "      <th>7.0</th>\n",
       "      <td>1950000.0</td>\n",
       "      <td>3.50</td>\n",
       "      <td>4640.0</td>\n",
       "      <td>15235.0</td>\n",
       "      <td>2.0</td>\n",
       "      <td>0.0</td>\n",
       "      <td>1</td>\n",
       "      <td>1690.0</td>\n",
       "      <td>0.0</td>\n",
       "      <td>1</td>\n",
       "      <td>...</td>\n",
       "      <td>0</td>\n",
       "      <td>1</td>\n",
       "      <td>0</td>\n",
       "      <td>0</td>\n",
       "      <td>0</td>\n",
       "      <td>0</td>\n",
       "      <td>0</td>\n",
       "      <td>1</td>\n",
       "      <td>2014</td>\n",
       "      <td>49</td>\n",
       "    </tr>\n",
       "    <tr>\n",
       "      <th>8.0</th>\n",
       "      <td>490000.0</td>\n",
       "      <td>5.00</td>\n",
       "      <td>2800.0</td>\n",
       "      <td>2580.0</td>\n",
       "      <td>2.0</td>\n",
       "      <td>0.0</td>\n",
       "      <td>0</td>\n",
       "      <td>1880.0</td>\n",
       "      <td>920.0</td>\n",
       "      <td>0</td>\n",
       "      <td>...</td>\n",
       "      <td>0</td>\n",
       "      <td>1</td>\n",
       "      <td>0</td>\n",
       "      <td>0</td>\n",
       "      <td>0</td>\n",
       "      <td>1</td>\n",
       "      <td>0</td>\n",
       "      <td>0</td>\n",
       "      <td>2014</td>\n",
       "      <td>17</td>\n",
       "    </tr>\n",
       "    <tr>\n",
       "      <th>9.0</th>\n",
       "      <td>599999.0</td>\n",
       "      <td>4.50</td>\n",
       "      <td>3830.0</td>\n",
       "      <td>6988.0</td>\n",
       "      <td>2.5</td>\n",
       "      <td>0.0</td>\n",
       "      <td>0</td>\n",
       "      <td>2450.0</td>\n",
       "      <td>1380.0</td>\n",
       "      <td>0</td>\n",
       "      <td>...</td>\n",
       "      <td>0</td>\n",
       "      <td>1</td>\n",
       "      <td>0</td>\n",
       "      <td>0</td>\n",
       "      <td>0</td>\n",
       "      <td>1</td>\n",
       "      <td>0</td>\n",
       "      <td>0</td>\n",
       "      <td>2014</td>\n",
       "      <td>76</td>\n",
       "    </tr>\n",
       "    <tr>\n",
       "      <th>10.0</th>\n",
       "      <td>1150000.0</td>\n",
       "      <td>5.25</td>\n",
       "      <td>4590.0</td>\n",
       "      <td>10920.0</td>\n",
       "      <td>1.0</td>\n",
       "      <td>0.0</td>\n",
       "      <td>2</td>\n",
       "      <td>2500.0</td>\n",
       "      <td>2090.0</td>\n",
       "      <td>0</td>\n",
       "      <td>...</td>\n",
       "      <td>0</td>\n",
       "      <td>1</td>\n",
       "      <td>0</td>\n",
       "      <td>0</td>\n",
       "      <td>0</td>\n",
       "      <td>0</td>\n",
       "      <td>1</td>\n",
       "      <td>0</td>\n",
       "      <td>2014</td>\n",
       "      <td>6</td>\n",
       "    </tr>\n",
       "    <tr>\n",
       "      <th>11.0</th>\n",
       "      <td>520000.0</td>\n",
       "      <td>3.00</td>\n",
       "      <td>3000.0</td>\n",
       "      <td>4960.0</td>\n",
       "      <td>2.0</td>\n",
       "      <td>0.0</td>\n",
       "      <td>0</td>\n",
       "      <td>2400.0</td>\n",
       "      <td>600.0</td>\n",
       "      <td>1</td>\n",
       "      <td>...</td>\n",
       "      <td>0</td>\n",
       "      <td>1</td>\n",
       "      <td>0</td>\n",
       "      <td>0</td>\n",
       "      <td>0</td>\n",
       "      <td>1</td>\n",
       "      <td>0</td>\n",
       "      <td>0</td>\n",
       "      <td>2014</td>\n",
       "      <td>96</td>\n",
       "    </tr>\n",
       "    <tr>\n",
       "      <th>33.0</th>\n",
       "      <td>640000.0</td>\n",
       "      <td>1.75</td>\n",
       "      <td>1620.0</td>\n",
       "      <td>6000.0</td>\n",
       "      <td>1.0</td>\n",
       "      <td>0.0</td>\n",
       "      <td>0</td>\n",
       "      <td>1040.0</td>\n",
       "      <td>580.0</td>\n",
       "      <td>0</td>\n",
       "      <td>...</td>\n",
       "      <td>0</td>\n",
       "      <td>0</td>\n",
       "      <td>0</td>\n",
       "      <td>1</td>\n",
       "      <td>0</td>\n",
       "      <td>1</td>\n",
       "      <td>0</td>\n",
       "      <td>0</td>\n",
       "      <td>2014</td>\n",
       "      <td>67</td>\n",
       "    </tr>\n",
       "  </tbody>\n",
       "</table>\n",
       "<p>12 rows × 22 columns</p>\n",
       "</div>"
      ],
      "text/plain": [
       "              price  bathrooms  sqft_living  sqft_lot  floors  waterfront  \\\n",
       "bedrooms                                                                    \n",
       "1.0        350000.0       1.00        700.0    5100.0     1.0         0.0   \n",
       "2.0        180000.0       1.00        770.0   10000.0     1.0         0.0   \n",
       "3.0        221900.0       1.00       1180.0    5650.0     1.0         0.0   \n",
       "4.0        604000.0       3.00       1960.0    8075.0     1.0         0.0   \n",
       "5.0        530000.0       2.00       1810.0    5639.0     1.5         0.0   \n",
       "6.0        464000.0       3.00       2300.0    3404.0     2.0         0.0   \n",
       "7.0       1950000.0       3.50       4640.0   15235.0     2.0         0.0   \n",
       "8.0        490000.0       5.00       2800.0    2580.0     2.0         0.0   \n",
       "9.0        599999.0       4.50       3830.0    6988.0     2.5         0.0   \n",
       "10.0      1150000.0       5.25       4590.0   10920.0     1.0         0.0   \n",
       "11.0       520000.0       3.00       3000.0    4960.0     2.0         0.0   \n",
       "33.0       640000.0       1.75       1620.0    6000.0     1.0         0.0   \n",
       "\n",
       "          view  sqft_above  sqft_basement  renovated ...   condition_2  \\\n",
       "bedrooms                                             ...                 \n",
       "1.0          0       700.0            0.0          0 ...             0   \n",
       "2.0          0       770.0            0.0          0 ...             0   \n",
       "3.0          0      1180.0            0.0          0 ...             0   \n",
       "4.0          0      1050.0          910.0          0 ...             0   \n",
       "5.0          0      1600.0            0.0          0 ...             0   \n",
       "6.0          0      1600.0          700.0          1 ...             0   \n",
       "7.0          1      1690.0            0.0          1 ...             0   \n",
       "8.0          0      1880.0          920.0          0 ...             0   \n",
       "9.0          0      2450.0         1380.0          0 ...             0   \n",
       "10.0         2      2500.0         2090.0          0 ...             0   \n",
       "11.0         0      2400.0          600.0          1 ...             0   \n",
       "33.0         0      1040.0          580.0          0 ...             0   \n",
       "\n",
       "          condition_3  condition_4  condition_5  grade_2  grade_3  grade_4  \\\n",
       "bedrooms                                                                     \n",
       "1.0                 1            0            0        0        1        0   \n",
       "2.0                 1            0            0        1        0        0   \n",
       "3.0                 1            0            0        0        1        0   \n",
       "4.0                 0            0            1        0        1        0   \n",
       "5.0                 1            0            0        0        1        0   \n",
       "6.0                 1            0            0        0        1        0   \n",
       "7.0                 1            0            0        0        0        0   \n",
       "8.0                 1            0            0        0        1        0   \n",
       "9.0                 1            0            0        0        1        0   \n",
       "10.0                1            0            0        0        0        1   \n",
       "11.0                1            0            0        0        1        0   \n",
       "33.0                0            0            1        0        1        0   \n",
       "\n",
       "          grade_5  year  Age  \n",
       "bedrooms                      \n",
       "1.0             0  2014   72  \n",
       "2.0             0  2015   82  \n",
       "3.0             0  2014   59  \n",
       "4.0             0  2014   49  \n",
       "5.0             0  2015  115  \n",
       "6.0             0  2014   94  \n",
       "7.0             1  2014   49  \n",
       "8.0             0  2014   17  \n",
       "9.0             0  2014   76  \n",
       "10.0            0  2014    6  \n",
       "11.0            0  2014   96  \n",
       "33.0            0  2014   67  \n",
       "\n",
       "[12 rows x 22 columns]"
      ]
     },
     "execution_count": 38,
     "metadata": {},
     "output_type": "execute_result"
    }
   ],
   "source": [
    "h1.first()"
   ]
  },
  {
   "cell_type": "markdown",
   "metadata": {},
   "source": [
    "Bathrooms refers to the number of bathrooms per bedrooms. Hence using grouping by the bedrooms, the bathrooms filing values are imputed"
   ]
  },
  {
   "cell_type": "code",
   "execution_count": 39,
   "metadata": {},
   "outputs": [],
   "source": [
    "house['bathrooms'] = house.groupby(['bedrooms'])['bathrooms'].transform( lambda x:x.fillna(x.mean()))"
   ]
  },
  {
   "cell_type": "code",
   "execution_count": 40,
   "metadata": {
    "scrolled": true
   },
   "outputs": [
    {
     "data": {
      "text/plain": [
       "count    21572.000000\n",
       "mean      2080.287920\n",
       "std        918.164282\n",
       "min        370.000000\n",
       "25%       1430.000000\n",
       "50%       1910.000000\n",
       "75%       2550.000000\n",
       "max      13540.000000\n",
       "Name: sqft_living, dtype: float64"
      ]
     },
     "execution_count": 40,
     "metadata": {},
     "output_type": "execute_result"
    }
   ],
   "source": [
    "house['sqft_living'].describe()"
   ]
  },
  {
   "cell_type": "markdown",
   "metadata": {},
   "source": [
    "The data is skewed hence missing values are imputed using median of sqft_living"
   ]
  },
  {
   "cell_type": "code",
   "execution_count": 41,
   "metadata": {},
   "outputs": [],
   "source": [
    "house['sqft_living'].fillna(house['sqft_living'].median(), inplace=True)"
   ]
  },
  {
   "cell_type": "code",
   "execution_count": 42,
   "metadata": {
    "scrolled": true
   },
   "outputs": [
    {
     "data": {
      "text/plain": [
       "count    2.148300e+04\n",
       "mean     1.510421e+04\n",
       "std      4.148688e+04\n",
       "min      5.200000e+02\n",
       "25%      5.040000e+03\n",
       "50%      7.616000e+03\n",
       "75%      1.067200e+04\n",
       "max      1.651359e+06\n",
       "Name: sqft_lot, dtype: float64"
      ]
     },
     "execution_count": 42,
     "metadata": {},
     "output_type": "execute_result"
    }
   ],
   "source": [
    "house['sqft_lot'].describe()"
   ]
  },
  {
   "cell_type": "markdown",
   "metadata": {},
   "source": [
    "The data is skewed hence missing values are imputed using median of sqft_lot"
   ]
  },
  {
   "cell_type": "code",
   "execution_count": 43,
   "metadata": {},
   "outputs": [],
   "source": [
    "house['sqft_lot'].fillna(house['sqft_lot'].median(), inplace=True)"
   ]
  },
  {
   "cell_type": "code",
   "execution_count": 44,
   "metadata": {},
   "outputs": [],
   "source": [
    "house['waterfront'] = house['waterfront'].fillna(house['waterfront'].mode().iloc[0])"
   ]
  },
  {
   "cell_type": "code",
   "execution_count": 45,
   "metadata": {
    "scrolled": false
   },
   "outputs": [
    {
     "data": {
      "text/plain": [
       "count    21521.000000\n",
       "mean      1788.564937\n",
       "std        827.966953\n",
       "min        370.000000\n",
       "25%       1190.000000\n",
       "50%       1560.000000\n",
       "75%       2210.000000\n",
       "max       9410.000000\n",
       "Name: sqft_above, dtype: float64"
      ]
     },
     "execution_count": 45,
     "metadata": {},
     "output_type": "execute_result"
    }
   ],
   "source": [
    "house['sqft_above'].describe()"
   ]
  },
  {
   "cell_type": "code",
   "execution_count": 46,
   "metadata": {},
   "outputs": [
    {
     "data": {
      "text/html": [
       "<div>\n",
       "<style scoped>\n",
       "    .dataframe tbody tr th:only-of-type {\n",
       "        vertical-align: middle;\n",
       "    }\n",
       "\n",
       "    .dataframe tbody tr th {\n",
       "        vertical-align: top;\n",
       "    }\n",
       "\n",
       "    .dataframe thead th {\n",
       "        text-align: right;\n",
       "    }\n",
       "</style>\n",
       "<table border=\"1\" class=\"dataframe\">\n",
       "  <thead>\n",
       "    <tr style=\"text-align: right;\">\n",
       "      <th></th>\n",
       "      <th>bedrooms</th>\n",
       "      <th>bathrooms</th>\n",
       "      <th>sqft_above</th>\n",
       "      <th>sqft_living</th>\n",
       "    </tr>\n",
       "  </thead>\n",
       "  <tbody>\n",
       "    <tr>\n",
       "      <th>bedrooms</th>\n",
       "      <td>1.000000</td>\n",
       "      <td>0.514785</td>\n",
       "      <td>0.479070</td>\n",
       "      <td>0.577387</td>\n",
       "    </tr>\n",
       "    <tr>\n",
       "      <th>bathrooms</th>\n",
       "      <td>0.514785</td>\n",
       "      <td>1.000000</td>\n",
       "      <td>0.686391</td>\n",
       "      <td>0.755048</td>\n",
       "    </tr>\n",
       "    <tr>\n",
       "      <th>sqft_above</th>\n",
       "      <td>0.479070</td>\n",
       "      <td>0.686391</td>\n",
       "      <td>1.000000</td>\n",
       "      <td>0.876182</td>\n",
       "    </tr>\n",
       "    <tr>\n",
       "      <th>sqft_living</th>\n",
       "      <td>0.577387</td>\n",
       "      <td>0.755048</td>\n",
       "      <td>0.876182</td>\n",
       "      <td>1.000000</td>\n",
       "    </tr>\n",
       "  </tbody>\n",
       "</table>\n",
       "</div>"
      ],
      "text/plain": [
       "             bedrooms  bathrooms  sqft_above  sqft_living\n",
       "bedrooms     1.000000   0.514785    0.479070     0.577387\n",
       "bathrooms    0.514785   1.000000    0.686391     0.755048\n",
       "sqft_above   0.479070   0.686391    1.000000     0.876182\n",
       "sqft_living  0.577387   0.755048    0.876182     1.000000"
      ]
     },
     "execution_count": 46,
     "metadata": {},
     "output_type": "execute_result"
    }
   ],
   "source": [
    "core = house[['bedrooms','bathrooms','sqft_above','sqft_living']]\n",
    "core.corr()"
   ]
  },
  {
   "cell_type": "markdown",
   "metadata": {},
   "source": [
    "sqft_above is the total square footage of house apart from the basement. As seen above sqft_above is highly correlated to sqft_living. Hence, imputing missing values in sqft_above by grouping by sqft_living"
   ]
  },
  {
   "cell_type": "code",
   "execution_count": 47,
   "metadata": {},
   "outputs": [],
   "source": [
    "house['sqft_above'] = house.groupby(['sqft_living'])['sqft_above'].transform( lambda x:x.fillna(x.mean()))"
   ]
  },
  {
   "cell_type": "code",
   "execution_count": 48,
   "metadata": {},
   "outputs": [
    {
     "data": {
      "text/plain": [
       "count    21367.000000\n",
       "mean       289.867553\n",
       "std        441.724304\n",
       "min          0.000000\n",
       "25%          0.000000\n",
       "50%          0.000000\n",
       "75%        560.000000\n",
       "max       4820.000000\n",
       "Name: sqft_basement, dtype: float64"
      ]
     },
     "execution_count": 48,
     "metadata": {},
     "output_type": "execute_result"
    }
   ],
   "source": [
    "house['sqft_basement'].describe()"
   ]
  },
  {
   "cell_type": "markdown",
   "metadata": {},
   "source": [
    "50% of sqft_basement has 0's which represent lack of a basement for the house, therefore imputing values by mean or median might not give appropriate results"
   ]
  },
  {
   "cell_type": "code",
   "execution_count": 49,
   "metadata": {
    "scrolled": true
   },
   "outputs": [
    {
     "data": {
      "text/plain": [
       "True     13023\n",
       "False     8574\n",
       "Name: sqft_basement, dtype: int64"
      ]
     },
     "execution_count": 49,
     "metadata": {},
     "output_type": "execute_result"
    }
   ],
   "source": [
    "(house['sqft_basement']==0).value_counts()"
   ]
  },
  {
   "cell_type": "markdown",
   "metadata": {},
   "source": [
    "Creating a columns which indicates whether the house has a basement or not and then imputing using mode"
   ]
  },
  {
   "cell_type": "code",
   "execution_count": 50,
   "metadata": {
    "scrolled": true
   },
   "outputs": [],
   "source": [
    "house.loc[(house['sqft_basement'] > 0),'sqft_basement']= 1"
   ]
  },
  {
   "cell_type": "code",
   "execution_count": 51,
   "metadata": {},
   "outputs": [],
   "source": [
    "house.rename(columns = {'sqft_basement':'basement'}, inplace = True)"
   ]
  },
  {
   "cell_type": "code",
   "execution_count": 52,
   "metadata": {},
   "outputs": [],
   "source": [
    "house['basement'] = house['basement'].fillna(house['basement'].mode().iloc[0])"
   ]
  },
  {
   "cell_type": "code",
   "execution_count": 53,
   "metadata": {},
   "outputs": [
    {
     "data": {
      "text/plain": [
       "count    21417.000000\n",
       "mean      1985.673297\n",
       "std        684.480004\n",
       "min        399.000000\n",
       "25%       1490.000000\n",
       "50%       1840.000000\n",
       "75%       2360.000000\n",
       "max       6210.000000\n",
       "Name: sqft_living15, dtype: float64"
      ]
     },
     "execution_count": 53,
     "metadata": {},
     "output_type": "execute_result"
    }
   ],
   "source": [
    "house['sqft_living15'].describe()"
   ]
  },
  {
   "cell_type": "code",
   "execution_count": 54,
   "metadata": {},
   "outputs": [],
   "source": [
    "house['sqft_living15'].fillna(house['sqft_living15'].mean(), inplace=True)"
   ]
  },
  {
   "cell_type": "code",
   "execution_count": 55,
   "metadata": {},
   "outputs": [],
   "source": [
    "house['sqft_lot15'].fillna(house['sqft_lot15'].mean(), inplace=True)\n",
    "house['sqft_above'].fillna(house['sqft_above'].mean(), inplace=True)"
   ]
  },
  {
   "cell_type": "code",
   "execution_count": 56,
   "metadata": {},
   "outputs": [
    {
     "data": {
      "text/plain": [
       "0"
      ]
     },
     "execution_count": 56,
     "metadata": {},
     "output_type": "execute_result"
    }
   ],
   "source": [
    "house.isnull().sum().sum()"
   ]
  },
  {
   "cell_type": "code",
   "execution_count": 57,
   "metadata": {
    "scrolled": true
   },
   "outputs": [
    {
     "data": {
      "text/plain": [
       "array([ 59,  63,  82,  49,  28,  13,  19,  52,  55,  12,  50,  72,  87,\n",
       "        37, 115,  36,  20,  98,  93,  46,  67,  29,  73,  99, 105,  66,\n",
       "        10,  11,   9,  85,  33,  84,  81, 110,  18,  14,  30,   0,  92,\n",
       "        62,  64,  34,  88,   6,  24,  60,  41,  35,  89,  25,  43,  58,\n",
       "        74,  22,  51,  53,   8,  26,  75,  68,  48,  39, 104,  31, 114,\n",
       "         4,  69,  65,  90,  27, 101,  47,  54, 109,   7,  61,  15,  38,\n",
       "        16, 113,  21,  94,  45, 100, 111,  96,  97,  86, 103,  78,  77,\n",
       "        76, 107,  40,  57, 102,  17,  71,   1,  23,  91,  42,  95,   2,\n",
       "        32,   3,  56,  70,  44, 112,   5,  80,  83, 106, 108,  79,  -1],\n",
       "      dtype=int64)"
      ]
     },
     "execution_count": 57,
     "metadata": {},
     "output_type": "execute_result"
    }
   ],
   "source": [
    "house.Age.unique()"
   ]
  },
  {
   "cell_type": "markdown",
   "metadata": {},
   "source": [
    "Dropping rows where the age is seem to be less than or equal to 0"
   ]
  },
  {
   "cell_type": "code",
   "execution_count": 58,
   "metadata": {},
   "outputs": [],
   "source": [
    "indexNames = house[house['Age'] <= 0 ].index\n",
    " \n",
    "# Delete these row indexes from dataFrame\n",
    "house.drop(indexNames , inplace=True)"
   ]
  },
  {
   "cell_type": "code",
   "execution_count": 59,
   "metadata": {},
   "outputs": [
    {
     "data": {
      "text/plain": [
       "(21155, 23)"
      ]
     },
     "execution_count": 59,
     "metadata": {},
     "output_type": "execute_result"
    }
   ],
   "source": [
    "house.shape"
   ]
  },
  {
   "cell_type": "markdown",
   "metadata": {},
   "source": [
    "Checking for correlation"
   ]
  },
  {
   "cell_type": "code",
   "execution_count": 60,
   "metadata": {
    "scrolled": true
   },
   "outputs": [
    {
     "data": {
      "text/plain": [
       "Index(['price', 'bedrooms', 'bathrooms', 'sqft_living', 'sqft_lot', 'floors',\n",
       "       'waterfront', 'view', 'sqft_above', 'basement', 'renovated',\n",
       "       'sqft_living15', 'sqft_lot15', 'condition_2', 'condition_3',\n",
       "       'condition_4', 'condition_5', 'grade_2', 'grade_3', 'grade_4',\n",
       "       'grade_5', 'year', 'Age'],\n",
       "      dtype='object')"
      ]
     },
     "execution_count": 60,
     "metadata": {},
     "output_type": "execute_result"
    }
   ],
   "source": [
    "house.columns"
   ]
  },
  {
   "cell_type": "code",
   "execution_count": 61,
   "metadata": {},
   "outputs": [
    {
     "name": "stdout",
     "output_type": "stream",
     "text": [
      "Features to be dropped: ['sqft_living', 'sqft_above', 'sqft_living15', 'sqft_lot15']\n"
     ]
    }
   ],
   "source": [
    "#checking for correlation between all the numerical feature variables\n",
    "core = house[['price', 'bedrooms', 'bathrooms', 'sqft_living', 'sqft_lot',\n",
    "       'floors', 'sqft_above', 'sqft_living15', 'sqft_lot15','Age']]\n",
    "\n",
    "# Create correlation matrix\n",
    "corr_matrix = core.corr().abs()\n",
    "\n",
    "# Select upper triangle of correlation matrix\n",
    "upper = corr_matrix.where(np.triu(np.ones(corr_matrix.shape), k=1).astype(np.bool))\n",
    "\n",
    "# Find features with correlation greater than 0.7\n",
    "to_drop = [column for column in upper.columns if any(upper[column] > 0.7)]\n",
    "print('Features to be dropped: {}'.format(to_drop))"
   ]
  },
  {
   "cell_type": "code",
   "execution_count": 62,
   "metadata": {},
   "outputs": [
    {
     "data": {
      "text/html": [
       "<div>\n",
       "<style scoped>\n",
       "    .dataframe tbody tr th:only-of-type {\n",
       "        vertical-align: middle;\n",
       "    }\n",
       "\n",
       "    .dataframe tbody tr th {\n",
       "        vertical-align: top;\n",
       "    }\n",
       "\n",
       "    .dataframe thead th {\n",
       "        text-align: right;\n",
       "    }\n",
       "</style>\n",
       "<table border=\"1\" class=\"dataframe\">\n",
       "  <thead>\n",
       "    <tr style=\"text-align: right;\">\n",
       "      <th></th>\n",
       "      <th>price</th>\n",
       "      <th>bedrooms</th>\n",
       "      <th>bathrooms</th>\n",
       "      <th>sqft_living</th>\n",
       "      <th>sqft_lot</th>\n",
       "      <th>floors</th>\n",
       "      <th>sqft_above</th>\n",
       "      <th>sqft_living15</th>\n",
       "      <th>sqft_lot15</th>\n",
       "      <th>Age</th>\n",
       "    </tr>\n",
       "  </thead>\n",
       "  <tbody>\n",
       "    <tr>\n",
       "      <th>price</th>\n",
       "      <td>1.000000</td>\n",
       "      <td>0.305916</td>\n",
       "      <td>0.523233</td>\n",
       "      <td>0.701032</td>\n",
       "      <td>0.091367</td>\n",
       "      <td>0.255304</td>\n",
       "      <td>0.605020</td>\n",
       "      <td>0.584504</td>\n",
       "      <td>0.084648</td>\n",
       "      <td>-0.043368</td>\n",
       "    </tr>\n",
       "    <tr>\n",
       "      <th>bedrooms</th>\n",
       "      <td>0.305916</td>\n",
       "      <td>1.000000</td>\n",
       "      <td>0.511535</td>\n",
       "      <td>0.573046</td>\n",
       "      <td>0.034142</td>\n",
       "      <td>0.176670</td>\n",
       "      <td>0.472222</td>\n",
       "      <td>0.387169</td>\n",
       "      <td>0.032197</td>\n",
       "      <td>-0.148685</td>\n",
       "    </tr>\n",
       "    <tr>\n",
       "      <th>bathrooms</th>\n",
       "      <td>0.523233</td>\n",
       "      <td>0.511535</td>\n",
       "      <td>1.000000</td>\n",
       "      <td>0.753973</td>\n",
       "      <td>0.092342</td>\n",
       "      <td>0.500760</td>\n",
       "      <td>0.684120</td>\n",
       "      <td>0.566393</td>\n",
       "      <td>0.092764</td>\n",
       "      <td>-0.499958</td>\n",
       "    </tr>\n",
       "    <tr>\n",
       "      <th>sqft_living</th>\n",
       "      <td>0.701032</td>\n",
       "      <td>0.573046</td>\n",
       "      <td>0.753973</td>\n",
       "      <td>1.000000</td>\n",
       "      <td>0.177126</td>\n",
       "      <td>0.354682</td>\n",
       "      <td>0.874201</td>\n",
       "      <td>0.751443</td>\n",
       "      <td>0.188539</td>\n",
       "      <td>-0.311888</td>\n",
       "    </tr>\n",
       "    <tr>\n",
       "      <th>sqft_lot</th>\n",
       "      <td>0.091367</td>\n",
       "      <td>0.034142</td>\n",
       "      <td>0.092342</td>\n",
       "      <td>0.177126</td>\n",
       "      <td>1.000000</td>\n",
       "      <td>0.001805</td>\n",
       "      <td>0.189643</td>\n",
       "      <td>0.147339</td>\n",
       "      <td>0.717645</td>\n",
       "      <td>-0.061365</td>\n",
       "    </tr>\n",
       "    <tr>\n",
       "      <th>floors</th>\n",
       "      <td>0.255304</td>\n",
       "      <td>0.176670</td>\n",
       "      <td>0.500760</td>\n",
       "      <td>0.354682</td>\n",
       "      <td>0.001805</td>\n",
       "      <td>1.000000</td>\n",
       "      <td>0.526852</td>\n",
       "      <td>0.283219</td>\n",
       "      <td>-0.003797</td>\n",
       "      <td>-0.473248</td>\n",
       "    </tr>\n",
       "    <tr>\n",
       "      <th>sqft_above</th>\n",
       "      <td>0.605020</td>\n",
       "      <td>0.472222</td>\n",
       "      <td>0.684120</td>\n",
       "      <td>0.874201</td>\n",
       "      <td>0.189643</td>\n",
       "      <td>0.526852</td>\n",
       "      <td>1.000000</td>\n",
       "      <td>0.727380</td>\n",
       "      <td>0.201256</td>\n",
       "      <td>-0.416528</td>\n",
       "    </tr>\n",
       "    <tr>\n",
       "      <th>sqft_living15</th>\n",
       "      <td>0.584504</td>\n",
       "      <td>0.387169</td>\n",
       "      <td>0.566393</td>\n",
       "      <td>0.751443</td>\n",
       "      <td>0.147339</td>\n",
       "      <td>0.283219</td>\n",
       "      <td>0.727380</td>\n",
       "      <td>1.000000</td>\n",
       "      <td>0.186628</td>\n",
       "      <td>-0.324519</td>\n",
       "    </tr>\n",
       "    <tr>\n",
       "      <th>sqft_lot15</th>\n",
       "      <td>0.084648</td>\n",
       "      <td>0.032197</td>\n",
       "      <td>0.092764</td>\n",
       "      <td>0.188539</td>\n",
       "      <td>0.717645</td>\n",
       "      <td>-0.003797</td>\n",
       "      <td>0.201256</td>\n",
       "      <td>0.186628</td>\n",
       "      <td>1.000000</td>\n",
       "      <td>-0.080451</td>\n",
       "    </tr>\n",
       "    <tr>\n",
       "      <th>Age</th>\n",
       "      <td>-0.043368</td>\n",
       "      <td>-0.148685</td>\n",
       "      <td>-0.499958</td>\n",
       "      <td>-0.311888</td>\n",
       "      <td>-0.061365</td>\n",
       "      <td>-0.473248</td>\n",
       "      <td>-0.416528</td>\n",
       "      <td>-0.324519</td>\n",
       "      <td>-0.080451</td>\n",
       "      <td>1.000000</td>\n",
       "    </tr>\n",
       "  </tbody>\n",
       "</table>\n",
       "</div>"
      ],
      "text/plain": [
       "                  price  bedrooms  bathrooms  sqft_living  sqft_lot    floors  \\\n",
       "price          1.000000  0.305916   0.523233     0.701032  0.091367  0.255304   \n",
       "bedrooms       0.305916  1.000000   0.511535     0.573046  0.034142  0.176670   \n",
       "bathrooms      0.523233  0.511535   1.000000     0.753973  0.092342  0.500760   \n",
       "sqft_living    0.701032  0.573046   0.753973     1.000000  0.177126  0.354682   \n",
       "sqft_lot       0.091367  0.034142   0.092342     0.177126  1.000000  0.001805   \n",
       "floors         0.255304  0.176670   0.500760     0.354682  0.001805  1.000000   \n",
       "sqft_above     0.605020  0.472222   0.684120     0.874201  0.189643  0.526852   \n",
       "sqft_living15  0.584504  0.387169   0.566393     0.751443  0.147339  0.283219   \n",
       "sqft_lot15     0.084648  0.032197   0.092764     0.188539  0.717645 -0.003797   \n",
       "Age           -0.043368 -0.148685  -0.499958    -0.311888 -0.061365 -0.473248   \n",
       "\n",
       "               sqft_above  sqft_living15  sqft_lot15       Age  \n",
       "price            0.605020       0.584504    0.084648 -0.043368  \n",
       "bedrooms         0.472222       0.387169    0.032197 -0.148685  \n",
       "bathrooms        0.684120       0.566393    0.092764 -0.499958  \n",
       "sqft_living      0.874201       0.751443    0.188539 -0.311888  \n",
       "sqft_lot         0.189643       0.147339    0.717645 -0.061365  \n",
       "floors           0.526852       0.283219   -0.003797 -0.473248  \n",
       "sqft_above       1.000000       0.727380    0.201256 -0.416528  \n",
       "sqft_living15    0.727380       1.000000    0.186628 -0.324519  \n",
       "sqft_lot15       0.201256       0.186628    1.000000 -0.080451  \n",
       "Age             -0.416528      -0.324519   -0.080451  1.000000  "
      ]
     },
     "execution_count": 62,
     "metadata": {},
     "output_type": "execute_result"
    }
   ],
   "source": [
    "core.corr()"
   ]
  },
  {
   "cell_type": "markdown",
   "metadata": {},
   "source": [
    "- price is more correlated with sqft_living than sqft_above, sqft_above is dropped\n",
    "- sqft_living15 is dropped since it is highly correlated to sqft_living and less correlated to price in comparision\n",
    "- sqft_lot15 is dropped cause it's highly correlated to sqft_lot and very less correlated to price in comparision"
   ]
  },
  {
   "cell_type": "code",
   "execution_count": 63,
   "metadata": {},
   "outputs": [],
   "source": [
    "house = house.drop(columns = ['sqft_above', 'sqft_living15', 'sqft_lot15'])"
   ]
  },
  {
   "cell_type": "code",
   "execution_count": 64,
   "metadata": {},
   "outputs": [
    {
     "data": {
      "text/plain": [
       "(21155, 20)"
      ]
     },
     "execution_count": 64,
     "metadata": {},
     "output_type": "execute_result"
    }
   ],
   "source": [
    "house.shape"
   ]
  },
  {
   "cell_type": "code",
   "execution_count": 65,
   "metadata": {
    "scrolled": true
   },
   "outputs": [
    {
     "data": {
      "text/plain": [
       "Index(['price', 'bedrooms', 'bathrooms', 'sqft_living', 'sqft_lot', 'floors',\n",
       "       'waterfront', 'view', 'basement', 'renovated', 'condition_2',\n",
       "       'condition_3', 'condition_4', 'condition_5', 'grade_2', 'grade_3',\n",
       "       'grade_4', 'grade_5', 'year', 'Age'],\n",
       "      dtype='object')"
      ]
     },
     "execution_count": 65,
     "metadata": {},
     "output_type": "execute_result"
    }
   ],
   "source": [
    "house.columns"
   ]
  },
  {
   "cell_type": "markdown",
   "metadata": {},
   "source": [
    "Splitting the dataset into train and test"
   ]
  },
  {
   "cell_type": "code",
   "execution_count": 66,
   "metadata": {},
   "outputs": [],
   "source": [
    "X = house.drop(columns = ['price','year'],axis=1)\n",
    "Y = house['price']"
   ]
  },
  {
   "cell_type": "code",
   "execution_count": 67,
   "metadata": {},
   "outputs": [],
   "source": [
    "from sklearn.model_selection import train_test_split\n",
    "X_train, X_test, Y_train, Y_test = train_test_split(X, Y,test_size=0.2)"
   ]
  },
  {
   "cell_type": "code",
   "execution_count": 68,
   "metadata": {},
   "outputs": [
    {
     "name": "stdout",
     "output_type": "stream",
     "text": [
      "X_train shape is :  (16924, 18)\n",
      "X_test shape is :  (4231, 18)\n",
      "Y_train shape is :  (16924,)\n",
      "Y_test shape is :  (4231,)\n"
     ]
    }
   ],
   "source": [
    "print ('X_train shape is : ', X_train.shape)\n",
    "print('X_test shape is : ', X_test.shape)\n",
    "print('Y_train shape is : ', Y_train.shape)\n",
    "print('Y_test shape is : ', Y_test.shape)"
   ]
  },
  {
   "cell_type": "markdown",
   "metadata": {},
   "source": [
    "Scaling "
   ]
  },
  {
   "cell_type": "markdown",
   "metadata": {},
   "source": [
    "Min-Max scaling is the chosen scaling type since it will help in reducing the standard deviation and consequently outliers by converting the dataset with values between 0 and 1. Also since the dataset contains data measured in different units, MinMaxScaler will help the model give equal weightage"
   ]
  },
  {
   "cell_type": "code",
   "execution_count": 69,
   "metadata": {},
   "outputs": [],
   "source": [
    "from sklearn.preprocessing import MinMaxScaler\n",
    "scaler = MinMaxScaler()\n",
    "X_train_scaled = scaler.fit_transform(X_train)\n",
    "X_test_scaled = scaler.transform(X_test)"
   ]
  },
  {
   "cell_type": "markdown",
   "metadata": {},
   "source": [
    "### LINEAR REGRESSION"
   ]
  },
  {
   "cell_type": "code",
   "execution_count": 70,
   "metadata": {},
   "outputs": [
    {
     "name": "stdout",
     "output_type": "stream",
     "text": [
      "0.649739358014843\n",
      "0.6522887708892378\n"
     ]
    }
   ],
   "source": [
    "from sklearn.linear_model import LinearRegression\n",
    "\n",
    "lreg = LinearRegression()\n",
    "lreg.fit(X_train_scaled, Y_train)\n",
    "print(lreg.score(X_train_scaled, Y_train))\n",
    "print(lreg.score(X_test_scaled, Y_test))"
   ]
  },
  {
   "cell_type": "code",
   "execution_count": 71,
   "metadata": {
    "scrolled": false
   },
   "outputs": [
    {
     "name": "stdout",
     "output_type": "stream",
     "text": [
      "The scores are 0.6461318840816255\n"
     ]
    }
   ],
   "source": [
    "from sklearn.model_selection import cross_val_score\n",
    "\n",
    "scores = cross_val_score(lreg, X_train_scaled, Y_train, cv = 10)\n",
    "print('The scores are {}'.format((scores).mean()))"
   ]
  },
  {
   "cell_type": "code",
   "execution_count": 72,
   "metadata": {},
   "outputs": [],
   "source": [
    "lrpred = lreg.predict(X_test_scaled)"
   ]
  },
  {
   "cell_type": "code",
   "execution_count": 73,
   "metadata": {},
   "outputs": [
    {
     "data": {
      "text/plain": [
       "<matplotlib.collections.PathCollection at 0x222fc2278d0>"
      ]
     },
     "execution_count": 73,
     "metadata": {},
     "output_type": "execute_result"
    },
    {
     "data": {
      "image/png": "[encoded data removed]",
      "text/plain": [
       "<Figure size 432x180 with 1 Axes>"
      ]
     },
     "metadata": {
      "needs_background": "light"
     },
     "output_type": "display_data"
    }
   ],
   "source": [
    "pred_val = lrpred\n",
    "true_val = Y_test\n",
    "residual = true_val - pred_val\n",
    "\n",
    "fig, ax = plt.subplots(figsize=(6,2.5))\n",
    "plt.scatter(residual,pred_val,color='r')"
   ]
  },
  {
   "cell_type": "code",
   "execution_count": 74,
   "metadata": {
    "scrolled": true
   },
   "outputs": [
    {
     "data": {
      "text/plain": [
       "0.8202366924546486"
      ]
     },
     "execution_count": 74,
     "metadata": {},
     "output_type": "execute_result"
    },
    {
     "data": {
      "image/png": "[encoded data removed]",
      "text/plain": [
       "<Figure size 432x180 with 1 Axes>"
      ]
     },
     "metadata": {
      "needs_background": "light"
     },
     "output_type": "display_data"
    }
   ],
   "source": [
    "import scipy as sp\n",
    "fig, ax = plt.subplots(figsize=(6,2.5))\n",
    "_, (__, ___, r) = sp.stats.probplot(residual, plot=ax, fit=True)\n",
    "r**2"
   ]
  },
  {
   "cell_type": "markdown",
   "metadata": {},
   "source": [
    "### RIDGE REGRESSION"
   ]
  },
  {
   "cell_type": "code",
   "execution_count": 75,
   "metadata": {},
   "outputs": [
    {
     "name": "stdout",
     "output_type": "stream",
     "text": [
      "The best hyperparameter value from grid search: {'alpha': 0.1}\n",
      "The best train score: 0.65\n"
     ]
    }
   ],
   "source": [
    "from sklearn.linear_model import Ridge\n",
    "from sklearn.model_selection import GridSearchCV\n",
    "\n",
    "ridge=Ridge()\n",
    "para = {'alpha':[0.001, 0.01, 0.1, 1, 5, 10]}\n",
    "\n",
    "grid_search = GridSearchCV(ridge, para, cv = 5)\n",
    "grid_search.fit(X_train_scaled, Y_train)\n",
    "\n",
    "print('The best hyperparameter value from grid search: {}'.format(grid_search.best_params_))\n",
    "print('The best train score: {:.2f}'.format(grid_search.best_score_))"
   ]
  },
  {
   "cell_type": "code",
   "execution_count": 76,
   "metadata": {
    "scrolled": true
   },
   "outputs": [
    {
     "data": {
      "text/plain": [
       "Ridge(alpha=1.0, copy_X=True, fit_intercept=True, max_iter=None,\n",
       "      normalize=False, random_state=None, solver='auto', tol=0.001)"
      ]
     },
     "execution_count": 76,
     "metadata": {},
     "output_type": "execute_result"
    }
   ],
   "source": [
    "ridge.fit(X_train_scaled, Y_train)"
   ]
  },
  {
   "cell_type": "code",
   "execution_count": 77,
   "metadata": {},
   "outputs": [
    {
     "data": {
      "image/png": "[encoded data removed]",
      "text/plain": [
       "<Figure size 432x288 with 1 Axes>"
      ]
     },
     "metadata": {
      "needs_background": "light"
     },
     "output_type": "display_data"
    },
    {
     "name": "stdout",
     "output_type": "stream",
     "text": [
      "train:[0.6497393577566629, 0.6497393322512706, 0.6497368350787667, 0.6495318940676811, 0.6470537224663337, 0.6435751486757735]\n",
      "test:[0.6522883637706602, 0.6522846810894274, 0.6522460577983783, 0.651718636915208, 0.6482901288774454, 0.6440668254615097]\n"
     ]
    }
   ],
   "source": [
    "x_range = [0.001, 0.01, 0.1, 1, 5, 10]\n",
    "train_score_list = []\n",
    "test_score_list = []\n",
    "coefs=[]\n",
    "\n",
    "for alpha in x_range: \n",
    "    ridge = Ridge(alpha)\n",
    "    ridge.fit(X_train_scaled, Y_train)\n",
    "    train_score_list.append(ridge.score(X_train_scaled, Y_train))\n",
    "    test_score_list.append(ridge.score(X_test_scaled, Y_test))\n",
    "    coefs.append(ridge.coef_)\n",
    "\n",
    "ax = plt.gca()\n",
    "\n",
    "ax.plot(x_range, coefs)\n",
    "ax.set_xscale('log')\n",
    "ax.set_xlim(ax.get_xlim())\n",
    "plt.xlabel('alpha')\n",
    "plt.ylabel('coefficients')\n",
    "plt.title('Ridge coefficients as a function of the regularization')\n",
    "plt.axis('tight')\n",
    "plt.show() #coeff vs alpha values\n",
    "print('train:{}'.format(train_score_list))\n",
    "print('test:{}'.format(test_score_list))"
   ]
  },
  {
   "cell_type": "code",
   "execution_count": 78,
   "metadata": {
    "scrolled": true
   },
   "outputs": [
    {
     "name": "stdout",
     "output_type": "stream",
     "text": [
      "0.6435751486757735\n",
      "0.6440668254615097\n"
     ]
    }
   ],
   "source": [
    "regr_cv = Ridge(alpha=1)\n",
    "regr_cv.fit(X_train_scaled, Y_train)\n",
    "print(ridge.score(X_train_scaled, Y_train))\n",
    "print(ridge.score(X_test_scaled, Y_test))"
   ]
  },
  {
   "cell_type": "code",
   "execution_count": 79,
   "metadata": {},
   "outputs": [
    {
     "name": "stdout",
     "output_type": "stream",
     "text": [
      "The scores are 0.6480697370014725\n"
     ]
    }
   ],
   "source": [
    "from sklearn.model_selection import cross_val_score\n",
    "\n",
    "scores = cross_val_score(regr_cv, X_train_scaled, Y_train, cv = 5)\n",
    "print('The scores are {}'.format((scores).mean()))"
   ]
  },
  {
   "cell_type": "code",
   "execution_count": 80,
   "metadata": {
    "scrolled": true
   },
   "outputs": [],
   "source": [
    "Ridge_pred = regr_cv.predict(X_test_scaled)"
   ]
  },
  {
   "cell_type": "markdown",
   "metadata": {},
   "source": [
    "### LASSO REGRESSION"
   ]
  },
  {
   "cell_type": "code",
   "execution_count": 81,
   "metadata": {
    "scrolled": true
   },
   "outputs": [
    {
     "name": "stdout",
     "output_type": "stream",
     "text": [
      "The best hyperparameter value from grid search:{'alpha': 1}\n",
      "The best train score:0.648\n"
     ]
    }
   ],
   "source": [
    "from sklearn.linear_model import Lasso\n",
    "from sklearn.model_selection import GridSearchCV\n",
    "\n",
    "lasso = Lasso(max_iter = 100000)\n",
    "param = {'alpha':[1, 5, 10, 15, 20, 100]}\n",
    "\n",
    "grid_search = GridSearchCV(lasso, param, cv = 5)\n",
    "grid_search.fit(X_train_scaled, Y_train)\n",
    "\n",
    "print('The best hyperparameter value from grid search:{}'.format(grid_search.best_params_))\n",
    "print('The best train score:{:.3f}'.format(grid_search.best_score_))"
   ]
  },
  {
   "cell_type": "code",
   "execution_count": 82,
   "metadata": {},
   "outputs": [
    {
     "data": {
      "text/plain": [
       "Lasso(alpha=1.0, copy_X=True, fit_intercept=True, max_iter=100000,\n",
       "      normalize=False, positive=False, precompute=False, random_state=None,\n",
       "      selection='cyclic', tol=0.0001, warm_start=False)"
      ]
     },
     "execution_count": 82,
     "metadata": {},
     "output_type": "execute_result"
    }
   ],
   "source": [
    "lasso.fit(X_train_scaled, Y_train)"
   ]
  },
  {
   "cell_type": "code",
   "execution_count": 130,
   "metadata": {},
   "outputs": [
    {
     "data": {
      "image/png": "[encoded data removed]",
      "text/plain": [
       "<Figure size 432x288 with 1 Axes>"
      ]
     },
     "metadata": {
      "needs_background": "light"
     },
     "output_type": "display_data"
    },
    {
     "name": "stdout",
     "output_type": "stream",
     "text": [
      "train:[0.649739215223935, 0.6497357890012116, 0.6497250858881881, 0.6497072542020934, 0.6496822963595736, 0.649219822099715]\n",
      "test:[0.6523104598657037, 0.6523521157529062, 0.6523957428492252, 0.6524299989988687, 0.652454901489463, 0.6516507201245039]\n"
     ]
    }
   ],
   "source": [
    "x_range = [1, 5, 10, 15, 20, 100]\n",
    "train_score_list = []\n",
    "test_score_list = []\n",
    "coefs=[]\n",
    "\n",
    "for alpha in x_range: \n",
    "    lasso = Lasso(alpha,max_iter = 100000)\n",
    "    lasso.fit(X_train_scaled, Y_train)\n",
    "    train_score_list.append(lasso.score(X_train_scaled, Y_train))\n",
    "    test_score_list.append(lasso.score(X_test_scaled, Y_test))\n",
    "    coefs.append(ridge.coef_)\n",
    "\n",
    "ax = plt.gca()\n",
    "\n",
    "ax.plot(x_range, coefs)\n",
    "ax.set_xscale('log')\n",
    "ax.set_xlim(ax.get_xlim())\n",
    "plt.xlabel('alpha')\n",
    "plt.ylabel('coefficients')\n",
    "plt.title('Lasso coefficients as a function of the regularization')\n",
    "plt.axis('tight')\n",
    "plt.show() #coeff vs alpha values\n",
    "print('train:{}'.format(train_score_list))\n",
    "print('test:{}'.format(test_score_list))"
   ]
  },
  {
   "cell_type": "code",
   "execution_count": 84,
   "metadata": {},
   "outputs": [
    {
     "name": "stdout",
     "output_type": "stream",
     "text": [
      "0.649739215223935\n",
      "0.6523104598657037\n"
     ]
    }
   ],
   "source": [
    "lasso = Lasso(alpha = 1, random_state = 0, max_iter = 10000)\n",
    "lasso.fit(X_train_scaled, Y_train)\n",
    "print(lasso.score(X_train_scaled, Y_train))\n",
    "print(lasso.score(X_test_scaled, Y_test))"
   ]
  },
  {
   "cell_type": "code",
   "execution_count": 85,
   "metadata": {},
   "outputs": [
    {
     "name": "stdout",
     "output_type": "stream",
     "text": [
      "The scores are 0.6482499628769766\n"
     ]
    }
   ],
   "source": [
    "from sklearn.model_selection import cross_val_score\n",
    "\n",
    "scores = cross_val_score(lasso, X_train_scaled, Y_train, cv = 5)\n",
    "print('The scores are {}'.format((scores).mean()))"
   ]
  },
  {
   "cell_type": "code",
   "execution_count": 86,
   "metadata": {},
   "outputs": [],
   "source": [
    "Lasso_pred = lasso.predict(X_test_scaled)"
   ]
  },
  {
   "cell_type": "markdown",
   "metadata": {},
   "source": [
    "### POLYNOMIAL REGRESSION"
   ]
  },
  {
   "cell_type": "code",
   "execution_count": 87,
   "metadata": {},
   "outputs": [],
   "source": [
    "from sklearn.preprocessing import PolynomialFeatures\n",
    "from sklearn.linear_model import LinearRegression\n",
    "from sklearn.model_selection import GridSearchCV\n",
    "from sklearn.linear_model import Ridge\n",
    "\n",
    "poly = PolynomialFeatures(degree = 2)\n",
    "X_train_poly = poly.fit_transform(X_train)\n",
    "X_test_poly = poly.transform(X_test)"
   ]
  },
  {
   "cell_type": "code",
   "execution_count": 88,
   "metadata": {
    "scrolled": false
   },
   "outputs": [
    {
     "name": "stdout",
     "output_type": "stream",
     "text": [
      "0.7123144612260555\n",
      "0.7075546381875022\n"
     ]
    }
   ],
   "source": [
    "lreg.fit(X_train_poly, Y_train)\n",
    "lreg.predict(X_test_poly)\n",
    "\n",
    "print(lreg.score(X_train_poly, Y_train))\n",
    "print(lreg.score(X_test_poly, Y_test))"
   ]
  },
  {
   "cell_type": "code",
   "execution_count": 89,
   "metadata": {},
   "outputs": [],
   "source": [
    "Poly_pred = lreg.predict(X_test_poly)"
   ]
  },
  {
   "cell_type": "code",
   "execution_count": 90,
   "metadata": {
    "scrolled": true
   },
   "outputs": [
    {
     "name": "stdout",
     "output_type": "stream",
     "text": [
      "The scores are 0.6801803737848484\n"
     ]
    }
   ],
   "source": [
    "from sklearn.model_selection import cross_val_score\n",
    "\n",
    "scores = cross_val_score(lreg, X_train_poly, Y_train, cv = 5)\n",
    "print('The scores are {}'.format((scores).mean()))"
   ]
  },
  {
   "cell_type": "markdown",
   "metadata": {},
   "source": [
    "### Support Vector Machines"
   ]
  },
  {
   "cell_type": "code",
   "execution_count": 122,
   "metadata": {},
   "outputs": [
    {
     "name": "stdout",
     "output_type": "stream",
     "text": [
      "The best hyperparameter value from grid search:{'C': 100, 'gamma': 0.001}\n",
      "The best train score:0.188\n"
     ]
    }
   ],
   "source": [
    "from sklearn.svm import SVR\n",
    "\n",
    "svrlr = SVR(kernel = 'linear')\n",
    "param = {'C':[0.001, 0.005, 0.01, 0.05, 0.1, 0.5, 1, 5, 10, 50, 100], \n",
    "              'gamma': [0.001, 0.005, 0.01, 0.05, 0.1, 0.5, 1, 5, 10, 50, 100]}\n",
    "grid_search = GridSearchCV(svrlr, param, cv = 4)\n",
    "grid_search.fit(X_train_scaled, Y_train)\n",
    "\n",
    "print('The best hyperparameter value from grid search:{}'.format(grid_search.best_params_))\n",
    "print('The best train score:{:.3f}'.format(grid_search.best_score_))"
   ]
  },
  {
   "cell_type": "code",
   "execution_count": 126,
   "metadata": {},
   "outputs": [
    {
     "name": "stdout",
     "output_type": "stream",
     "text": [
      "0.22672151259136486\n",
      "0.21797423422854856\n"
     ]
    }
   ],
   "source": [
    "svrlr = SVR(kernel ='linear', C=100,gamma= 0.001)\n",
    "svrlr.fit(X_train_scaled, Y_train)\n",
    "\n",
    "print(svrlr.score(X_train_scaled, Y_train))\n",
    "print(svrlr.score(X_test_scaled, Y_test))"
   ]
  },
  {
   "cell_type": "code",
   "execution_count": 127,
   "metadata": {},
   "outputs": [],
   "source": [
    "svr_lr = svrlr.predict(X_test_scaled)"
   ]
  },
  {
   "cell_type": "code",
   "execution_count": 121,
   "metadata": {},
   "outputs": [
    {
     "name": "stdout",
     "output_type": "stream",
     "text": [
      "The best hyperparameter value from grid search:{'C': 100, 'gamma': 0.5}\n",
      "The best train score:0.018\n"
     ]
    }
   ],
   "source": [
    "from sklearn.svm import SVR\n",
    "\n",
    "svrkernel = SVR(kernel = 'rbf')\n",
    "param = {'C':[0.001, 0.005, 0.01, 0.05, 0.1, 0.5, 1, 5, 10, 50, 100], \n",
    "              'gamma': [0.001, 0.005, 0.01, 0.05, 0.1, 0.5, 1, 5, 10, 50, 100]}\n",
    "\n",
    "grid_search = GridSearchCV(svrkernel, param, cv = 2)\n",
    "grid_search.fit(X_train_scaled, Y_train)\n",
    "\n",
    "print('The best hyperparameter value from grid search:{}'.format(grid_search.best_params_))\n",
    "print('The best train score:{:.3f}'.format(grid_search.best_score_))"
   ]
  },
  {
   "cell_type": "code",
   "execution_count": 128,
   "metadata": {},
   "outputs": [
    {
     "name": "stdout",
     "output_type": "stream",
     "text": [
      "0.06858840715927705\n",
      "0.06609687380778417\n"
     ]
    }
   ],
   "source": [
    "svrkernel = SVR(kernel ='rbf', C=100,gamma= 0.5)\n",
    "\n",
    "svrkernel.fit(X_train_scaled, Y_train)\n",
    "\n",
    "print(svrkernel.score(X_train_scaled, Y_train))\n",
    "print(svrkernel.score(X_test_scaled, Y_test))"
   ]
  },
  {
   "cell_type": "code",
   "execution_count": 129,
   "metadata": {},
   "outputs": [],
   "source": [
    "svr_k = svrkernel.predict(X_test_scaled)"
   ]
  },
  {
   "cell_type": "markdown",
   "metadata": {},
   "source": [
    "### KNN Regressor"
   ]
  },
  {
   "cell_type": "code",
   "execution_count": 92,
   "metadata": {},
   "outputs": [
    {
     "name": "stdout",
     "output_type": "stream",
     "text": [
      "The best hyperparameter value from grid search:{'n_neighbors': 10}\n",
      "The best train score:0.625\n"
     ]
    }
   ],
   "source": [
    "from sklearn.neighbors import KNeighborsRegressor\n",
    "from sklearn.metrics import accuracy_score\n",
    "\n",
    "knnreg = KNeighborsRegressor()\n",
    "param = {'n_neighbors':[2,3,5,10,15,20]}\n",
    "\n",
    "grid_search = GridSearchCV(knnreg, param, cv = 5)\n",
    "grid_search.fit(X_train_scaled, Y_train)\n",
    "\n",
    "print('The best hyperparameter value from grid search:{}'.format(grid_search.best_params_))\n",
    "print('The best train score:{:.3f}'.format(grid_search.best_score_))"
   ]
  },
  {
   "cell_type": "code",
   "execution_count": 97,
   "metadata": {},
   "outputs": [
    {
     "name": "stdout",
     "output_type": "stream",
     "text": [
      "train:[0.7453429363169565, 0.7020182337902212, 0.6784420135704541, 0.6653070733428825]\n",
      "test:[0.6336712028184355, 0.6472452821760957, 0.6426861306190581, 0.6384451127899917]\n"
     ]
    },
    {
     "data": {
      "text/plain": [
       "<matplotlib.legend.Legend at 0x222802dc630>"
      ]
     },
     "execution_count": 97,
     "metadata": {},
     "output_type": "execute_result"
    },
    {
     "data": {
      "image/png": "[encoded data removed]",
      "text/plain": [
       "<Figure size 432x288 with 1 Axes>"
      ]
     },
     "metadata": {
      "needs_background": "light"
     },
     "output_type": "display_data"
    }
   ],
   "source": [
    "from sklearn.neighbors import KNeighborsRegressor\n",
    "from sklearn import metrics\n",
    "\n",
    "train_score_array = []\n",
    "test_score_array = []\n",
    "y =  [5, 10, 15, 20]\n",
    "\n",
    "for k in y:\n",
    "    knn = KNeighborsRegressor(k)\n",
    "    knn.fit(X_train_scaled, Y_train)\n",
    "    train_score_array.append(knn.score(X_train_scaled, Y_train))\n",
    "    test_score_array.append(knn.score(X_test_scaled, Y_test))\n",
    "\n",
    "print('train:{}'.format(train_score_array))\n",
    "print('test:{}'.format(test_score_array))\n",
    "\n",
    "x_axis = y\n",
    "%matplotlib inline\n",
    "plt.plot(x_axis, train_score_array, label = 'Train Score', c = 'g')\n",
    "plt.plot(x_axis, test_score_array, label = 'Test Score', c='b')\n",
    "plt.xlabel('k')\n",
    "plt.ylabel('Accuracy')\n",
    "plt.legend()"
   ]
  },
  {
   "cell_type": "code",
   "execution_count": 98,
   "metadata": {},
   "outputs": [
    {
     "name": "stdout",
     "output_type": "stream",
     "text": [
      "0.7020182337902212\n",
      "0.6472452821760957\n"
     ]
    }
   ],
   "source": [
    "knnreg = KNeighborsRegressor(10)\n",
    "knnreg.fit(X_train_scaled, Y_train)\n",
    "\n",
    "print(knnreg.score(X_train_scaled, Y_train))\n",
    "print(knnreg.score(X_test_scaled, Y_test))"
   ]
  },
  {
   "cell_type": "code",
   "execution_count": 100,
   "metadata": {},
   "outputs": [],
   "source": [
    "knn_pred = knnreg.predict(X_test_scaled)"
   ]
  },
  {
   "cell_type": "markdown",
   "metadata": {},
   "source": [
    "### DECISION TREE"
   ]
  },
  {
   "cell_type": "code",
   "execution_count": 108,
   "metadata": {},
   "outputs": [
    {
     "name": "stdout",
     "output_type": "stream",
     "text": [
      "The best hyperparameter value from grid search:{'max_depth': 7}\n",
      "The best train score:0.626\n"
     ]
    }
   ],
   "source": [
    "from sklearn.tree import DecisionTreeRegressor\n",
    "from sklearn.model_selection import GridSearchCV\n",
    "\n",
    "regressor = DecisionTreeRegressor()\n",
    "\n",
    "param = {'max_depth': [1,3,5,7,9,10]}\n",
    "\n",
    "grid_search = GridSearchCV(regressor, param, cv = 5)\n",
    "grid_search.fit(X_train_scaled, Y_train)   \n",
    "\n",
    "print('The best hyperparameter value from grid search:{}'.format(grid_search.best_params_))\n",
    "print('The best train score:{:.3f}'.format(grid_search.best_score_))"
   ]
  },
  {
   "cell_type": "code",
   "execution_count": 109,
   "metadata": {},
   "outputs": [
    {
     "name": "stdout",
     "output_type": "stream",
     "text": [
      "0.7200922105753709\n",
      "0.6708055271096638\n"
     ]
    }
   ],
   "source": [
    "regressor = DecisionTreeRegressor(max_depth = 7)\n",
    "regressor.fit(X_train_scaled, Y_train)\n",
    "\n",
    "print(regressor.score(X_train_scaled, Y_train))\n",
    "print(regressor.score(X_test_scaled, Y_test))"
   ]
  },
  {
   "cell_type": "code",
   "execution_count": 110,
   "metadata": {},
   "outputs": [],
   "source": [
    "DT_pred = regressor.predict(X_test_scaled)"
   ]
  },
  {
   "cell_type": "markdown",
   "metadata": {},
   "source": [
    "### RANDOM FOREST REGRESSOR"
   ]
  },
  {
   "cell_type": "code",
   "execution_count": 112,
   "metadata": {},
   "outputs": [
    {
     "name": "stdout",
     "output_type": "stream",
     "text": [
      "The best hyperparameter value from grid search:{'max_depth': 9, 'n_estimators': 50}\n",
      "The best train score:0.697\n"
     ]
    }
   ],
   "source": [
    "from sklearn.ensemble import RandomForestRegressor\n",
    "from sklearn.model_selection import GridSearchCV\n",
    "\n",
    "RF_regressor = RandomForestRegressor()\n",
    "\n",
    "param = {'max_depth': [1,3,5,7,9,10],'n_estimators' : [10,50,100]}\n",
    "\n",
    "grid_search = GridSearchCV(RF_regressor, param, cv = 5)\n",
    "grid_search.fit(X_train_scaled, Y_train)   \n",
    "\n",
    "print('The best hyperparameter value from grid search:{}'.format(grid_search.best_params_))\n",
    "print('The best train score:{:.3f}'.format(grid_search.best_score_))"
   ]
  },
  {
   "cell_type": "code",
   "execution_count": 113,
   "metadata": {},
   "outputs": [
    {
     "name": "stdout",
     "output_type": "stream",
     "text": [
      "0.7986795084898901\n",
      "0.7122710091241442\n"
     ]
    }
   ],
   "source": [
    "RT_regressor = RandomForestRegressor(max_depth = 9,n_estimators = 50)\n",
    "RT_regressor.fit(X_train_scaled, Y_train)\n",
    "\n",
    "print(RT_regressor.score(X_train_scaled, Y_train))\n",
    "print(RT_regressor.score(X_test_scaled, Y_test))"
   ]
  },
  {
   "cell_type": "code",
   "execution_count": 117,
   "metadata": {},
   "outputs": [],
   "source": [
    "RT = RT_regressor.predict(X_test_scaled)"
   ]
  },
  {
   "cell_type": "markdown",
   "metadata": {},
   "source": [
    "### CONCULSION"
   ]
  },
  {
   "cell_type": "markdown",
   "metadata": {},
   "source": [
    "Linear Regression:\n",
    "train: 0.65\n",
    "test: 0.65\n",
    "The cross validation scores are 0.65\n",
    "\n",
    "\n",
    "Ridge Regression:\n",
    "Grid Search: The best train score: 0.65\n",
    "The cross validation scores are 0.65\n",
    "train: 0.64\n",
    "test: 0.64\n",
    "\n",
    "    \n",
    "Lasso Regression:\n",
    "Grid Search: The best train score:0.65\n",
    "The cross validation scores are 0.65\n",
    "train: 0.65\n",
    "test: 0.65\n",
    "\n",
    "    \n",
    "Polynomial Regression:\n",
    "The Cross validation scores are 0.68\n",
    "train: 0.71\n",
    "test: 0.70\n",
    "\n",
    "    \n",
    "Support Vector Regressor: Linear\n",
    "Grid Search: The best train score:0.19\n",
    "train: 0.23\n",
    "test: 0.22\n",
    "\n",
    "    \n",
    "Support Vector Regressor: Kernel\n",
    "Grid Search: The best train score:0.018\n",
    "train: 0.068\n",
    "test: 0.066\n",
    "\n",
    "    \n",
    "KNN Regressor:\n",
    "Grid Search: The best train score:0.63\n",
    "train: 0.70\n",
    "test: 0.65\n",
    "\n",
    "    \n",
    "Decision Tree:\n",
    "Grid Search: The best train score:0.63\n",
    "train: 0.72\n",
    "test: 0.67\n",
    "\n",
    "\n",
    "Random Tree:\n",
    "Grid Search: The best train score:0.70\n",
    "train: 0.80\n",
    "test: 0.71\n"
   ]
  },
  {
   "cell_type": "markdown",
   "metadata": {},
   "source": [
    "##### Viewing the best train and test score of all the models, polynomial regression with degree = 2 is seen to be the best performing regressor."
   ]
  },
  {
   "cell_type": "markdown",
   "metadata": {},
   "source": [
    "Running the model with the best parameters and all features"
   ]
  },
  {
   "cell_type": "code",
   "execution_count": 134,
   "metadata": {},
   "outputs": [
    {
     "data": {
      "text/plain": [
       "array([ 416668.0248527 ,  342621.53192457,  488920.6318558 , ...,\n",
       "        667673.55464704, 1107718.23195601, 1197079.49933298])"
      ]
     },
     "execution_count": 134,
     "metadata": {},
     "output_type": "execute_result"
    }
   ],
   "source": [
    "Poly_pred #predicted values for polynomial regression"
   ]
  },
  {
   "cell_type": "code",
   "execution_count": 136,
   "metadata": {},
   "outputs": [
    {
     "data": {
      "image/png": "[encoded data removed]",
      "text/plain": [
       "<Figure size 432x288 with 1 Axes>"
      ]
     },
     "metadata": {
      "needs_background": "light"
     },
     "output_type": "display_data"
    }
   ],
   "source": [
    "%matplotlib inline\n",
    "import matplotlib.pyplot as plt\n",
    "def plot_feature_importances_cancer(model):\n",
    "    n_features = X_train_scaled.shape[1]\n",
    "    plt.barh(range(n_features), model.feature_importances_, align='center')\n",
    "    plt.yticks(np.arange(n_features), X.columns)\n",
    "    plt.xlabel(\"Feature importance\")\n",
    "    plt.ylabel(\"Feature\")\n",
    "    plt.ylim(-1, n_features)\n",
    "\n",
    "plot_feature_importances_cancer(dtree)"
   ]
  },
  {
   "cell_type": "markdown",
   "metadata": {},
   "source": [
    "Running the model with the best parameters and features"
   ]
  },
  {
   "cell_type": "code",
   "execution_count": null,
   "metadata": {},
   "outputs": [],
   "source": [
    "X_train = X_train.drop(columns=['condition_2','condition_3','condition_4','condition_5','basement'])\n",
    "X_test = X_test.drop(columns=['condition_2','condition_3','condition_4','condition_5','basement'])"
   ]
  },
  {
   "cell_type": "code",
   "execution_count": 139,
   "metadata": {},
   "outputs": [
    {
     "name": "stdout",
     "output_type": "stream",
     "text": [
      "0.7038200639857777\n",
      "0.7049040963016517\n"
     ]
    }
   ],
   "source": [
    "poly = PolynomialFeatures(degree = 2)\n",
    "X_train_poly = poly.fit_transform(X_train)\n",
    "X_test_poly = poly.transform(X_test)\n",
    "\n",
    "lreg.fit(X_train_poly, Y_train)\n",
    "\n",
    "print(lreg.score(X_train_poly, Y_train))\n",
    "print(lreg.score(X_test_poly, Y_test))\n",
    "\n",
    "Poly_pred = lreg.predict(X_test_poly)"
   ]
  },
  {
   "cell_type": "code",
   "execution_count": 140,
   "metadata": {
    "scrolled": true
   },
   "outputs": [
    {
     "data": {
      "text/plain": [
       "array([ 421086.02682213,  333488.80153216,  505986.31259678, ...,\n",
       "        702722.89924516, 1163825.12502731, 1161021.46320033])"
      ]
     },
     "execution_count": 140,
     "metadata": {},
     "output_type": "execute_result"
    }
   ],
   "source": [
    "Poly_pred"
   ]
  },
  {
   "cell_type": "markdown",
   "metadata": {},
   "source": [
    "## Bagging and Pasting"
   ]
  },
  {
   "cell_type": "markdown",
   "metadata": {},
   "source": [
    "#### Linear Regression with Bagging"
   ]
  },
  {
   "cell_type": "code",
   "execution_count": 317,
   "metadata": {},
   "outputs": [
    {
     "name": "stdout",
     "output_type": "stream",
     "text": [
      "Linear Regression with Bagging\n",
      "Training score : 0.64\n",
      "Test score     : 0.62\n",
      "\n"
     ]
    }
   ],
   "source": [
    "from sklearn.ensemble import BaggingRegressor\n",
    "from sklearn.linear_model import LinearRegression\n",
    "\n",
    "lr = LinearRegression()\n",
    "bag_lr= BaggingRegressor(lr, max_samples = 100, random_state = 10, bootstrap=True)\n",
    "bag_lr.fit(X_train_scaled, y_train)\n",
    "\n",
    "print('Linear Regression with Bagging')\n",
    "print('Training score : {:.2f}'.format(bag_lr.score(X_train_scaled, y_train)))\n",
    "print('Test score     : {:.2f}\\n'.format(bag_lr.score(X_test_scaled, y_test)))"
   ]
  },
  {
   "cell_type": "code",
   "execution_count": 363,
   "metadata": {},
   "outputs": [
    {
     "name": "stdout",
     "output_type": "stream",
     "text": [
      "out-of-bag evaluation : 0.62\n"
     ]
    }
   ],
   "source": [
    "bag_o = BaggingRegressor(lr, max_samples = 100, random_state = 10, bootstrap=True, oob_score=True)\n",
    "\n",
    "bag_o.fit(X_train_scaled, y_train)\n",
    "print('out-of-bag evaluation : {:.2f}'.format(bag_o.oob_score_))"
   ]
  },
  {
   "cell_type": "markdown",
   "metadata": {},
   "source": [
    "#### Linear Regression with Pasting"
   ]
  },
  {
   "cell_type": "code",
   "execution_count": 333,
   "metadata": {},
   "outputs": [
    {
     "name": "stdout",
     "output_type": "stream",
     "text": [
      "Linear Regression with Pasting\n",
      "Training score : 0.64\n",
      "Test score     : 0.62\n",
      "\n"
     ]
    }
   ],
   "source": [
    "from sklearn.ensemble import BaggingRegressor\n",
    "from sklearn.linear_model import LinearRegression\n",
    "\n",
    "lr = LinearRegression()\n",
    "pas_lr= BaggingRegressor(lr, max_samples = 100, random_state = 10, bootstrap=False)\n",
    "pas_lr.fit(X_train_scaled, y_train)\n",
    "\n",
    "print('Linear Regression with Pasting')\n",
    "print('Training score : {:.2f}'.format(pas_lr.score(X_train_scaled, y_train)))\n",
    "print('Test score     : {:.2f}\\n'.format(pas_lr.score(X_test_scaled, y_test)))"
   ]
  },
  {
   "cell_type": "markdown",
   "metadata": {},
   "source": [
    "#### Ridge Regression with Bagging"
   ]
  },
  {
   "cell_type": "code",
   "execution_count": 77,
   "metadata": {
    "scrolled": true
   },
   "outputs": [
    {
     "name": "stdout",
     "output_type": "stream",
     "text": [
      "Ridge Regression with Bagging\n",
      "Training score : 0.59\n",
      "Test score     : 0.59\n",
      "\n"
     ]
    }
   ],
   "source": [
    "from sklearn.ensemble import BaggingRegressor\n",
    "from sklearn.linear_model import Ridge\n",
    "\n",
    "ridge = Ridge(alpha=1)\n",
    "bag_ridge= BaggingRegressor(ridge, max_samples = 100, random_state = 10, bootstrap=True)\n",
    "bag_ridge.fit(X_train_scaled, y_train)\n",
    "\n",
    "print('Ridge Regression with Bagging')\n",
    "print('Training score : {:.2f}'.format(bag_ridge.score(X_train_scaled, y_train)))\n",
    "print('Test score     : {:.2f}\\n'.format(bag_ridge.score(X_test_scaled, y_test)))"
   ]
  },
  {
   "cell_type": "code",
   "execution_count": 362,
   "metadata": {},
   "outputs": [
    {
     "name": "stdout",
     "output_type": "stream",
     "text": [
      "out-of-bag evaluation : 0.58\n"
     ]
    }
   ],
   "source": [
    "bag_or = BaggingRegressor(ridge, max_samples = 100, random_state = 10, bootstrap=True, oob_score=True)\n",
    "\n",
    "bag_or.fit(X_train_scaled, y_train)\n",
    "print('out-of-bag evaluation : {:.2f}'.format(bag_or.oob_score_))"
   ]
  },
  {
   "cell_type": "markdown",
   "metadata": {},
   "source": [
    "#### Ridge Regression with Pasting"
   ]
  },
  {
   "cell_type": "code",
   "execution_count": 332,
   "metadata": {},
   "outputs": [
    {
     "name": "stdout",
     "output_type": "stream",
     "text": [
      "Ridge Regression with Pasting\n",
      "Training score : 0.59\n",
      "Test score     : 0.55\n",
      "\n"
     ]
    }
   ],
   "source": [
    "from sklearn.ensemble import BaggingRegressor\n",
    "from sklearn.linear_model import Ridge\n",
    "\n",
    "ridge = Ridge(alpha=1)\n",
    "pas_ridge= BaggingRegressor(ridge, max_samples = 100, random_state = 10, bootstrap=False)\n",
    "pas_ridge.fit(X_train_scaled, y_train)\n",
    "\n",
    "print('Ridge Regression with Pasting')\n",
    "print('Training score : {:.2f}'.format(pas_ridge.score(X_train_scaled, y_train)))\n",
    "print('Test score     : {:.2f}\\n'.format(pas_ridge.score(X_test_scaled, y_test)))"
   ]
  },
  {
   "cell_type": "markdown",
   "metadata": {},
   "source": [
    "## Adaboost Boosting"
   ]
  },
  {
   "cell_type": "code",
   "execution_count": 78,
   "metadata": {},
   "outputs": [
    {
     "name": "stdout",
     "output_type": "stream",
     "text": [
      "Best parameters{'learning_rate': 0.1, 'n_estimators': 50}\n",
      "Best score 0.58\n"
     ]
    }
   ],
   "source": [
    "from sklearn.ensemble import AdaBoostRegressor\n",
    "from sklearn.model_selection import GridSearchCV\n",
    "\n",
    "AB = AdaBoostRegressor()\n",
    "param = {'learning_rate':[0.001, 0.005, 0.01, 0.05, 0.1],'n_estimators': [50,100,150,200,250,300]}\n",
    "\n",
    "grid_search = GridSearchCV(AB, param, cv = 5)\n",
    "grid_search.fit(X_train_scaled, y_train)\n",
    "\n",
    "print('Best parameters{}'.format(grid_search.best_params_))\n",
    "print('Best score {:.2f}'.format(grid_search.best_score_))"
   ]
  },
  {
   "cell_type": "code",
   "execution_count": 82,
   "metadata": {
    "scrolled": true
   },
   "outputs": [
    {
     "name": "stdout",
     "output_type": "stream",
     "text": [
      "Training score with AdaBoost: 0.62\n",
      "Test score with AdaBoost: 0.52\n"
     ]
    }
   ],
   "source": [
    "ada = AdaBoostRegressor(learning_rate= 0.1,n_estimators = 50,random_state=10)\n",
    "ada.fit(X_train_scaled, y_train)\n",
    "\n",
    "print('Training score with AdaBoost: {:.2f}'.format(ada.score(X_train_scaled, y_train)))\n",
    "print('Test score with AdaBoost: {:.2f}'.format(ada.score(X_test_scaled, y_test)))"
   ]
  },
  {
   "cell_type": "markdown",
   "metadata": {},
   "source": [
    "#### Lasso with AdaBoost Boosting"
   ]
  },
  {
   "cell_type": "code",
   "execution_count": 83,
   "metadata": {
    "scrolled": true
   },
   "outputs": [
    {
     "name": "stdout",
     "output_type": "stream",
     "text": [
      "Lasso Regression with AdaBoost\n",
      "Training score : 0.54\n",
      "Test score     : 0.42\n"
     ]
    }
   ],
   "source": [
    "from sklearn.linear_model import Lasso\n",
    "\n",
    "las1 = Lasso(max_iter = 100000, alpha = 1)\n",
    "\n",
    "ada_las = AdaBoostRegressor(las1,learning_rate= 0.1,n_estimators = 50,random_state=10)\n",
    "ada_las.fit(X_train_scaled, y_train)\n",
    "\n",
    "print('Lasso Regression with AdaBoost')\n",
    "print('Training score : {:.2f}'.format(ada_las.score(X_train_scaled, y_train)))\n",
    "print('Test score     : {:.2f}'.format(ada_las.score(X_test_scaled, y_test)))"
   ]
  },
  {
   "cell_type": "markdown",
   "metadata": {},
   "source": [
    "#### KNN with AdaBoost Boosting"
   ]
  },
  {
   "cell_type": "code",
   "execution_count": 84,
   "metadata": {},
   "outputs": [
    {
     "name": "stdout",
     "output_type": "stream",
     "text": [
      "K- Nearest Neigbhor with AdaBoost\n",
      "Training score : 0.80\n",
      "Test score     : 0.53\n"
     ]
    }
   ],
   "source": [
    "from sklearn.neighbors import KNeighborsRegressor\n",
    "\n",
    "knnreg = KNeighborsRegressor(10)\n",
    "\n",
    "ada_knn = AdaBoostRegressor(knnreg,learning_rate= 0.1,n_estimators = 50,random_state=10)\n",
    "ada_knn.fit(X_train_scaled, y_train)\n",
    "\n",
    "print('K- Nearest Neigbhor with AdaBoost')\n",
    "print('Training score : {:.2f}'.format(ada_knn.score(X_train_scaled, y_train)))\n",
    "print('Test score     : {:.2f}'.format(ada_knn.score(X_test_scaled, y_test)))"
   ]
  },
  {
   "cell_type": "markdown",
   "metadata": {},
   "source": [
    "#### Decision Tress with AdaBoosting"
   ]
  },
  {
   "cell_type": "code",
   "execution_count": 320,
   "metadata": {},
   "outputs": [
    {
     "name": "stdout",
     "output_type": "stream",
     "text": [
      "Training score : 1.00\n",
      "Test score     : 0.64\n",
      "\n"
     ]
    }
   ],
   "source": [
    "regressor = DecisionTreeRegressor()\n",
    "\n",
    "model2 = AdaBoostRegressor(regressor,learning_rate= 0.1,n_estimators = 50,random_state=10)\n",
    "model2.fit(X_train_scaled, y_train)\n",
    "model2.score(X_test_scaled,y_test)\n",
    "print('Training score : {:.2f}'.format(model2.score(X_train_scaled, y_train)))\n",
    "print('Test score     : {:.2f}\\n'.format(model2.score(X_test_scaled, y_test)))"
   ]
  },
  {
   "cell_type": "markdown",
   "metadata": {},
   "source": [
    "## Gradient Boosting"
   ]
  },
  {
   "cell_type": "code",
   "execution_count": 86,
   "metadata": {},
   "outputs": [
    {
     "name": "stdout",
     "output_type": "stream",
     "text": [
      "Best parameters{'learning_rate': 0.1, 'max_depth': 3, 'n_estimators': 100}\n",
      "Best score 0.69\n"
     ]
    }
   ],
   "source": [
    "from sklearn.ensemble import GradientBoostingRegressor\n",
    "\n",
    "Grad = GradientBoostingRegressor(random_state = 10)\n",
    "param_grid = {'learning_rate':[0.001, 0.005, 0.01, 0.05, 0.1],'max_depth': range(1,11),'n_estimators': [10,20,50,100]}\n",
    "\n",
    "grid_search = GridSearchCV(Grad, param_grid, cv = 2)\n",
    "grid_search.fit(X_train_scaled, y_train)\n",
    "\n",
    "print('Best parameters{}'.format(grid_search.best_params_))\n",
    "print('Best score {:.2f}'.format(grid_search.best_score_))"
   ]
  },
  {
   "cell_type": "code",
   "execution_count": 330,
   "metadata": {},
   "outputs": [
    {
     "name": "stdout",
     "output_type": "stream",
     "text": [
      "Training score : 0.75\n",
      "Test score     : 0.69\n"
     ]
    }
   ],
   "source": [
    "boost = GradientBoostingRegressor(learning_rate= 0.1,max_depth= 3,n_estimators= 100)\n",
    "boost.fit(X_train_scaled, y_train)\n",
    "\n",
    "print('Training score : {:.2f}'.format(boost.score(X_train_scaled, y_train)))\n",
    "print('Test score     : {:.2f}'.format(boost.score(X_test_scaled, y_test)))"
   ]
  },
  {
   "cell_type": "markdown",
   "metadata": {},
   "source": [
    "## PCA"
   ]
  },
  {
   "cell_type": "code",
   "execution_count": 73,
   "metadata": {
    "scrolled": true
   },
   "outputs": [
    {
     "data": {
      "image/png": "[encoded data removed]",
      "text/plain": [
       "<Figure size 432x288 with 1 Axes>"
      ]
     },
     "metadata": {
      "needs_background": "light"
     },
     "output_type": "display_data"
    }
   ],
   "source": [
    "from sklearn.decomposition import PCA\n",
    "pca = PCA().fit(X_train_scaled)\n",
    "#Plotting the Cumulative Summation of the Explained Variance\n",
    "plt.figure()\n",
    "plt.plot(np.cumsum(pca.explained_variance_ratio_))\n",
    "plt.xlabel('Number of Components')\n",
    "plt.ylabel('Variance (%)') #for each component\n",
    "plt.title('Pulsar Dataset Explained Variance')\n",
    "plt.show()"
   ]
  },
  {
   "cell_type": "code",
   "execution_count": 74,
   "metadata": {},
   "outputs": [
    {
     "name": "stdout",
     "output_type": "stream",
     "text": [
      "9\n"
     ]
    }
   ],
   "source": [
    "from sklearn.decomposition import PCA\n",
    "\n",
    "pca = PCA(n_components = 0.95)\n",
    "\n",
    "X_train_P = pca.fit_transform(X_train_scaled)\n",
    "X_test_P = pca.transform(X_test_scaled)\n",
    "\n",
    "print(pca.n_components_)"
   ]
  },
  {
   "cell_type": "markdown",
   "metadata": {},
   "source": [
    "### LINEAR REGRESSION"
   ]
  },
  {
   "cell_type": "code",
   "execution_count": 94,
   "metadata": {},
   "outputs": [
    {
     "name": "stdout",
     "output_type": "stream",
     "text": [
      "Linear Regression after PCA\n",
      "Training score : 0.50\n",
      "Test score     : 0.49\n"
     ]
    }
   ],
   "source": [
    "from sklearn.linear_model import LinearRegression\n",
    "\n",
    "lreg = LinearRegression()\n",
    "lreg.fit(X_train_P, y_train)\n",
    "\n",
    "print('Linear Regression after PCA')\n",
    "print('Training score : {:.2f}'.format(lreg.score(X_train_P, y_train)))\n",
    "print('Test score     : {:.2f}'.format(lreg.score(X_test_P, y_test)))"
   ]
  },
  {
   "cell_type": "code",
   "execution_count": 95,
   "metadata": {
    "scrolled": false
   },
   "outputs": [
    {
     "name": "stdout",
     "output_type": "stream",
     "text": [
      "The score is: 0.50\n"
     ]
    }
   ],
   "source": [
    "from sklearn.model_selection import cross_val_score\n",
    "\n",
    "scores = cross_val_score(lreg, X_train_P, y_train, cv = 10)\n",
    "print('The score is: {:.2f}'.format((scores).mean()))"
   ]
  },
  {
   "cell_type": "code",
   "execution_count": 96,
   "metadata": {},
   "outputs": [],
   "source": [
    "lrpred = lreg.predict(X_test_P)"
   ]
  },
  {
   "cell_type": "code",
   "execution_count": 97,
   "metadata": {},
   "outputs": [
    {
     "data": {
      "text/plain": [
       "<matplotlib.collections.PathCollection at 0x18548765400>"
      ]
     },
     "execution_count": 97,
     "metadata": {},
     "output_type": "execute_result"
    },
    {
     "data": {
      "image/png": "[encoded data removed]",
      "text/plain": [
       "<Figure size 432x180 with 1 Axes>"
      ]
     },
     "metadata": {
      "needs_background": "light"
     },
     "output_type": "display_data"
    }
   ],
   "source": [
    "pred_val = lrpred\n",
    "true_val = y_test\n",
    "residual = true_val - pred_val\n",
    "\n",
    "fig, ax = plt.subplots(figsize=(6,2.5))\n",
    "plt.scatter(residual,pred_val,color='r')"
   ]
  },
  {
   "cell_type": "code",
   "execution_count": 98,
   "metadata": {
    "scrolled": false
   },
   "outputs": [
    {
     "data": {
      "text/plain": [
       "0.8816756920389045"
      ]
     },
     "execution_count": 98,
     "metadata": {},
     "output_type": "execute_result"
    },
    {
     "data": {
      "image/png": "[encoded data removed]",
      "text/plain": [
       "<Figure size 432x180 with 1 Axes>"
      ]
     },
     "metadata": {
      "needs_background": "light"
     },
     "output_type": "display_data"
    }
   ],
   "source": [
    "import scipy as sp\n",
    "fig, ax = plt.subplots(figsize=(6,2.5))\n",
    "_, (__, ___, r) = sp.stats.probplot(residual, plot=ax, fit=True)\n",
    "r**2"
   ]
  },
  {
   "cell_type": "markdown",
   "metadata": {},
   "source": [
    "### RIDGE REGRESSION"
   ]
  },
  {
   "cell_type": "code",
   "execution_count": 99,
   "metadata": {},
   "outputs": [
    {
     "name": "stdout",
     "output_type": "stream",
     "text": [
      "The best hyperparameter value from grid search: {'alpha': 5}\n",
      "The best train score: 0.50\n"
     ]
    }
   ],
   "source": [
    "from sklearn.linear_model import Ridge\n",
    "from sklearn.model_selection import GridSearchCV\n",
    "\n",
    "ridge=Ridge()\n",
    "para = {'alpha':[0.001, 0.01, 0.1, 1, 5, 10]}\n",
    "\n",
    "grid_search = GridSearchCV(ridge, para, cv = 5)\n",
    "grid_search.fit(X_train_P, y_train)\n",
    "\n",
    "print('The best hyperparameter value from grid search: {}'.format(grid_search.best_params_))\n",
    "print('The best train score: {:.2f}'.format(grid_search.best_score_))"
   ]
  },
  {
   "cell_type": "code",
   "execution_count": 100,
   "metadata": {
    "scrolled": false
   },
   "outputs": [
    {
     "data": {
      "text/plain": [
       "Ridge(alpha=1.0, copy_X=True, fit_intercept=True, max_iter=None,\n",
       "      normalize=False, random_state=None, solver='auto', tol=0.001)"
      ]
     },
     "execution_count": 100,
     "metadata": {},
     "output_type": "execute_result"
    }
   ],
   "source": [
    "ridge.fit(X_train_P, y_train)"
   ]
  },
  {
   "cell_type": "code",
   "execution_count": 101,
   "metadata": {},
   "outputs": [
    {
     "data": {
      "image/png": "[encoded data removed]",
      "text/plain": [
       "<Figure size 432x288 with 1 Axes>"
      ]
     },
     "metadata": {
      "needs_background": "light"
     },
     "output_type": "display_data"
    },
    {
     "name": "stdout",
     "output_type": "stream",
     "text": [
      "train:[0.5034225651218487, 0.5034225650793509, 0.503422560830608, 0.503422136983852, 0.5034119747828285, 0.5033807588745227]\n",
      "test:[0.4896241132361956, 0.48962539117066717, 0.48963816400063787, 0.48976524235262026, 0.49031590372620293, 0.49097252780309086]\n"
     ]
    }
   ],
   "source": [
    "x_range = [0.001, 0.01, 0.1, 1, 5, 10]\n",
    "train_score_list = []\n",
    "test_score_list = []\n",
    "coefs=[]\n",
    "\n",
    "for alpha in x_range: \n",
    "    ridge = Ridge(alpha)\n",
    "    ridge.fit(X_train_P, y_train)\n",
    "    train_score_list.append(ridge.score(X_train_P, y_train))\n",
    "    test_score_list.append(ridge.score(X_test_P, y_test))\n",
    "    coefs.append(ridge.coef_)\n",
    "\n",
    "ax = plt.gca()\n",
    "\n",
    "ax.plot(x_range, coefs)\n",
    "ax.set_xscale('log')\n",
    "ax.set_xlim(ax.get_xlim())\n",
    "plt.xlabel('alpha')\n",
    "plt.ylabel('coefficients')\n",
    "plt.title('Ridge coefficients as a function of the regularization')\n",
    "plt.axis('tight')\n",
    "plt.show() #coeff vs alpha values\n",
    "print('train:{}'.format(train_score_list))\n",
    "print('test:{}'.format(test_score_list))"
   ]
  },
  {
   "cell_type": "code",
   "execution_count": 118,
   "metadata": {
    "scrolled": true
   },
   "outputs": [
    {
     "name": "stdout",
     "output_type": "stream",
     "text": [
      "Ridge Regression after PCA\n",
      "Training score : 0.50\n",
      "Test score     : 0.49\n"
     ]
    }
   ],
   "source": [
    "regr_cv = Ridge(alpha=5)\n",
    "regr_cv.fit(X_train_P, y_train)\n",
    "\n",
    "print('Ridge Regression after PCA')\n",
    "print('Training score : {:.2f}'.format(regr_cv.score(X_train_P, y_train)))\n",
    "print('Test score     : {:.2f}'.format(regr_cv.score(X_test_P, y_test)))"
   ]
  },
  {
   "cell_type": "code",
   "execution_count": 119,
   "metadata": {},
   "outputs": [
    {
     "name": "stdout",
     "output_type": "stream",
     "text": [
      "The score is 0.50\n"
     ]
    }
   ],
   "source": [
    "from sklearn.model_selection import cross_val_score\n",
    "\n",
    "scores = cross_val_score(regr_cv, X_train_P, y_train, cv = 5)\n",
    "print('The score is {:.2f}'.format((scores).mean()))"
   ]
  },
  {
   "cell_type": "code",
   "execution_count": 104,
   "metadata": {
    "scrolled": true
   },
   "outputs": [],
   "source": [
    "Ridge_pred = regr_cv.predict(X_test_P)"
   ]
  },
  {
   "cell_type": "markdown",
   "metadata": {},
   "source": [
    "### LASSO REGRESSION"
   ]
  },
  {
   "cell_type": "code",
   "execution_count": 105,
   "metadata": {
    "scrolled": true
   },
   "outputs": [
    {
     "name": "stdout",
     "output_type": "stream",
     "text": [
      "The best hyperparameter value from grid search:{'alpha': 100}\n",
      "The best train score:0.50\n"
     ]
    }
   ],
   "source": [
    "from sklearn.linear_model import Lasso\n",
    "from sklearn.model_selection import GridSearchCV\n",
    "\n",
    "lasso = Lasso(max_iter = 100000)\n",
    "param = {'alpha':[1, 5, 10, 15, 20, 100]}\n",
    "\n",
    "grid_search = GridSearchCV(lasso, param, cv = 5)\n",
    "grid_search.fit(X_train_P, y_train)\n",
    "\n",
    "print('The best hyperparameter value from grid search:{}'.format(grid_search.best_params_))\n",
    "print('The best train score:{:.2f}'.format(grid_search.best_score_))"
   ]
  },
  {
   "cell_type": "code",
   "execution_count": 106,
   "metadata": {
    "scrolled": true
   },
   "outputs": [
    {
     "data": {
      "text/plain": [
       "Lasso(alpha=1.0, copy_X=True, fit_intercept=True, max_iter=100000,\n",
       "      normalize=False, positive=False, precompute=False, random_state=None,\n",
       "      selection='cyclic', tol=0.0001, warm_start=False)"
      ]
     },
     "execution_count": 106,
     "metadata": {},
     "output_type": "execute_result"
    }
   ],
   "source": [
    "lasso.fit(X_train_P, y_train)"
   ]
  },
  {
   "cell_type": "code",
   "execution_count": 107,
   "metadata": {},
   "outputs": [
    {
     "data": {
      "image/png": "[encoded data removed]",
      "text/plain": [
       "<Figure size 432x288 with 1 Axes>"
      ]
     },
     "metadata": {
      "needs_background": "light"
     },
     "output_type": "display_data"
    },
    {
     "name": "stdout",
     "output_type": "stream",
     "text": [
      "train:[0.5034225644259815, 0.5034225477148673, 0.5034224954926353, 0.5034224084555821, 0.5034222866037074, 0.5034156021580121]\n",
      "test:[0.4896277821772038, 0.4896430088896452, 0.4896620039138232, 0.4896809563086973, 0.48969986607426746, 0.4899966247380484]\n"
     ]
    }
   ],
   "source": [
    "x_range = [1, 5, 10, 15, 20, 100]\n",
    "train_score_list = []\n",
    "test_score_list = []\n",
    "coefs=[]\n",
    "\n",
    "for alpha in x_range: \n",
    "    lasso = Lasso(alpha,max_iter = 100000)\n",
    "    lasso.fit(X_train_P, y_train)\n",
    "    train_score_list.append(lasso.score(X_train_P, y_train))\n",
    "    test_score_list.append(lasso.score(X_test_P, y_test))\n",
    "    coefs.append(ridge.coef_)\n",
    "\n",
    "ax = plt.gca()\n",
    "\n",
    "ax.plot(x_range, coefs)\n",
    "ax.set_xscale('log')\n",
    "ax.set_xlim(ax.get_xlim())\n",
    "plt.xlabel('alpha')\n",
    "plt.ylabel('coefficients')\n",
    "plt.title('Lasso coefficients as a function of the regularization')\n",
    "plt.axis('tight')\n",
    "plt.show() #coeff vs alpha values\n",
    "print('train:{}'.format(train_score_list))\n",
    "print('test:{}'.format(test_score_list))"
   ]
  },
  {
   "cell_type": "code",
   "execution_count": 122,
   "metadata": {},
   "outputs": [
    {
     "name": "stdout",
     "output_type": "stream",
     "text": [
      "Lasso Regression after PCA\n",
      "Training score : 0.50\n",
      "Test score     : 0.49\n"
     ]
    }
   ],
   "source": [
    "lasso = Lasso(alpha = 100, random_state = 0, max_iter = 10000)\n",
    "lasso.fit(X_train_P, y_train)\n",
    "print('Lasso Regression after PCA')\n",
    "print('Training score : {:.2f}'.format(lasso.score(X_train_P, y_train)))\n",
    "print('Test score     : {:.2f}'.format(lasso.score(X_test_P, y_test)))"
   ]
  },
  {
   "cell_type": "code",
   "execution_count": 164,
   "metadata": {},
   "outputs": [
    {
     "name": "stdout",
     "output_type": "stream",
     "text": [
      "The scores are 0.50\n"
     ]
    }
   ],
   "source": [
    "from sklearn.model_selection import cross_val_score\n",
    "\n",
    "scores = cross_val_score(lasso, X_train_P, y_train, cv = 5)\n",
    "print('The scores are {:.2f}'.format((scores).mean()))"
   ]
  },
  {
   "cell_type": "code",
   "execution_count": 110,
   "metadata": {},
   "outputs": [],
   "source": [
    "Lasso_pred = lasso.predict(X_test_P)"
   ]
  },
  {
   "cell_type": "markdown",
   "metadata": {},
   "source": [
    "### POLYNOMIAL REGRESSION"
   ]
  },
  {
   "cell_type": "code",
   "execution_count": 166,
   "metadata": {},
   "outputs": [],
   "source": [
    "from sklearn.preprocessing import PolynomialFeatures\n",
    "from sklearn.linear_model import LinearRegression\n",
    "from sklearn.model_selection import GridSearchCV\n",
    "from sklearn.linear_model import Ridge\n",
    "\n",
    "poly = PolynomialFeatures(degree = 2)\n",
    "X_train_poly = poly.fit_transform(X_train)\n",
    "X_test_poly = poly.transform(X_test)"
   ]
  },
  {
   "cell_type": "code",
   "execution_count": 112,
   "metadata": {
    "scrolled": false
   },
   "outputs": [
    {
     "name": "stdout",
     "output_type": "stream",
     "text": [
      "Polynomial Regression after PCA\n",
      "Training score : 0.72\n",
      "Test score     : 0.67\n"
     ]
    }
   ],
   "source": [
    "lreg.fit(X_train_poly, y_train)\n",
    "lreg.predict(X_test_poly)\n",
    "\n",
    "print('Polynomial Regression after PCA')\n",
    "print('Training score : {:.2f}'.format(lreg.score(X_train_poly, y_train)))\n",
    "print('Test score     : {:.2f}'.format(lreg.score(X_test_poly, y_test)))"
   ]
  },
  {
   "cell_type": "code",
   "execution_count": 113,
   "metadata": {},
   "outputs": [],
   "source": [
    "Poly_pred = lreg.predict(X_test_poly)"
   ]
  },
  {
   "cell_type": "code",
   "execution_count": 114,
   "metadata": {
    "scrolled": true
   },
   "outputs": [
    {
     "name": "stdout",
     "output_type": "stream",
     "text": [
      "The score is 0.67\n"
     ]
    }
   ],
   "source": [
    "from sklearn.model_selection import cross_val_score\n",
    "\n",
    "scores = cross_val_score(lreg, X_train_poly, y_train, cv = 5)\n",
    "print('The score is {:.2f}'.format((scores).mean()))"
   ]
  },
  {
   "cell_type": "markdown",
   "metadata": {},
   "source": [
    "### Support Vector Machines"
   ]
  },
  {
   "cell_type": "markdown",
   "metadata": {},
   "source": [
    "### svr - linear"
   ]
  },
  {
   "cell_type": "code",
   "execution_count": 148,
   "metadata": {
    "scrolled": true
   },
   "outputs": [
    {
     "name": "stdout",
     "output_type": "stream",
     "text": [
      "The best hyperparameter value from grid search:{'C': 100, 'gamma': 0.001}\n",
      "The best train score:0.17\n"
     ]
    }
   ],
   "source": [
    "from sklearn.svm import SVR\n",
    "\n",
    "svrlr = SVR(kernel = 'linear')\n",
    "param = {'C':[0.001, 0.005, 0.01, 0.05, 0.1, 0.5, 1, 5, 10, 50, 100], \n",
    "              'gamma': [0.001, 0.005, 0.01, 0.05, 0.1, 0.5, 1, 5, 10, 50, 100]}\n",
    "grid_search = GridSearchCV(svrlr, param, cv = 4)\n",
    "grid_search.fit(X_train_P, y_train)\n",
    "\n",
    "print('The best hyperparameter value from grid search:{}'.format(grid_search.best_params_))\n",
    "print('The best train score:{:.2f}'.format(grid_search.best_score_))"
   ]
  },
  {
   "cell_type": "code",
   "execution_count": 149,
   "metadata": {},
   "outputs": [
    {
     "name": "stdout",
     "output_type": "stream",
     "text": [
      "SVR Linear after PCA\n",
      "Training score: 0.21\n",
      "Test score: 0.23\n"
     ]
    }
   ],
   "source": [
    "svrlr = SVR(kernel ='linear', C=100,gamma= 0.001)\n",
    "svrlr.fit(X_train_P, y_train)\n",
    "\n",
    "print('SVR Linear after PCA')\n",
    "print('Training score: {:.2f}'.format(svrlr.score(X_train_P, y_train)))\n",
    "print('Test score: {:.2f}'.format(svrlr.score(X_test_P, y_test)))"
   ]
  },
  {
   "cell_type": "code",
   "execution_count": 150,
   "metadata": {},
   "outputs": [],
   "source": [
    "svr_lr = svrlr.predict(X_test_P)"
   ]
  },
  {
   "cell_type": "markdown",
   "metadata": {},
   "source": [
    "#### svr - poly"
   ]
  },
  {
   "cell_type": "code",
   "execution_count": 75,
   "metadata": {},
   "outputs": [
    {
     "name": "stdout",
     "output_type": "stream",
     "text": [
      "The best hyperparameter value from grid search:{'C': 50, 'gamma': 50}\n",
      "The best train score:0.60\n"
     ]
    }
   ],
   "source": [
    "from sklearn.svm import SVR\n",
    "from sklearn.model_selection import GridSearchCV\n",
    "\n",
    "svrpl = SVR(kernel = 'poly')\n",
    "param = {'C':[ 0.01, 0.05, 0.1, 0.5, 1, 5, 10, 50], \n",
    "              'gamma': [0.01, 0.05, 0.1, 0.5, 1, 5, 10, 50]}\n",
    "grid_search = GridSearchCV(svrpl, param, cv = 2)\n",
    "grid_search.fit(X_train_P, y_train)\n",
    "\n",
    "print('The best hyperparameter value from grid search:{}'.format(grid_search.best_params_))\n",
    "print('The best train score:{:.2f}'.format(grid_search.best_score_))"
   ]
  },
  {
   "cell_type": "code",
   "execution_count": 76,
   "metadata": {},
   "outputs": [
    {
     "name": "stdout",
     "output_type": "stream",
     "text": [
      "SVR Poly after PCA\n",
      "Training score: 0.65\n",
      "Test score: 0.64\n"
     ]
    }
   ],
   "source": [
    "svrpl = SVR(kernel ='poly', C=50,gamma= 50)\n",
    "svrpl.fit(X_train_P, y_train)\n",
    "\n",
    "print('SVR Poly after PCA')\n",
    "print('Training score: {:.2f}'.format(svrpl.score(X_train_P, y_train)))\n",
    "print('Test score: {:.2f}'.format(svrpl.score(X_test_P, y_test)))"
   ]
  },
  {
   "cell_type": "markdown",
   "metadata": {},
   "source": [
    "### svr - rbf"
   ]
  },
  {
   "cell_type": "code",
   "execution_count": 151,
   "metadata": {},
   "outputs": [
    {
     "name": "stdout",
     "output_type": "stream",
     "text": [
      "The best hyperparameter value from grid search:{'C': 100, 'gamma': 0.5}\n",
      "The best train score:0.02\n"
     ]
    }
   ],
   "source": [
    "from sklearn.svm import SVR\n",
    "\n",
    "svrkernel = SVR(kernel = 'rbf')\n",
    "param = {'C':[0.001, 0.005, 0.01, 0.05, 0.1, 0.5, 1, 5, 10, 50, 100], \n",
    "              'gamma': [0.001, 0.005, 0.01, 0.05, 0.1, 0.5, 1, 5, 10, 50, 100]}\n",
    "\n",
    "grid_search = GridSearchCV(svrkernel, param, cv = 2)\n",
    "grid_search.fit(X_train_P, y_train)\n",
    "\n",
    "print('The best hyperparameter value from grid search:{}'.format(grid_search.best_params_))\n",
    "print('The best train score:{:.2f}'.format(grid_search.best_score_))"
   ]
  },
  {
   "cell_type": "code",
   "execution_count": 152,
   "metadata": {},
   "outputs": [
    {
     "name": "stdout",
     "output_type": "stream",
     "text": [
      "SVR rbf after PCA\n",
      "Training score: 0.07\n",
      "Test score:     0.09\n"
     ]
    }
   ],
   "source": [
    "svrkernel = SVR(kernel ='rbf', C=100,gamma= 0.5)\n",
    "\n",
    "svrkernel.fit(X_train_P, y_train)\n",
    "\n",
    "print('SVR rbf after PCA')\n",
    "print('Training score: {:.2f}'.format(svrkernel.score(X_train_P, y_train)))\n",
    "print('Test score:     {:.2f}'.format(svrkernel.score(X_test_P, y_test)))"
   ]
  },
  {
   "cell_type": "code",
   "execution_count": 153,
   "metadata": {},
   "outputs": [],
   "source": [
    "svr_k = svrkernel.predict(X_test_P)"
   ]
  },
  {
   "cell_type": "markdown",
   "metadata": {},
   "source": [
    "### KNN Regressor"
   ]
  },
  {
   "cell_type": "code",
   "execution_count": 154,
   "metadata": {},
   "outputs": [
    {
     "name": "stdout",
     "output_type": "stream",
     "text": [
      "The best hyperparameter value from grid search:{'n_neighbors': 10}\n",
      "The best train score:0.61\n"
     ]
    }
   ],
   "source": [
    "from sklearn.neighbors import KNeighborsRegressor\n",
    "from sklearn.metrics import accuracy_score\n",
    "\n",
    "knnreg = KNeighborsRegressor()\n",
    "param = {'n_neighbors':[2,3,5,10,15,20]}\n",
    "\n",
    "grid_search = GridSearchCV(knnreg, param, cv = 5)\n",
    "grid_search.fit(X_train_P, y_train)\n",
    "\n",
    "print('The best hyperparameter value from grid search:{}'.format(grid_search.best_params_))\n",
    "print('The best train score:{:.2f}'.format(grid_search.best_score_))"
   ]
  },
  {
   "cell_type": "code",
   "execution_count": 155,
   "metadata": {},
   "outputs": [
    {
     "name": "stdout",
     "output_type": "stream",
     "text": [
      "train:[0.7289205488482692, 0.685179628204287, 0.667456074098314, 0.6506772948359771]\n",
      "test:[0.5306117360831659, 0.5622053217918317, 0.5743754651532771, 0.5858516808898113]\n"
     ]
    },
    {
     "data": {
      "text/plain": [
       "<matplotlib.legend.Legend at 0x1854ddd0f28>"
      ]
     },
     "execution_count": 155,
     "metadata": {},
     "output_type": "execute_result"
    },
    {
     "data": {
      "image/png": "[encoded data removed]",
      "text/plain": [
       "<Figure size 432x288 with 1 Axes>"
      ]
     },
     "metadata": {
      "needs_background": "light"
     },
     "output_type": "display_data"
    }
   ],
   "source": [
    "from sklearn.neighbors import KNeighborsRegressor\n",
    "from sklearn import metrics\n",
    "\n",
    "train_score_array = []\n",
    "test_score_array = []\n",
    "y =  [5, 10, 15, 20]\n",
    "\n",
    "for k in y:\n",
    "    knn = KNeighborsRegressor(k)\n",
    "    knn.fit(X_train_P, y_train)\n",
    "    train_score_array.append(knn.score(X_train_P, y_train))\n",
    "    test_score_array.append(knn.score(X_test_P, y_test))\n",
    "\n",
    "print('train:{}'.format(train_score_array))\n",
    "print('test:{}'.format(test_score_array))\n",
    "\n",
    "x_axis = y\n",
    "%matplotlib inline\n",
    "plt.plot(x_axis, train_score_array, label = 'Train Score', c = 'g')\n",
    "plt.plot(x_axis, test_score_array, label = 'Test Score', c='b')\n",
    "plt.xlabel('k')\n",
    "plt.ylabel('Accuracy')\n",
    "plt.legend()"
   ]
  },
  {
   "cell_type": "code",
   "execution_count": 156,
   "metadata": {},
   "outputs": [
    {
     "name": "stdout",
     "output_type": "stream",
     "text": [
      "K Nearest Neigbhor after PCA\n",
      "Training score: 0.69\n",
      "Test score: 0.56\n"
     ]
    }
   ],
   "source": [
    "knnreg = KNeighborsRegressor(10)\n",
    "knnreg.fit(X_train_P, y_train)\n",
    "\n",
    "print('K Nearest Neigbhor after PCA')\n",
    "print('Training score: {:.2f}'.format(knnreg.score(X_train_P, y_train)))\n",
    "print('Test score: {:.2f}'.format(knnreg.score(X_test_P, y_test)))"
   ]
  },
  {
   "cell_type": "code",
   "execution_count": 157,
   "metadata": {},
   "outputs": [],
   "source": [
    "knn_pred = knnreg.predict(X_test_P)"
   ]
  },
  {
   "cell_type": "markdown",
   "metadata": {},
   "source": [
    "### DECISION TREE"
   ]
  },
  {
   "cell_type": "code",
   "execution_count": 158,
   "metadata": {},
   "outputs": [
    {
     "name": "stdout",
     "output_type": "stream",
     "text": [
      "The best hyperparameter value from grid search:{'max_depth': 9}\n",
      "The best train score:0.51\n"
     ]
    }
   ],
   "source": [
    "from sklearn.tree import DecisionTreeRegressor\n",
    "from sklearn.model_selection import GridSearchCV\n",
    "\n",
    "regressor = DecisionTreeRegressor()\n",
    "\n",
    "param = {'max_depth': [1,3,5,7,9,10]}\n",
    "\n",
    "grid_search = GridSearchCV(regressor, param, cv = 5)\n",
    "grid_search.fit(X_train_P, y_train)   \n",
    "\n",
    "print('The best hyperparameter value from grid search:{}'.format(grid_search.best_params_))\n",
    "print('The best train score:{:.2f}'.format(grid_search.best_score_))"
   ]
  },
  {
   "cell_type": "code",
   "execution_count": 159,
   "metadata": {},
   "outputs": [
    {
     "name": "stdout",
     "output_type": "stream",
     "text": [
      "Decision tree after PCA\n",
      "Training score: 0.75\n",
      "Test score: 0.40\n"
     ]
    }
   ],
   "source": [
    "regressor = DecisionTreeRegressor(max_depth = 9)\n",
    "regressor.fit(X_train_P, y_train)\n",
    "\n",
    "print('Decision tree after PCA')\n",
    "print('Training score: {:.2f}'.format(regressor.score(X_train_P, y_train)))\n",
    "print('Test score: {:.2f}'.format(regressor.score(X_test_P, y_test)))"
   ]
  },
  {
   "cell_type": "code",
   "execution_count": 160,
   "metadata": {},
   "outputs": [],
   "source": [
    "DT_pred = regressor.predict(X_test_P)"
   ]
  },
  {
   "cell_type": "markdown",
   "metadata": {},
   "source": [
    "### RANDOM FOREST REGRESSOR"
   ]
  },
  {
   "cell_type": "code",
   "execution_count": 161,
   "metadata": {
    "scrolled": true
   },
   "outputs": [
    {
     "name": "stdout",
     "output_type": "stream",
     "text": [
      "The best hyperparameter value from grid search:{'max_depth': 9, 'n_estimators': 100}\n",
      "The best train score:0.62\n"
     ]
    }
   ],
   "source": [
    "from sklearn.ensemble import RandomForestRegressor\n",
    "from sklearn.model_selection import GridSearchCV\n",
    "\n",
    "RF_regressor = RandomForestRegressor()\n",
    "\n",
    "param = {'max_depth': [1,3,5,7,9,10],'n_estimators' : [10,50,100]}\n",
    "\n",
    "grid_search = GridSearchCV(RF_regressor, param, cv = 5)\n",
    "grid_search.fit(X_train_P, y_train)   \n",
    "\n",
    "print('The best hyperparameter value from grid search:{}'.format(grid_search.best_params_))\n",
    "print('The best train score:{:.2f}'.format(grid_search.best_score_))"
   ]
  },
  {
   "cell_type": "code",
   "execution_count": 162,
   "metadata": {},
   "outputs": [
    {
     "name": "stdout",
     "output_type": "stream",
     "text": [
      "Random Forest after PCA\n",
      "Training score: 0.77\n",
      "Test score    : 0.57\n"
     ]
    }
   ],
   "source": [
    "RT_regressor = RandomForestRegressor(max_depth = 9,n_estimators = 100)\n",
    "RT_regressor.fit(X_train_P, y_train)\n",
    "\n",
    "print('Random Forest after PCA')\n",
    "print('Training score: {:.2f}'.format(RT_regressor.score(X_train_P, y_train)))\n",
    "print('Test score    : {:.2f}'.format(RT_regressor.score(X_test_P, y_test)))"
   ]
  },
  {
   "cell_type": "code",
   "execution_count": 163,
   "metadata": {},
   "outputs": [],
   "source": [
    "RT = RT_regressor.predict(X_test_P)"
   ]
  },
  {
   "cell_type": "markdown",
   "metadata": {},
   "source": [
    "## INFERENCE"
   ]
  },
  {
   "cell_type": "markdown",
   "metadata": {},
   "source": [
    " PCA doesn't seem to help the regression models"
   ]
  },
  {
   "attachments": {
    "image.png": {
     "image/png": "[encoded data removed]"
    }
   },
   "cell_type": "markdown",
   "metadata": {},
   "source": [
    "![image.png](attachment:image.png)"
   ]
  },
  {
   "cell_type": "markdown",
   "metadata": {},
   "source": [
    "## DEEP LEARNING"
   ]
  },
  {
   "cell_type": "markdown",
   "metadata": {},
   "source": [
    "## Model 1: Perceptron"
   ]
  },
  {
   "cell_type": "code",
   "execution_count": 179,
   "metadata": {
    "collapsed": true
   },
   "outputs": [
    {
     "name": "stdout",
     "output_type": "stream",
     "text": [
      "Collecting keras\n",
      "  Downloading https://files.pythonhosted.org/packages/ad/fd/6bfe87920d7f4fd475acd28500a42482b6b84479832bdc0fe9e589a60ceb/Keras-2.3.1-py2.py3-none-any.whl (377kB)\n",
      "Requirement already satisfied: pyyaml in d:\\anaconda\\lib\\site-packages (from keras) (5.1)\n",
      "Requirement already satisfied: h5py in d:\\anaconda\\lib\\site-packages (from keras) (2.9.0)\n",
      "Requirement already satisfied: scipy>=0.14 in d:\\anaconda\\lib\\site-packages (from keras) (1.2.1)\n",
      "Collecting keras-applications>=1.0.6 (from keras)\n",
      "  Downloading https://files.pythonhosted.org/packages/71/e3/19762fdfc62877ae9102edf6342d71b28fbfd9dea3d2f96a882ce099b03f/Keras_Applications-1.0.8-py3-none-any.whl (50kB)\n",
      "Requirement already satisfied: six>=1.9.0 in d:\\anaconda\\lib\\site-packages (from keras) (1.12.0)\n",
      "Requirement already satisfied: numpy>=1.9.1 in d:\\anaconda\\lib\\site-packages (from keras) (1.16.2)\n",
      "Collecting keras-preprocessing>=1.0.5 (from keras)\n",
      "  Downloading https://files.pythonhosted.org/packages/28/6a/8c1f62c37212d9fc441a7e26736df51ce6f0e38455816445471f10da4f0a/Keras_Preprocessing-1.1.0-py2.py3-none-any.whl (41kB)\n",
      "Installing collected packages: keras-applications, keras-preprocessing, keras\n",
      "Successfully installed keras-2.3.1 keras-applications-1.0.8 keras-preprocessing-1.1.0\n"
     ]
    }
   ],
   "source": [
    "!pip install keras"
   ]
  },
  {
   "cell_type": "code",
   "execution_count": 181,
   "metadata": {
    "collapsed": true
   },
   "outputs": [
    {
     "name": "stdout",
     "output_type": "stream",
     "text": [
      "Collecting tensorflow\n",
      "  Downloading https://files.pythonhosted.org/packages/54/5f/e1b2d83b808f978f51b7ce109315154da3a3d4151aa59686002681f2e109/tensorflow-2.0.0-cp37-cp37m-win_amd64.whl (48.1MB)\n",
      "Collecting tensorflow-estimator<2.1.0,>=2.0.0 (from tensorflow)\n",
      "  Downloading https://files.pythonhosted.org/packages/fc/08/8b927337b7019c374719145d1dceba21a8bb909b93b1ad6f8fb7d22c1ca1/tensorflow_estimator-2.0.1-py2.py3-none-any.whl (449kB)\n",
      "Collecting google-pasta>=0.1.6 (from tensorflow)\n",
      "  Downloading https://files.pythonhosted.org/packages/c3/fd/1e86bc4837cc9a3a5faf3db9b1854aa04ad35b5f381f9648fbe81a6f94e4/google_pasta-0.1.8-py3-none-any.whl (57kB)\n",
      "Requirement already satisfied: six>=1.10.0 in d:\\anaconda\\lib\\site-packages (from tensorflow) (1.12.0)\n",
      "Collecting tensorboard<2.1.0,>=2.0.0 (from tensorflow)\n",
      "  Downloading https://files.pythonhosted.org/packages/76/54/99b9d5d52d5cb732f099baaaf7740403e83fe6b0cedde940fabd2b13d75a/tensorboard-2.0.2-py3-none-any.whl (3.8MB)\n",
      "Requirement already satisfied: keras-applications>=1.0.8 in d:\\anaconda\\lib\\site-packages (from tensorflow) (1.0.8)\n",
      "Collecting grpcio>=1.8.6 (from tensorflow)\n",
      "  Downloading https://files.pythonhosted.org/packages/b3/a8/91d878054bdacf586ed613bec64f5c26cc0a0a2af294377c7f29469a05f4/grpcio-1.25.0-cp37-cp37m-win_amd64.whl (1.8MB)\n",
      "Collecting opt-einsum>=2.3.2 (from tensorflow)\n",
      "  Downloading https://files.pythonhosted.org/packages/b8/83/755bd5324777875e9dff19c2e59daec837d0378c09196634524a3d7269ac/opt_einsum-3.1.0.tar.gz (69kB)\n",
      "Collecting absl-py>=0.7.0 (from tensorflow)\n",
      "  Downloading https://files.pythonhosted.org/packages/3b/72/e6e483e2db953c11efa44ee21c5fdb6505c4dffa447b4263ca8af6676b62/absl-py-0.8.1.tar.gz (103kB)\n",
      "Collecting gast==0.2.2 (from tensorflow)\n",
      "  Downloading https://files.pythonhosted.org/packages/4e/35/11749bf99b2d4e3cceb4d55ca22590b0d7c2c62b9de38ac4a4a7f4687421/gast-0.2.2.tar.gz\n",
      "Collecting astor>=0.6.0 (from tensorflow)\n",
      "  Downloading https://files.pythonhosted.org/packages/d1/4f/950dfae467b384fc96bc6469de25d832534f6b4441033c39f914efd13418/astor-0.8.0-py2.py3-none-any.whl\n",
      "Collecting termcolor>=1.1.0 (from tensorflow)\n",
      "  Downloading https://files.pythonhosted.org/packages/8a/48/a76be51647d0eb9f10e2a4511bf3ffb8cc1e6b14e9e4fab46173aa79f981/termcolor-1.1.0.tar.gz\n",
      "Collecting protobuf>=3.6.1 (from tensorflow)\n",
      "  Downloading https://files.pythonhosted.org/packages/ef/3b/cc373fb204fbe90f1a31f5921e85c0e568481f488039ce210f69831b4204/protobuf-3.11.0-cp37-cp37m-win_amd64.whl (1.0MB)\n",
      "Requirement already satisfied: wheel>=0.26 in d:\\anaconda\\lib\\site-packages (from tensorflow) (0.33.1)\n",
      "Requirement already satisfied: keras-preprocessing>=1.0.5 in d:\\anaconda\\lib\\site-packages (from tensorflow) (1.1.0)\n",
      "Requirement already satisfied: numpy<2.0,>=1.16.0 in d:\\anaconda\\lib\\site-packages (from tensorflow) (1.16.2)\n",
      "Requirement already satisfied: wrapt>=1.11.1 in d:\\anaconda\\lib\\site-packages (from tensorflow) (1.11.1)\n",
      "Collecting setuptools>=41.0.0 (from tensorboard<2.1.0,>=2.0.0->tensorflow)\n",
      "  Downloading https://files.pythonhosted.org/packages/9e/d5/444a443d890f09fc1ca1a2c3c9fc7e84cb148177b05ac94fe5084e3d9abb/setuptools-42.0.1-py2.py3-none-any.whl (582kB)\n",
      "Requirement already satisfied: werkzeug>=0.11.15 in d:\\anaconda\\lib\\site-packages (from tensorboard<2.1.0,>=2.0.0->tensorflow) (0.14.1)\n",
      "Requirement already satisfied: requests<3,>=2.21.0 in d:\\anaconda\\lib\\site-packages (from tensorboard<2.1.0,>=2.0.0->tensorflow) (2.21.0)\n",
      "Collecting google-auth-oauthlib<0.5,>=0.4.1 (from tensorboard<2.1.0,>=2.0.0->tensorflow)\n",
      "  Downloading https://files.pythonhosted.org/packages/7b/b8/88def36e74bee9fce511c9519571f4e485e890093ab7442284f4ffaef60b/google_auth_oauthlib-0.4.1-py2.py3-none-any.whl\n",
      "Collecting google-auth<2,>=1.6.3 (from tensorboard<2.1.0,>=2.0.0->tensorflow)\n",
      "  Downloading https://files.pythonhosted.org/packages/7b/cb/786dc53d93494784935a62947643b48250b84a882474e714f9af5e1a1928/google_auth-1.7.1-py2.py3-none-any.whl (74kB)\n",
      "Collecting markdown>=2.6.8 (from tensorboard<2.1.0,>=2.0.0->tensorflow)\n",
      "  Downloading https://files.pythonhosted.org/packages/c0/4e/fd492e91abdc2d2fcb70ef453064d980688762079397f779758e055f6575/Markdown-3.1.1-py2.py3-none-any.whl (87kB)\n",
      "Requirement already satisfied: h5py in d:\\anaconda\\lib\\site-packages (from keras-applications>=1.0.8->tensorflow) (2.9.0)\n",
      "Requirement already satisfied: chardet<3.1.0,>=3.0.2 in d:\\anaconda\\lib\\site-packages (from requests<3,>=2.21.0->tensorboard<2.1.0,>=2.0.0->tensorflow) (3.0.4)\n",
      "Requirement already satisfied: certifi>=2017.4.17 in d:\\anaconda\\lib\\site-packages (from requests<3,>=2.21.0->tensorboard<2.1.0,>=2.0.0->tensorflow) (2019.3.9)\n",
      "Requirement already satisfied: idna<2.9,>=2.5 in d:\\anaconda\\lib\\site-packages (from requests<3,>=2.21.0->tensorboard<2.1.0,>=2.0.0->tensorflow) (2.8)\n",
      "Requirement already satisfied: urllib3<1.25,>=1.21.1 in d:\\anaconda\\lib\\site-packages (from requests<3,>=2.21.0->tensorboard<2.1.0,>=2.0.0->tensorflow) (1.24.1)\n",
      "Collecting requests-oauthlib>=0.7.0 (from google-auth-oauthlib<0.5,>=0.4.1->tensorboard<2.1.0,>=2.0.0->tensorflow)\n",
      "  Downloading https://files.pythonhosted.org/packages/a3/12/b92740d845ab62ea4edf04d2f4164d82532b5a0b03836d4d4e71c6f3d379/requests_oauthlib-1.3.0-py2.py3-none-any.whl\n",
      "Collecting cachetools<3.2,>=2.0.0 (from google-auth<2,>=1.6.3->tensorboard<2.1.0,>=2.0.0->tensorflow)\n",
      "  Downloading https://files.pythonhosted.org/packages/2f/a6/30b0a0bef12283e83e58c1d6e7b5aabc7acfc4110df81a4471655d33e704/cachetools-3.1.1-py2.py3-none-any.whl\n",
      "Collecting rsa<4.1,>=3.1.4 (from google-auth<2,>=1.6.3->tensorboard<2.1.0,>=2.0.0->tensorflow)\n",
      "  Downloading https://files.pythonhosted.org/packages/02/e5/38518af393f7c214357079ce67a317307936896e961e35450b70fad2a9cf/rsa-4.0-py2.py3-none-any.whl\n",
      "Collecting pyasn1-modules>=0.2.1 (from google-auth<2,>=1.6.3->tensorboard<2.1.0,>=2.0.0->tensorflow)\n",
      "  Downloading https://files.pythonhosted.org/packages/52/50/bb4cefca37da63a0c52218ba2cb1b1c36110d84dcbae8aa48cd67c5e95c2/pyasn1_modules-0.2.7-py2.py3-none-any.whl (131kB)\n",
      "Collecting oauthlib>=3.0.0 (from requests-oauthlib>=0.7.0->google-auth-oauthlib<0.5,>=0.4.1->tensorboard<2.1.0,>=2.0.0->tensorflow)\n",
      "  Downloading https://files.pythonhosted.org/packages/05/57/ce2e7a8fa7c0afb54a0581b14a65b56e62b5759dbc98e80627142b8a3704/oauthlib-3.1.0-py2.py3-none-any.whl (147kB)\n",
      "Collecting pyasn1>=0.1.3 (from rsa<4.1,>=3.1.4->google-auth<2,>=1.6.3->tensorboard<2.1.0,>=2.0.0->tensorflow)\n",
      "  Downloading https://files.pythonhosted.org/packages/62/1e/a94a8d635fa3ce4cfc7f506003548d0a2447ae76fd5ca53932970fe3053f/pyasn1-0.4.8-py2.py3-none-any.whl (77kB)\n",
      "Building wheels for collected packages: opt-einsum, absl-py, gast, termcolor\n",
      "  Building wheel for opt-einsum (setup.py): started\n",
      "  Building wheel for opt-einsum (setup.py): finished with status 'done'\n",
      "  Stored in directory: C:\\Users\\Abhi's\\AppData\\Local\\pip\\Cache\\wheels\\2c\\b1\\94\\43d03e130b929aae7ba3f8d15cbd7bc0d1cb5bb38a5c721833\n",
      "  Building wheel for absl-py (setup.py): started\n",
      "  Building wheel for absl-py (setup.py): finished with status 'done'\n",
      "  Stored in directory: C:\\Users\\Abhi's\\AppData\\Local\\pip\\Cache\\wheels\\a7\\15\\a0\\0a0561549ad11cdc1bc8fa1191a353efd30facf6bfb507aefc\n",
      "  Building wheel for gast (setup.py): started\n",
      "  Building wheel for gast (setup.py): finished with status 'done'\n",
      "  Stored in directory: C:\\Users\\Abhi's\\AppData\\Local\\pip\\Cache\\wheels\\5c\\2e\\7e\\a1d4d4fcebe6c381f378ce7743a3ced3699feb89bcfbdadadd\n",
      "  Building wheel for termcolor (setup.py): started\n",
      "  Building wheel for termcolor (setup.py): finished with status 'done'\n",
      "  Stored in directory: C:\\Users\\Abhi's\\AppData\\Local\\pip\\Cache\\wheels\\7c\\06\\54\\bc84598ba1daf8f970247f550b175aaaee85f68b4b0c5ab2c6\n",
      "Successfully built opt-einsum absl-py gast termcolor\n",
      "Installing collected packages: tensorflow-estimator, google-pasta, setuptools, absl-py, grpcio, oauthlib, requests-oauthlib, cachetools, pyasn1, rsa, pyasn1-modules, google-auth, google-auth-oauthlib, markdown, protobuf, tensorboard, opt-einsum, gast, astor, termcolor, tensorflow\n",
      "  Found existing installation: setuptools 40.8.0\n",
      "    Uninstalling setuptools-40.8.0:\n",
      "      Successfully uninstalled setuptools-40.8.0\n",
      "Successfully installed absl-py-0.8.1 astor-0.8.0 cachetools-3.1.1 gast-0.2.2 google-auth-1.7.1 google-auth-oauthlib-0.4.1 google-pasta-0.1.8 grpcio-1.25.0 markdown-3.1.1 oauthlib-3.1.0 opt-einsum-3.1.0 protobuf-3.11.0 pyasn1-0.4.8 pyasn1-modules-0.2.7 requests-oauthlib-1.3.0 rsa-4.0 setuptools-42.0.1 tensorboard-2.0.2 tensorflow-2.0.0 tensorflow-estimator-2.0.1 termcolor-1.1.0\n"
     ]
    }
   ],
   "source": [
    "!pip install tensorflow"
   ]
  },
  {
   "cell_type": "code",
   "execution_count": 369,
   "metadata": {},
   "outputs": [
    {
     "name": "stdout",
     "output_type": "stream",
     "text": [
      "X_train_scaled (16924, 18)\n",
      "X_test_scaled (4231, 18)\n",
      "y_train (16924,)\n",
      "y_test (4231,)\n"
     ]
    }
   ],
   "source": [
    "print('X_train_scaled',X_train_scaled.shape)\n",
    "print('X_test_scaled',X_test_scaled.shape)\n",
    "print('y_train',y_train.shape)\n",
    "print('y_test',y_test.shape)"
   ]
  },
  {
   "cell_type": "code",
   "execution_count": 393,
   "metadata": {
    "scrolled": true
   },
   "outputs": [
    {
     "name": "stdout",
     "output_type": "stream",
     "text": [
      "Epoch 1/500\n",
      "16924/16924 [==============================] - 0s 26us/step - loss: 538023.7131 - mae: 538023.8125 - accuracy: 0.0000e+00\n",
      "Epoch 2/500\n",
      "16924/16924 [==============================] - 0s 19us/step - loss: 538001.5046 - mae: 538001.5625 - accuracy: 0.0000e+00\n",
      "Epoch 3/500\n",
      "16924/16924 [==============================] - 0s 18us/step - loss: 537900.3234 - mae: 537900.5000 - accuracy: 0.0000e+00\n",
      "Epoch 4/500\n",
      "16924/16924 [==============================] - 0s 20us/step - loss: 537661.7992 - mae: 537661.7500 - accuracy: 0.0000e+00\n",
      "Epoch 5/500\n",
      "16924/16924 [==============================] - 0s 20us/step - loss: 537236.4637 - mae: 537236.5000 - accuracy: 0.0000e+00\n",
      "Epoch 6/500\n",
      "16924/16924 [==============================] - 0s 19us/step - loss: 536582.0867 - mae: 536582.1875 - accuracy: 0.0000e+00\n",
      "Epoch 7/500\n",
      "16924/16924 [==============================] - 0s 19us/step - loss: 535662.8524 - mae: 535662.8750 - accuracy: 0.0000e+00\n",
      "Epoch 8/500\n",
      "16924/16924 [==============================] - 0s 18us/step - loss: 534447.7722 - mae: 534447.8750 - accuracy: 0.0000e+00\n",
      "Epoch 9/500\n",
      "16924/16924 [==============================] - 0s 19us/step - loss: 532910.2188 - mae: 532910.1250 - accuracy: 0.0000e+00\n",
      "Epoch 10/500\n",
      "16924/16924 [==============================] - 0s 21us/step - loss: 531026.5694 - mae: 531026.6250 - accuracy: 0.0000e+00\n",
      "Epoch 11/500\n",
      "16924/16924 [==============================] - 0s 19us/step - loss: 528776.7393 - mae: 528776.8125 - accuracy: 0.0000e+00\n",
      "Epoch 12/500\n",
      "16924/16924 [==============================] - 0s 21us/step - loss: 526143.1504 - mae: 526143.1250 - accuracy: 0.0000e+00\n",
      "Epoch 13/500\n",
      "16924/16924 [==============================] - 0s 19us/step - loss: 523108.9322 - mae: 523108.8750 - accuracy: 0.0000e+00\n",
      "Epoch 14/500\n",
      "16924/16924 [==============================] - 0s 17us/step - loss: 519659.5339 - mae: 519659.5000 - accuracy: 0.0000e+00\n",
      "Epoch 15/500\n",
      "16924/16924 [==============================] - 0s 20us/step - loss: 515784.0783 - mae: 515784.0312 - accuracy: 0.0000e+00\n",
      "Epoch 16/500\n",
      "16924/16924 [==============================] - 0s 19us/step - loss: 511470.2998 - mae: 511470.2812 - accuracy: 0.0000e+00\n",
      "Epoch 17/500\n",
      "16924/16924 [==============================] - 0s 18us/step - loss: 506707.8049 - mae: 506707.9062 - accuracy: 0.0000e+00\n",
      "Epoch 18/500\n",
      "16924/16924 [==============================] - 0s 18us/step - loss: 501487.1921 - mae: 501487.2500 - accuracy: 0.0000e+00\n",
      "Epoch 19/500\n",
      "16924/16924 [==============================] - 0s 18us/step - loss: 495796.0062 - mae: 495795.9688 - accuracy: 0.0000e+00\n",
      "Epoch 20/500\n",
      "16924/16924 [==============================] - 0s 17us/step - loss: 489630.8865 - mae: 489630.8125 - accuracy: 0.0000e+00\n",
      "Epoch 21/500\n",
      "16924/16924 [==============================] - 0s 21us/step - loss: 482983.5325 - mae: 482983.3750 - accuracy: 0.0000e+00\n",
      "Epoch 22/500\n",
      "16924/16924 [==============================] - 0s 19us/step - loss: 475843.6561 - mae: 475843.6875 - accuracy: 0.0000e+00\n",
      "Epoch 23/500\n",
      "16924/16924 [==============================] - 0s 18us/step - loss: 468202.3225 - mae: 468202.4688 - accuracy: 0.0000e+00\n",
      "Epoch 24/500\n",
      "16924/16924 [==============================] - 0s 19us/step - loss: 460055.2895 - mae: 460055.3125 - accuracy: 0.0000e+00\n",
      "Epoch 25/500\n",
      "16924/16924 [==============================] - 0s 19us/step - loss: 451392.0538 - mae: 451392.0625 - accuracy: 0.0000e+00\n",
      "Epoch 26/500\n",
      "16924/16924 [==============================] - 0s 19us/step - loss: 442209.0278 - mae: 442209.0938 - accuracy: 0.0000e+00\n",
      "Epoch 27/500\n",
      "16924/16924 [==============================] - 0s 20us/step - loss: 432503.3072 - mae: 432503.2812 - accuracy: 0.0000e+00\n",
      "Epoch 28/500\n",
      "16924/16924 [==============================] - 0s 20us/step - loss: 422275.2012 - mae: 422275.2188 - accuracy: 0.0000e+00\n",
      "Epoch 29/500\n",
      "16924/16924 [==============================] - 0s 19us/step - loss: 411516.3356 - mae: 411516.2500 - accuracy: 0.0000e+00\n",
      "Epoch 30/500\n",
      "16924/16924 [==============================] - 0s 19us/step - loss: 400243.8962 - mae: 400243.8750 - accuracy: 0.0000e+00\n",
      "Epoch 31/500\n",
      "16924/16924 [==============================] - 0s 20us/step - loss: 388479.5244 - mae: 388479.5312 - accuracy: 0.0000e+00\n",
      "Epoch 32/500\n",
      "16924/16924 [==============================] - 0s 21us/step - loss: 376239.9797 - mae: 376239.8750 - accuracy: 0.0000e+00\n",
      "Epoch 33/500\n",
      "16924/16924 [==============================] - 0s 18us/step - loss: 363563.5974 - mae: 363563.5312 - accuracy: 0.0000e+00\n",
      "Epoch 34/500\n",
      "16924/16924 [==============================] - 0s 18us/step - loss: 350525.9113 - mae: 350525.9688 - accuracy: 0.0000e+00\n",
      "Epoch 35/500\n",
      "16924/16924 [==============================] - 0s 19us/step - loss: 337239.6790 - mae: 337239.7188 - accuracy: 0.0000e+00\n",
      "Epoch 36/500\n",
      "16924/16924 [==============================] - 0s 19us/step - loss: 323844.1477 - mae: 323844.0625 - accuracy: 0.0000e+00\n",
      "Epoch 37/500\n",
      "16924/16924 [==============================] - 0s 20us/step - loss: 310536.1190 - mae: 310536.0938 - accuracy: 0.0000e+00\n",
      "Epoch 38/500\n",
      "16924/16924 [==============================] - 0s 19us/step - loss: 297518.2335 - mae: 297518.1875 - accuracy: 0.0000e+00\n",
      "Epoch 39/500\n",
      "16924/16924 [==============================] - 0s 19us/step - loss: 285052.9182 - mae: 285052.9688 - accuracy: 0.0000e+00\n",
      "Epoch 40/500\n",
      "16924/16924 [==============================] - 0s 19us/step - loss: 273356.4068 - mae: 273356.4375 - accuracy: 0.0000e+00\n",
      "Epoch 41/500\n",
      "16924/16924 [==============================] - 0s 18us/step - loss: 262497.6149 - mae: 262497.6250 - accuracy: 0.0000e+00\n",
      "Epoch 42/500\n",
      "16924/16924 [==============================] - 0s 19us/step - loss: 252530.2414 - mae: 252530.2344 - accuracy: 0.0000e+00\n",
      "Epoch 43/500\n",
      "16924/16924 [==============================] - 0s 18us/step - loss: 243545.9667 - mae: 243546.0000 - accuracy: 0.0000e+00\n",
      "Epoch 44/500\n",
      "16924/16924 [==============================] - 0s 18us/step - loss: 235503.3925 - mae: 235503.3438 - accuracy: 0.0000e+00\n",
      "Epoch 45/500\n",
      "16924/16924 [==============================] - 0s 18us/step - loss: 228390.8674 - mae: 228390.8750 - accuracy: 0.0000e+00\n",
      "Epoch 46/500\n",
      "16924/16924 [==============================] - 0s 18us/step - loss: 222214.2727 - mae: 222214.2188 - accuracy: 0.0000e+00\n",
      "Epoch 47/500\n",
      "16924/16924 [==============================] - 0s 18us/step - loss: 216815.2496 - mae: 216815.2656 - accuracy: 0.0000e+00\n",
      "Epoch 48/500\n",
      "16924/16924 [==============================] - 0s 18us/step - loss: 212150.9681 - mae: 212150.9531 - accuracy: 0.0000e+00\n",
      "Epoch 49/500\n",
      "16924/16924 [==============================] - 0s 19us/step - loss: 208192.5257 - mae: 208192.5469 - accuracy: 0.0000e+00\n",
      "Epoch 50/500\n",
      "16924/16924 [==============================] - 0s 19us/step - loss: 204913.3816 - mae: 204913.4375 - accuracy: 0.0000e+00\n",
      "Epoch 51/500\n",
      "16924/16924 [==============================] - 0s 18us/step - loss: 202181.2276 - mae: 202181.2031 - accuracy: 0.0000e+00\n",
      "Epoch 52/500\n",
      "16924/16924 [==============================] - 0s 19us/step - loss: 199917.4091 - mae: 199917.4531 - accuracy: 0.0000e+00\n",
      "Epoch 53/500\n",
      "16924/16924 [==============================] - 0s 19us/step - loss: 198117.5803 - mae: 198117.5781 - accuracy: 0.0000e+00\n",
      "Epoch 54/500\n",
      "16924/16924 [==============================] - 0s 18us/step - loss: 196649.2618 - mae: 196649.2969 - accuracy: 0.0000e+00\n",
      "Epoch 55/500\n",
      "16924/16924 [==============================] - 0s 18us/step - loss: 195425.9042 - mae: 195425.8906 - accuracy: 0.0000e+00\n",
      "Epoch 56/500\n",
      "16924/16924 [==============================] - 0s 20us/step - loss: 194398.6227 - mae: 194398.6406 - accuracy: 0.0000e+00\n",
      "Epoch 57/500\n",
      "16924/16924 [==============================] - 0s 18us/step - loss: 193500.2739 - mae: 193500.2500 - accuracy: 0.0000e+00\n",
      "Epoch 58/500\n",
      "16924/16924 [==============================] - 0s 17us/step - loss: 192702.4829 - mae: 192702.4531 - accuracy: 0.0000e+00\n",
      "Epoch 59/500\n",
      "16924/16924 [==============================] - 0s 17us/step - loss: 191983.3391 - mae: 191983.2969 - accuracy: 5.9088e-05\n",
      "Epoch 60/500\n",
      "16924/16924 [==============================] - 0s 18us/step - loss: 191314.4776 - mae: 191314.4688 - accuracy: 0.0000e+00\n",
      "Epoch 61/500\n",
      "16924/16924 [==============================] - 0s 17us/step - loss: 190686.3073 - mae: 190686.2656 - accuracy: 5.9088e-05\n",
      "Epoch 62/500\n",
      "16924/16924 [==============================] - 0s 19us/step - loss: 190075.5311 - mae: 190075.5781 - accuracy: 0.0000e+00\n",
      "Epoch 63/500\n",
      "16924/16924 [==============================] - 0s 18us/step - loss: 189472.3988 - mae: 189472.3906 - accuracy: 0.0000e+00\n",
      "Epoch 64/500\n",
      "16924/16924 [==============================] - 0s 18us/step - loss: 188868.4221 - mae: 188868.4375 - accuracy: 0.0000e+00\n",
      "Epoch 65/500\n",
      "16924/16924 [==============================] - 0s 18us/step - loss: 188259.3635 - mae: 188259.3594 - accuracy: 0.0000e+00\n",
      "Epoch 66/500\n",
      "16924/16924 [==============================] - 0s 19us/step - loss: 187650.3227 - mae: 187650.3750 - accuracy: 0.0000e+00\n",
      "Epoch 67/500\n",
      "16924/16924 [==============================] - 0s 20us/step - loss: 187038.8495 - mae: 187038.8281 - accuracy: 0.0000e+00\n",
      "Epoch 68/500\n",
      "16924/16924 [==============================] - 0s 21us/step - loss: 186427.5674 - mae: 186427.6094 - accuracy: 0.0000e+00\n",
      "Epoch 69/500\n",
      "16924/16924 [==============================] - 0s 19us/step - loss: 185807.0462 - mae: 185807.0469 - accuracy: 0.0000e+00\n",
      "Epoch 70/500\n",
      "16924/16924 [==============================] - 0s 21us/step - loss: 185179.8504 - mae: 185179.8906 - accuracy: 0.0000e+00\n",
      "Epoch 71/500\n",
      "16924/16924 [==============================] - 0s 20us/step - loss: 184548.5016 - mae: 184548.5312 - accuracy: 0.0000e+00\n",
      "Epoch 72/500\n",
      "16924/16924 [==============================] - 0s 22us/step - loss: 183914.2404 - mae: 183914.2188 - accuracy: 5.9088e-05\n",
      "Epoch 73/500\n",
      "16924/16924 [==============================] - 0s 21us/step - loss: 183273.8815 - mae: 183273.9062 - accuracy: 0.0000e+00\n",
      "Epoch 74/500\n",
      "16924/16924 [==============================] - 0s 20us/step - loss: 182630.3919 - mae: 182630.4219 - accuracy: 0.0000e+00\n",
      "Epoch 75/500\n",
      "16924/16924 [==============================] - 0s 18us/step - loss: 181978.0808 - mae: 181978.0938 - accuracy: 0.0000e+00\n",
      "Epoch 76/500\n",
      "16924/16924 [==============================] - 0s 19us/step - loss: 181326.9173 - mae: 181326.9062 - accuracy: 0.0000e+00\n",
      "Epoch 77/500\n",
      "16924/16924 [==============================] - 0s 23us/step - loss: 180675.7689 - mae: 180675.7969 - accuracy: 0.0000e+00\n",
      "Epoch 78/500\n",
      "16924/16924 [==============================] - 0s 20us/step - loss: 180025.4035 - mae: 180025.4062 - accuracy: 0.0000e+00\n",
      "Epoch 79/500\n",
      "16924/16924 [==============================] - 0s 20us/step - loss: 179380.7496 - mae: 179380.7969 - accuracy: 0.0000e+00\n",
      "Epoch 80/500\n",
      "16924/16924 [==============================] - 0s 20us/step - loss: 178731.6546 - mae: 178731.6250 - accuracy: 5.9088e-05\n",
      "Epoch 81/500\n",
      "16924/16924 [==============================] - 0s 21us/step - loss: 178092.1319 - mae: 178092.1250 - accuracy: 0.0000e+00\n",
      "Epoch 82/500\n",
      "16924/16924 [==============================] - 0s 20us/step - loss: 177447.2662 - mae: 177447.2344 - accuracy: 0.0000e+00\n",
      "Epoch 83/500\n",
      "16924/16924 [==============================] - 0s 21us/step - loss: 176806.1692 - mae: 176806.1875 - accuracy: 0.0000e+00\n",
      "Epoch 84/500\n",
      "16924/16924 [==============================] - 0s 19us/step - loss: 176170.1933 - mae: 176170.2031 - accuracy: 0.0000e+00\n",
      "Epoch 85/500\n",
      "16924/16924 [==============================] - 0s 20us/step - loss: 175535.4873 - mae: 175535.4688 - accuracy: 0.0000e+00\n",
      "Epoch 86/500\n",
      "16924/16924 [==============================] - 0s 21us/step - loss: 174898.5820 - mae: 174898.5781 - accuracy: 0.0000e+00\n",
      "Epoch 87/500\n",
      "16924/16924 [==============================] - 0s 20us/step - loss: 174267.1208 - mae: 174267.1250 - accuracy: 0.0000e+00\n",
      "Epoch 88/500\n",
      "16924/16924 [==============================] - 0s 19us/step - loss: 173642.1903 - mae: 173642.1875 - accuracy: 0.0000e+00\n",
      "Epoch 89/500\n",
      "16924/16924 [==============================] - 0s 20us/step - loss: 173010.5818 - mae: 173010.6406 - accuracy: 0.0000e+00\n",
      "Epoch 90/500\n",
      "16924/16924 [==============================] - 0s 18us/step - loss: 172382.1447 - mae: 172382.1406 - accuracy: 0.0000e+00\n",
      "Epoch 91/500\n",
      "16924/16924 [==============================] - 0s 19us/step - loss: 171763.5820 - mae: 171763.5469 - accuracy: 0.0000e+00\n",
      "Epoch 92/500\n",
      "16924/16924 [==============================] - 0s 19us/step - loss: 171134.3169 - mae: 171134.2812 - accuracy: 0.0000e+00\n",
      "Epoch 93/500\n",
      "16924/16924 [==============================] - 0s 20us/step - loss: 170515.3945 - mae: 170515.4062 - accuracy: 0.0000e+00\n",
      "Epoch 94/500\n",
      "16924/16924 [==============================] - 0s 20us/step - loss: 169900.5101 - mae: 169900.4219 - accuracy: 5.9088e-05\n",
      "Epoch 95/500\n",
      "16924/16924 [==============================] - 0s 18us/step - loss: 169286.7702 - mae: 169286.7656 - accuracy: 0.0000e+00\n",
      "Epoch 96/500\n",
      "16924/16924 [==============================] - 0s 17us/step - loss: 168670.6563 - mae: 168670.6719 - accuracy: 0.0000e+00\n",
      "Epoch 97/500\n",
      "16924/16924 [==============================] - 0s 18us/step - loss: 168060.2040 - mae: 168060.2031 - accuracy: 0.0000e+00\n",
      "Epoch 98/500\n",
      "16924/16924 [==============================] - 0s 19us/step - loss: 167454.1457 - mae: 167454.2031 - accuracy: 0.0000e+00\n",
      "Epoch 99/500\n",
      "16924/16924 [==============================] - 0s 20us/step - loss: 166849.3851 - mae: 166849.3750 - accuracy: 0.0000e+00\n",
      "Epoch 100/500\n",
      "16924/16924 [==============================] - 0s 18us/step - loss: 166253.2012 - mae: 166253.2188 - accuracy: 0.0000e+00\n",
      "Epoch 101/500\n",
      "16924/16924 [==============================] - 0s 19us/step - loss: 165671.0187 - mae: 165671.0156 - accuracy: 0.0000e+00\n",
      "Epoch 102/500\n",
      "16924/16924 [==============================] - 0s 19us/step - loss: 165093.6568 - mae: 165093.6719 - accuracy: 5.9088e-05\n",
      "Epoch 103/500\n",
      "16924/16924 [==============================] - 0s 11us/step - loss: 164516.6454 - mae: 164516.6875 - accuracy: 0.0000e+00\n",
      "Epoch 104/500\n",
      "16924/16924 [==============================] - 0s 13us/step - loss: 163943.2544 - mae: 163943.2344 - accuracy: 0.0000e+00\n",
      "Epoch 105/500\n",
      "16924/16924 [==============================] - 0s 16us/step - loss: 163387.2694 - mae: 163387.2812 - accuracy: 0.0000e+00\n",
      "Epoch 106/500\n",
      "16924/16924 [==============================] - 0s 14us/step - loss: 162840.3938 - mae: 162840.4219 - accuracy: 0.0000e+00\n",
      "Epoch 107/500\n",
      "16924/16924 [==============================] - 0s 17us/step - loss: 162300.9675 - mae: 162300.9531 - accuracy: 0.0000e+00\n",
      "Epoch 108/500\n",
      "16924/16924 [==============================] - 0s 20us/step - loss: 161770.8778 - mae: 161770.8594 - accuracy: 5.9088e-05\n",
      "Epoch 109/500\n",
      "16924/16924 [==============================] - 0s 18us/step - loss: 161244.3212 - mae: 161244.2812 - accuracy: 0.0000e+00\n",
      "Epoch 110/500\n",
      "16924/16924 [==============================] - 0s 18us/step - loss: 160736.1330 - mae: 160736.1250 - accuracy: 0.0000e+00\n",
      "Epoch 111/500\n",
      "16924/16924 [==============================] - 0s 19us/step - loss: 160239.1112 - mae: 160239.0781 - accuracy: 0.0000e+00\n",
      "Epoch 112/500\n",
      "16924/16924 [==============================] - 0s 18us/step - loss: 159752.9247 - mae: 159752.9375 - accuracy: 0.0000e+00\n",
      "Epoch 113/500\n",
      "16924/16924 [==============================] - 0s 19us/step - loss: 159279.6447 - mae: 159279.6406 - accuracy: 0.0000e+00\n",
      "Epoch 114/500\n",
      "16924/16924 [==============================] - 0s 18us/step - loss: 158821.8506 - mae: 158821.8281 - accuracy: 0.0000e+00\n",
      "Epoch 115/500\n",
      "16924/16924 [==============================] - 0s 19us/step - loss: 158382.5365 - mae: 158382.4844 - accuracy: 0.0000e+00\n",
      "Epoch 116/500\n",
      "16924/16924 [==============================] - 0s 19us/step - loss: 157962.0499 - mae: 157962.0312 - accuracy: 0.0000e+00\n",
      "Epoch 117/500\n",
      "16924/16924 [==============================] - 0s 20us/step - loss: 157557.3793 - mae: 157557.3750 - accuracy: 0.0000e+00\n",
      "Epoch 118/500\n",
      "16924/16924 [==============================] - 0s 18us/step - loss: 157165.1100 - mae: 157165.1094 - accuracy: 0.0000e+00\n",
      "Epoch 119/500\n",
      "16924/16924 [==============================] - 0s 19us/step - loss: 156783.7248 - mae: 156783.7344 - accuracy: 0.0000e+00\n",
      "Epoch 120/500\n",
      "16924/16924 [==============================] - 0s 19us/step - loss: 156412.1356 - mae: 156412.0938 - accuracy: 0.0000e+00\n",
      "Epoch 121/500\n"
     ]
    },
    {
     "name": "stdout",
     "output_type": "stream",
     "text": [
      "16924/16924 [==============================] - 0s 19us/step - loss: 156058.1059 - mae: 156058.1094 - accuracy: 0.0000e+00\n",
      "Epoch 122/500\n",
      "16924/16924 [==============================] - 0s 20us/step - loss: 155715.6319 - mae: 155715.6719 - accuracy: 0.0000e+00\n",
      "Epoch 123/500\n",
      "16924/16924 [==============================] - 0s 20us/step - loss: 155397.4927 - mae: 155397.5312 - accuracy: 0.0000e+00 0s - loss: 153470.1072 - mae: 153470.1094 - accuracy: \n",
      "Epoch 124/500\n",
      "16924/16924 [==============================] - 0s 20us/step - loss: 155091.2292 - mae: 155091.2344 - accuracy: 5.9088e-05\n",
      "Epoch 125/500\n",
      "16924/16924 [==============================] - 0s 19us/step - loss: 154794.6214 - mae: 154794.6094 - accuracy: 0.0000e+00\n",
      "Epoch 126/500\n",
      "16924/16924 [==============================] - 0s 19us/step - loss: 154508.5825 - mae: 154508.6406 - accuracy: 0.0000e+00\n",
      "Epoch 127/500\n",
      "16924/16924 [==============================] - 0s 22us/step - loss: 154234.7343 - mae: 154234.7344 - accuracy: 0.0000e+00 0s - loss: 154701.7113 - mae: 154701.7344 - accuracy: 0.0000\n",
      "Epoch 128/500\n",
      "16924/16924 [==============================] - 0s 21us/step - loss: 153973.5076 - mae: 153973.4844 - accuracy: 0.0000e+00\n",
      "Epoch 129/500\n",
      "16924/16924 [==============================] - 0s 20us/step - loss: 153719.6332 - mae: 153719.6562 - accuracy: 0.0000e+00\n",
      "Epoch 130/500\n",
      "16924/16924 [==============================] - 0s 20us/step - loss: 153476.1068 - mae: 153476.1562 - accuracy: 0.0000e+00\n",
      "Epoch 131/500\n",
      "16924/16924 [==============================] - 0s 19us/step - loss: 153239.2057 - mae: 153239.1562 - accuracy: 0.0000e+00\n",
      "Epoch 132/500\n",
      "16924/16924 [==============================] - 0s 19us/step - loss: 153014.2593 - mae: 153014.2812 - accuracy: 0.0000e+00\n",
      "Epoch 133/500\n",
      "16924/16924 [==============================] - 0s 19us/step - loss: 152791.3940 - mae: 152791.3906 - accuracy: 0.0000e+00\n",
      "Epoch 134/500\n",
      "16924/16924 [==============================] - 0s 19us/step - loss: 152581.1702 - mae: 152581.2188 - accuracy: 0.0000e+00\n",
      "Epoch 135/500\n",
      "16924/16924 [==============================] - 0s 19us/step - loss: 152376.0014 - mae: 152376.0000 - accuracy: 0.0000e+00\n",
      "Epoch 136/500\n",
      "16924/16924 [==============================] - 0s 21us/step - loss: 152185.8832 - mae: 152185.9219 - accuracy: 0.0000e+00\n",
      "Epoch 137/500\n",
      "16924/16924 [==============================] - 0s 23us/step - loss: 152002.1476 - mae: 152002.1406 - accuracy: 0.0000e+00\n",
      "Epoch 138/500\n",
      "16924/16924 [==============================] - 0s 22us/step - loss: 151825.4093 - mae: 151825.4219 - accuracy: 0.0000e+00\n",
      "Epoch 139/500\n",
      "16924/16924 [==============================] - 0s 19us/step - loss: 151649.6919 - mae: 151649.7188 - accuracy: 0.0000e+00\n",
      "Epoch 140/500\n",
      "16924/16924 [==============================] - 0s 21us/step - loss: 151482.4604 - mae: 151482.5156 - accuracy: 0.0000e+00\n",
      "Epoch 141/500\n",
      "16924/16924 [==============================] - 0s 22us/step - loss: 151321.3497 - mae: 151321.3594 - accuracy: 0.0000e+00\n",
      "Epoch 142/500\n",
      "16924/16924 [==============================] - 0s 22us/step - loss: 151174.5619 - mae: 151174.5312 - accuracy: 0.0000e+00\n",
      "Epoch 143/500\n",
      "16924/16924 [==============================] - 0s 21us/step - loss: 151015.2174 - mae: 151015.1875 - accuracy: 0.0000e+00\n",
      "Epoch 144/500\n",
      "16924/16924 [==============================] - 0s 22us/step - loss: 150866.8930 - mae: 150866.9375 - accuracy: 0.0000e+00\n",
      "Epoch 145/500\n",
      "16924/16924 [==============================] - 0s 21us/step - loss: 150724.8455 - mae: 150724.8594 - accuracy: 0.0000e+00\n",
      "Epoch 146/500\n",
      "16924/16924 [==============================] - 0s 20us/step - loss: 150579.4975 - mae: 150579.4688 - accuracy: 0.0000e+00\n",
      "Epoch 147/500\n",
      "16924/16924 [==============================] - 0s 19us/step - loss: 150442.3692 - mae: 150442.3750 - accuracy: 0.0000e+00\n",
      "Epoch 148/500\n",
      "16924/16924 [==============================] - 0s 18us/step - loss: 150307.7106 - mae: 150307.6406 - accuracy: 0.0000e+00\n",
      "Epoch 149/500\n",
      "16924/16924 [==============================] - 0s 23us/step - loss: 150176.8511 - mae: 150176.8125 - accuracy: 0.0000e+00\n",
      "Epoch 150/500\n",
      "16924/16924 [==============================] - 0s 22us/step - loss: 150045.1709 - mae: 150045.1406 - accuracy: 0.0000e+00\n",
      "Epoch 151/500\n",
      "16924/16924 [==============================] - 0s 21us/step - loss: 149921.6259 - mae: 149921.6406 - accuracy: 0.0000e+00 0s - loss: 148040.0772 - mae: 148040.0625 - accuracy\n",
      "Epoch 152/500\n",
      "16924/16924 [==============================] - 0s 19us/step - loss: 149796.5215 - mae: 149796.5000 - accuracy: 0.0000e+00\n",
      "Epoch 153/500\n",
      "16924/16924 [==============================] - 0s 23us/step - loss: 149675.3344 - mae: 149675.3438 - accuracy: 0.0000e+00\n",
      "Epoch 154/500\n",
      "16924/16924 [==============================] - 0s 21us/step - loss: 149556.3726 - mae: 149556.3281 - accuracy: 0.0000e+00\n",
      "Epoch 155/500\n",
      "16924/16924 [==============================] - 0s 17us/step - loss: 149438.0662 - mae: 149438.1094 - accuracy: 0.0000e+00\n",
      "Epoch 156/500\n",
      "16924/16924 [==============================] - 0s 20us/step - loss: 149323.6890 - mae: 149323.7031 - accuracy: 0.0000e+00\n",
      "Epoch 157/500\n",
      "16924/16924 [==============================] - 0s 21us/step - loss: 149205.8893 - mae: 149205.8906 - accuracy: 0.0000e+00\n",
      "Epoch 158/500\n",
      "16924/16924 [==============================] - 0s 20us/step - loss: 149094.4576 - mae: 149094.4375 - accuracy: 5.9088e-05\n",
      "Epoch 159/500\n",
      "16924/16924 [==============================] - 0s 20us/step - loss: 148980.1861 - mae: 148980.1562 - accuracy: 0.0000e+00\n",
      "Epoch 160/500\n",
      "16924/16924 [==============================] - 0s 19us/step - loss: 148871.9445 - mae: 148871.8906 - accuracy: 0.0000e+00\n",
      "Epoch 161/500\n",
      "16924/16924 [==============================] - 0s 20us/step - loss: 148761.5650 - mae: 148761.5625 - accuracy: 0.0000e+00\n",
      "Epoch 162/500\n",
      "16924/16924 [==============================] - 0s 17us/step - loss: 148652.0444 - mae: 148652.0156 - accuracy: 0.0000e+00\n",
      "Epoch 163/500\n",
      "16924/16924 [==============================] - 0s 19us/step - loss: 148544.1028 - mae: 148544.1719 - accuracy: 0.0000e+00\n",
      "Epoch 164/500\n",
      "16924/16924 [==============================] - 0s 19us/step - loss: 148434.5750 - mae: 148434.6094 - accuracy: 0.0000e+00\n",
      "Epoch 165/500\n",
      "16924/16924 [==============================] - 0s 18us/step - loss: 148329.1244 - mae: 148329.1250 - accuracy: 0.0000e+00\n",
      "Epoch 166/500\n",
      "16924/16924 [==============================] - 0s 19us/step - loss: 148224.7880 - mae: 148224.7812 - accuracy: 0.0000e+00\n",
      "Epoch 167/500\n",
      "16924/16924 [==============================] - 0s 23us/step - loss: 148120.0567 - mae: 148120.0625 - accuracy: 0.0000e+00\n",
      "Epoch 168/500\n",
      "16924/16924 [==============================] - 0s 27us/step - loss: 148015.6666 - mae: 148015.6719 - accuracy: 0.0000e+00\n",
      "Epoch 169/500\n",
      "16924/16924 [==============================] - 0s 19us/step - loss: 147914.0765 - mae: 147914.0781 - accuracy: 0.0000e+00\n",
      "Epoch 170/500\n",
      "16924/16924 [==============================] - 0s 20us/step - loss: 147814.0430 - mae: 147814.0312 - accuracy: 0.0000e+00\n",
      "Epoch 171/500\n",
      "16924/16924 [==============================] - 0s 18us/step - loss: 147716.0443 - mae: 147716.0156 - accuracy: 0.0000e+00\n",
      "Epoch 172/500\n",
      "16924/16924 [==============================] - 0s 18us/step - loss: 147619.7300 - mae: 147619.7500 - accuracy: 0.0000e+00\n",
      "Epoch 173/500\n",
      "16924/16924 [==============================] - 0s 19us/step - loss: 147517.7961 - mae: 147517.7656 - accuracy: 0.0000e+00\n",
      "Epoch 174/500\n",
      "16924/16924 [==============================] - 0s 18us/step - loss: 147424.4143 - mae: 147424.4062 - accuracy: 0.0000e+00\n",
      "Epoch 175/500\n",
      "16924/16924 [==============================] - 0s 18us/step - loss: 147331.9264 - mae: 147331.9219 - accuracy: 0.0000e+00\n",
      "Epoch 176/500\n",
      "16924/16924 [==============================] - 0s 20us/step - loss: 147234.7847 - mae: 147234.7656 - accuracy: 0.0000e+00\n",
      "Epoch 177/500\n",
      "16924/16924 [==============================] - 0s 19us/step - loss: 147141.5336 - mae: 147141.5625 - accuracy: 0.0000e+00\n",
      "Epoch 178/500\n",
      "16924/16924 [==============================] - 0s 17us/step - loss: 147046.6383 - mae: 147046.6250 - accuracy: 0.0000e+00\n",
      "Epoch 179/500\n",
      "16924/16924 [==============================] - 0s 20us/step - loss: 146950.4437 - mae: 146950.4062 - accuracy: 0.0000e+00\n",
      "Epoch 180/500\n"
     ]
    },
    {
     "name": "stdout",
     "output_type": "stream",
     "text": [
      "16924/16924 [==============================] - 0s 20us/step - loss: 146860.7024 - mae: 146860.6875 - accuracy: 5.9088e-05\n",
      "Epoch 181/500\n",
      "16924/16924 [==============================] - 0s 19us/step - loss: 146766.7759 - mae: 146766.7344 - accuracy: 0.0000e+00\n",
      "Epoch 182/500\n",
      "16924/16924 [==============================] - 0s 19us/step - loss: 146675.7597 - mae: 146675.7656 - accuracy: 0.0000e+00\n",
      "Epoch 183/500\n",
      "16924/16924 [==============================] - 0s 22us/step - loss: 146585.7676 - mae: 146585.7969 - accuracy: 0.0000e+00\n",
      "Epoch 184/500\n",
      "16924/16924 [==============================] - 0s 19us/step - loss: 146492.3749 - mae: 146492.3594 - accuracy: 5.9088e-05\n",
      "Epoch 185/500\n",
      "16924/16924 [==============================] - 0s 22us/step - loss: 146401.9675 - mae: 146401.9688 - accuracy: 0.0000e+00\n",
      "Epoch 186/500\n",
      "16924/16924 [==============================] - 0s 19us/step - loss: 146312.2935 - mae: 146312.2969 - accuracy: 0.0000e+00\n",
      "Epoch 187/500\n",
      "16924/16924 [==============================] - 0s 19us/step - loss: 146220.1950 - mae: 146220.2031 - accuracy: 0.0000e+00\n",
      "Epoch 188/500\n",
      "16924/16924 [==============================] - 0s 18us/step - loss: 146131.3079 - mae: 146131.3281 - accuracy: 0.0000e+00\n",
      "Epoch 189/500\n",
      "16924/16924 [==============================] - 0s 19us/step - loss: 146043.0464 - mae: 146043.0781 - accuracy: 0.0000e+00\n",
      "Epoch 190/500\n",
      "16924/16924 [==============================] - 0s 22us/step - loss: 145959.0075 - mae: 145959.0312 - accuracy: 0.0000e+00\n",
      "Epoch 191/500\n",
      "16924/16924 [==============================] - 0s 28us/step - loss: 145871.4954 - mae: 145871.4844 - accuracy: 0.0000e+00\n",
      "Epoch 192/500\n",
      "16924/16924 [==============================] - 0s 22us/step - loss: 145788.0069 - mae: 145787.9844 - accuracy: 0.0000e+00\n",
      "Epoch 193/500\n",
      "16924/16924 [==============================] - 0s 21us/step - loss: 145702.4505 - mae: 145702.4219 - accuracy: 0.0000e+00\n",
      "Epoch 194/500\n",
      "16924/16924 [==============================] - 0s 21us/step - loss: 145625.2261 - mae: 145625.2188 - accuracy: 0.0000e+00\n",
      "Epoch 195/500\n",
      "16924/16924 [==============================] - 0s 20us/step - loss: 145542.1161 - mae: 145542.1094 - accuracy: 0.0000e+00\n",
      "Epoch 196/500\n",
      "16924/16924 [==============================] - ETA: 0s - loss: 145693.4074 - mae: 145693.4531 - accuracy: 0.0000e+ - 0s 19us/step - loss: 145463.3255 - mae: 145463.3750 - accuracy: 0.0000e+00\n",
      "Epoch 197/500\n",
      "16924/16924 [==============================] - 0s 22us/step - loss: 145380.4173 - mae: 145380.4219 - accuracy: 0.0000e+00\n",
      "Epoch 198/500\n",
      "16924/16924 [==============================] - 0s 26us/step - loss: 145298.5967 - mae: 145298.5625 - accuracy: 0.0000e+00\n",
      "Epoch 199/500\n",
      "16924/16924 [==============================] - 0s 26us/step - loss: 145223.9198 - mae: 145223.9219 - accuracy: 0.0000e+00\n",
      "Epoch 200/500\n",
      "16924/16924 [==============================] - 0s 24us/step - loss: 145144.2568 - mae: 145144.2656 - accuracy: 0.0000e+00\n",
      "Epoch 201/500\n",
      "16924/16924 [==============================] - 0s 18us/step - loss: 145067.1748 - mae: 145067.1562 - accuracy: 0.0000e+00\n",
      "Epoch 202/500\n",
      "16924/16924 [==============================] - 0s 26us/step - loss: 144995.1287 - mae: 144995.1094 - accuracy: 0.0000e+00\n",
      "Epoch 203/500\n",
      "16924/16924 [==============================] - 0s 18us/step - loss: 144918.6714 - mae: 144918.6562 - accuracy: 0.0000e+00\n",
      "Epoch 204/500\n",
      "16924/16924 [==============================] - 0s 18us/step - loss: 144846.0571 - mae: 144846.0781 - accuracy: 0.0000e+00\n",
      "Epoch 205/500\n",
      "16924/16924 [==============================] - 0s 18us/step - loss: 144776.3708 - mae: 144776.4062 - accuracy: 0.0000e+00\n",
      "Epoch 206/500\n",
      "16924/16924 [==============================] - 0s 17us/step - loss: 144710.6785 - mae: 144710.6875 - accuracy: 0.0000e+00\n",
      "Epoch 207/500\n",
      "16924/16924 [==============================] - 0s 17us/step - loss: 144634.9637 - mae: 144634.9688 - accuracy: 0.0000e+00\n",
      "Epoch 208/500\n",
      "16924/16924 [==============================] - 0s 18us/step - loss: 144563.0961 - mae: 144563.0938 - accuracy: 0.0000e+00\n",
      "Epoch 209/500\n",
      "16924/16924 [==============================] - 0s 29us/step - loss: 144496.5709 - mae: 144496.5781 - accuracy: 0.0000e+00\n",
      "Epoch 210/500\n",
      "16924/16924 [==============================] - 0s 18us/step - loss: 144426.9975 - mae: 144427.0000 - accuracy: 0.0000e+00\n",
      "Epoch 211/500\n",
      "16924/16924 [==============================] - 0s 18us/step - loss: 144360.9922 - mae: 144360.9844 - accuracy: 0.0000e+00\n",
      "Epoch 212/500\n",
      "16924/16924 [==============================] - 0s 23us/step - loss: 144292.1665 - mae: 144292.1719 - accuracy: 0.0000e+00\n",
      "Epoch 213/500\n",
      "16924/16924 [==============================] - 0s 21us/step - loss: 144225.7331 - mae: 144225.7188 - accuracy: 0.0000e+00\n",
      "Epoch 214/500\n",
      "16924/16924 [==============================] - 0s 17us/step - loss: 144158.8601 - mae: 144158.8750 - accuracy: 0.0000e+00\n",
      "Epoch 215/500\n",
      "16924/16924 [==============================] - 0s 23us/step - loss: 144094.7308 - mae: 144094.7344 - accuracy: 5.9088e-05\n",
      "Epoch 216/500\n",
      "16924/16924 [==============================] - 0s 24us/step - loss: 144030.0544 - mae: 144030.0781 - accuracy: 0.0000e+00\n",
      "Epoch 217/500\n",
      "16924/16924 [==============================] - 0s 18us/step - loss: 143968.9594 - mae: 143968.9688 - accuracy: 0.0000e+00\n",
      "Epoch 218/500\n",
      "16924/16924 [==============================] - 0s 21us/step - loss: 143905.5639 - mae: 143905.5469 - accuracy: 0.0000e+00\n",
      "Epoch 219/500\n",
      "16924/16924 [==============================] - 0s 18us/step - loss: 143841.4400 - mae: 143841.4375 - accuracy: 0.0000e+00\n",
      "Epoch 220/500\n",
      "16924/16924 [==============================] - 0s 17us/step - loss: 143781.7382 - mae: 143781.7500 - accuracy: 5.9088e-05\n",
      "Epoch 221/500\n",
      "16924/16924 [==============================] - 0s 17us/step - loss: 143721.7013 - mae: 143721.6875 - accuracy: 0.0000e+00\n",
      "Epoch 222/500\n",
      "16924/16924 [==============================] - 0s 17us/step - loss: 143661.4071 - mae: 143661.3594 - accuracy: 0.0000e+00\n",
      "Epoch 223/500\n",
      "16924/16924 [==============================] - 0s 17us/step - loss: 143603.4997 - mae: 143603.4688 - accuracy: 0.0000e+00\n",
      "Epoch 224/500\n",
      "16924/16924 [==============================] - 0s 17us/step - loss: 143544.7625 - mae: 143544.7812 - accuracy: 0.0000e+00\n",
      "Epoch 225/500\n",
      "16924/16924 [==============================] - 0s 17us/step - loss: 143488.8230 - mae: 143488.8281 - accuracy: 0.0000e+00\n",
      "Epoch 226/500\n",
      "16924/16924 [==============================] - 0s 17us/step - loss: 143431.1266 - mae: 143431.2031 - accuracy: 0.0000e+00\n",
      "Epoch 227/500\n",
      "16924/16924 [==============================] - 0s 17us/step - loss: 143375.5450 - mae: 143375.5938 - accuracy: 0.0000e+00\n",
      "Epoch 228/500\n",
      "16924/16924 [==============================] - 0s 17us/step - loss: 143321.9993 - mae: 143322.0156 - accuracy: 0.0000e+00\n",
      "Epoch 229/500\n",
      "16924/16924 [==============================] - 0s 17us/step - loss: 143268.6310 - mae: 143268.6562 - accuracy: 0.0000e+00\n",
      "Epoch 230/500\n",
      "16924/16924 [==============================] - 0s 21us/step - loss: 143215.8443 - mae: 143215.8281 - accuracy: 0.0000e+00\n",
      "Epoch 231/500\n",
      "16924/16924 [==============================] - 0s 19us/step - loss: 143158.9171 - mae: 143158.9531 - accuracy: 0.0000e+00\n",
      "Epoch 232/500\n",
      "16924/16924 [==============================] - 0s 18us/step - loss: 143108.7542 - mae: 143108.7188 - accuracy: 0.0000e+00\n",
      "Epoch 233/500\n",
      "16924/16924 [==============================] - 0s 18us/step - loss: 143052.6157 - mae: 143052.5938 - accuracy: 0.0000e+00\n",
      "Epoch 234/500\n",
      "16924/16924 [==============================] - 0s 19us/step - loss: 142997.8968 - mae: 142997.8750 - accuracy: 0.0000e+00\n",
      "Epoch 235/500\n",
      "16924/16924 [==============================] - 0s 17us/step - loss: 142946.3514 - mae: 142946.3594 - accuracy: 0.0000e+00\n",
      "Epoch 236/500\n",
      "16924/16924 [==============================] - 0s 20us/step - loss: 142898.0945 - mae: 142898.1094 - accuracy: 0.0000e+00\n",
      "Epoch 237/500\n",
      "16924/16924 [==============================] - 0s 17us/step - loss: 142842.6208 - mae: 142842.6094 - accuracy: 0.0000e+00\n",
      "Epoch 238/500\n",
      "16924/16924 [==============================] - 0s 17us/step - loss: 142788.5350 - mae: 142788.5469 - accuracy: 0.0000e+00\n",
      "Epoch 239/500\n",
      "16924/16924 [==============================] - 0s 18us/step - loss: 142745.9290 - mae: 142745.8906 - accuracy: 0.0000e+00\n",
      "Epoch 240/500\n",
      "16924/16924 [==============================] - 0s 21us/step - loss: 142691.6831 - mae: 142691.6562 - accuracy: 0.0000e+00\n",
      "Epoch 241/500\n",
      "16924/16924 [==============================] - 0s 16us/step - loss: 142644.3915 - mae: 142644.3438 - accuracy: 0.0000e+00\n",
      "Epoch 242/500\n",
      "16924/16924 [==============================] - 0s 17us/step - loss: 142593.5607 - mae: 142593.5781 - accuracy: 0.0000e+00\n",
      "Epoch 243/500\n",
      "16924/16924 [==============================] - 0s 17us/step - loss: 142544.5617 - mae: 142544.5781 - accuracy: 0.0000e+00\n",
      "Epoch 244/500\n",
      "16924/16924 [==============================] - 0s 18us/step - loss: 142498.0428 - mae: 142498.0625 - accuracy: 0.0000e+00\n",
      "Epoch 245/500\n",
      "16924/16924 [==============================] - 0s 23us/step - loss: 142451.4407 - mae: 142451.4375 - accuracy: 0.0000e+00\n",
      "Epoch 246/500\n",
      "16924/16924 [==============================] - 0s 19us/step - loss: 142399.4625 - mae: 142399.4844 - accuracy: 0.0000e+00\n",
      "Epoch 247/500\n",
      "16924/16924 [==============================] - 0s 20us/step - loss: 142350.8791 - mae: 142350.8750 - accuracy: 0.0000e+00 0s - loss: 145114.3612 - mae: 145114.3594 - accuracy: 0.\n",
      "Epoch 248/500\n",
      "16924/16924 [==============================] - 0s 19us/step - loss: 142305.2805 - mae: 142305.2812 - accuracy: 0.0000e+00\n",
      "Epoch 249/500\n",
      "16924/16924 [==============================] - 0s 20us/step - loss: 142259.8904 - mae: 142259.8906 - accuracy: 0.0000e+00\n",
      "Epoch 250/500\n",
      "16924/16924 [==============================] - 0s 18us/step - loss: 142214.1861 - mae: 142214.1875 - accuracy: 0.0000e+00\n",
      "Epoch 251/500\n",
      "16924/16924 [==============================] - 0s 18us/step - loss: 142172.6368 - mae: 142172.6406 - accuracy: 5.9088e-05\n",
      "Epoch 252/500\n",
      "16924/16924 [==============================] - 0s 20us/step - loss: 142127.2784 - mae: 142127.2500 - accuracy: 0.0000e+00\n",
      "Epoch 253/500\n",
      "16924/16924 [==============================] - 0s 20us/step - loss: 142086.1803 - mae: 142086.1719 - accuracy: 0.0000e+00\n",
      "Epoch 254/500\n",
      "16924/16924 [==============================] - 0s 29us/step - loss: 142048.6034 - mae: 142048.5781 - accuracy: 0.0000e+00\n",
      "Epoch 255/500\n",
      "16924/16924 [==============================] - 0s 26us/step - loss: 142001.7056 - mae: 142001.6562 - accuracy: 0.0000e+00\n",
      "Epoch 256/500\n",
      "16924/16924 [==============================] - 0s 26us/step - loss: 141960.4735 - mae: 141960.4844 - accuracy: 0.0000e+00\n",
      "Epoch 257/500\n",
      "16924/16924 [==============================] - 0s 25us/step - loss: 141920.7930 - mae: 141920.7969 - accuracy: 0.0000e+00\n",
      "Epoch 258/500\n",
      "16924/16924 [==============================] - 0s 28us/step - loss: 141879.5399 - mae: 141879.5312 - accuracy: 0.0000e+00\n",
      "Epoch 259/500\n",
      "16924/16924 [==============================] - 0s 24us/step - loss: 141843.6257 - mae: 141843.6250 - accuracy: 0.0000e+00\n",
      "Epoch 260/500\n",
      "16924/16924 [==============================] - 0s 20us/step - loss: 141803.6896 - mae: 141803.6875 - accuracy: 0.0000e+00\n",
      "Epoch 261/500\n",
      "16924/16924 [==============================] - 0s 20us/step - loss: 141764.2149 - mae: 141764.2656 - accuracy: 0.0000e+00\n",
      "Epoch 262/500\n",
      "16924/16924 [==============================] - 0s 17us/step - loss: 141724.5474 - mae: 141724.5781 - accuracy: 0.0000e+00\n",
      "Epoch 263/500\n",
      "16924/16924 [==============================] - 0s 19us/step - loss: 141687.8081 - mae: 141687.8438 - accuracy: 0.0000e+00\n",
      "Epoch 264/500\n",
      "16924/16924 [==============================] - 0s 27us/step - loss: 141652.4110 - mae: 141652.4688 - accuracy: 0.0000e+00\n",
      "Epoch 265/500\n",
      "16924/16924 [==============================] - 0s 22us/step - loss: 141618.1182 - mae: 141618.1094 - accuracy: 0.0000e+00\n",
      "Epoch 266/500\n",
      "16924/16924 [==============================] - 0s 25us/step - loss: 141583.7499 - mae: 141583.7500 - accuracy: 0.0000e+00\n",
      "Epoch 267/500\n",
      "16924/16924 [==============================] - 0s 18us/step - loss: 141554.4493 - mae: 141554.4531 - accuracy: 0.0000e+00\n",
      "Epoch 268/500\n",
      "16924/16924 [==============================] - 0s 23us/step - loss: 141528.1252 - mae: 141528.1094 - accuracy: 5.9088e-05\n",
      "Epoch 269/500\n",
      "16924/16924 [==============================] - 0s 24us/step - loss: 141488.9351 - mae: 141488.9531 - accuracy: 0.0000e+00\n",
      "Epoch 270/500\n",
      "16924/16924 [==============================] - 0s 22us/step - loss: 141456.7187 - mae: 141456.7500 - accuracy: 0.0000e+00\n",
      "Epoch 271/500\n",
      "16924/16924 [==============================] - 0s 21us/step - loss: 141430.7403 - mae: 141430.7500 - accuracy: 0.0000e+00\n",
      "Epoch 272/500\n",
      "16924/16924 [==============================] - 0s 19us/step - loss: 141399.7710 - mae: 141399.7500 - accuracy: 0.0000e+00\n",
      "Epoch 273/500\n",
      "16924/16924 [==============================] - 0s 26us/step - loss: 141368.9696 - mae: 141369.0156 - accuracy: 0.0000e+00\n",
      "Epoch 274/500\n",
      "16924/16924 [==============================] - 0s 20us/step - loss: 141341.0848 - mae: 141341.0938 - accuracy: 0.0000e+00\n",
      "Epoch 275/500\n",
      "16924/16924 [==============================] - 0s 22us/step - loss: 141312.1672 - mae: 141312.1875 - accuracy: 0.0000e+00\n",
      "Epoch 276/500\n",
      "16924/16924 [==============================] - 0s 26us/step - loss: 141290.4974 - mae: 141290.4844 - accuracy: 0.0000e+00\n",
      "Epoch 277/500\n",
      "16924/16924 [==============================] - 0s 23us/step - loss: 141260.3999 - mae: 141260.4219 - accuracy: 0.0000e+00\n",
      "Epoch 278/500\n",
      "16924/16924 [==============================] - 0s 21us/step - loss: 141233.0271 - mae: 141233.0156 - accuracy: 0.0000e+00\n",
      "Epoch 279/500\n",
      "16924/16924 [==============================] - 0s 19us/step - loss: 141211.1125 - mae: 141211.0938 - accuracy: 0.0000e+00\n",
      "Epoch 280/500\n",
      "16924/16924 [==============================] - 0s 17us/step - loss: 141187.9293 - mae: 141187.9062 - accuracy: 0.0000e+00\n",
      "Epoch 281/500\n",
      "16924/16924 [==============================] - 0s 17us/step - loss: 141160.2459 - mae: 141160.2500 - accuracy: 0.0000e+00\n",
      "Epoch 282/500\n",
      "16924/16924 [==============================] - 0s 17us/step - loss: 141136.2771 - mae: 141136.3281 - accuracy: 0.0000e+00\n",
      "Epoch 283/500\n",
      "16924/16924 [==============================] - 0s 18us/step - loss: 141111.8281 - mae: 141111.8594 - accuracy: 0.0000e+00\n",
      "Epoch 284/500\n",
      "16924/16924 [==============================] - 0s 18us/step - loss: 141085.3716 - mae: 141085.3906 - accuracy: 0.0000e+00\n",
      "Epoch 285/500\n",
      "16924/16924 [==============================] - 0s 17us/step - loss: 141063.8808 - mae: 141063.8594 - accuracy: 0.0000e+00\n",
      "Epoch 286/500\n",
      "16924/16924 [==============================] - 0s 20us/step - loss: 141034.9927 - mae: 141034.9531 - accuracy: 0.0000e+00\n",
      "Epoch 287/500\n",
      "16924/16924 [==============================] - 0s 17us/step - loss: 141011.7882 - mae: 141011.7969 - accuracy: 0.0000e+00\n",
      "Epoch 288/500\n",
      "16924/16924 [==============================] - 0s 17us/step - loss: 140986.4773 - mae: 140986.5000 - accuracy: 0.0000e+00\n",
      "Epoch 289/500\n",
      "16924/16924 [==============================] - 0s 16us/step - loss: 140965.1741 - mae: 140965.1719 - accuracy: 0.0000e+00\n",
      "Epoch 290/500\n",
      "16924/16924 [==============================] - 0s 17us/step - loss: 140942.3013 - mae: 140942.2656 - accuracy: 0.0000e+00\n",
      "Epoch 291/500\n",
      "16924/16924 [==============================] - 0s 17us/step - loss: 140918.4995 - mae: 140918.4844 - accuracy: 0.0000e+00\n",
      "Epoch 292/500\n",
      "16924/16924 [==============================] - 0s 17us/step - loss: 140894.1858 - mae: 140894.1719 - accuracy: 0.0000e+00\n",
      "Epoch 293/500\n",
      "16924/16924 [==============================] - 0s 17us/step - loss: 140876.8458 - mae: 140876.8125 - accuracy: 0.0000e+00\n",
      "Epoch 294/500\n",
      "16924/16924 [==============================] - 0s 17us/step - loss: 140853.6143 - mae: 140853.6094 - accuracy: 0.0000e+00\n",
      "Epoch 295/500\n",
      "16924/16924 [==============================] - 0s 17us/step - loss: 140831.0201 - mae: 140831.0000 - accuracy: 5.9088e-05\n",
      "Epoch 296/500\n",
      "16924/16924 [==============================] - ETA: 0s - loss: 140945.0694 - mae: 140945.0781 - accuracy: 0.0000e+ - 0s 17us/step - loss: 140811.7484 - mae: 140811.7500 - accuracy: 0.0000e+00\n",
      "Epoch 297/500\n",
      "16924/16924 [==============================] - 0s 17us/step - loss: 140790.6788 - mae: 140790.7188 - accuracy: 5.9088e-05\n",
      "Epoch 298/500\n"
     ]
    },
    {
     "name": "stdout",
     "output_type": "stream",
     "text": [
      "16924/16924 [==============================] - 0s 16us/step - loss: 140768.7848 - mae: 140768.7969 - accuracy: 0.0000e+00\n",
      "Epoch 299/500\n",
      "16924/16924 [==============================] - 0s 17us/step - loss: 140755.2404 - mae: 140755.2500 - accuracy: 0.0000e+00\n",
      "Epoch 300/500\n",
      "16924/16924 [==============================] - 0s 17us/step - loss: 140731.7817 - mae: 140731.8125 - accuracy: 0.0000e+00\n",
      "Epoch 301/500\n",
      "16924/16924 [==============================] - 0s 18us/step - loss: 140714.5248 - mae: 140714.5469 - accuracy: 0.0000e+00\n",
      "Epoch 302/500\n",
      "16924/16924 [==============================] - 0s 17us/step - loss: 140699.7793 - mae: 140699.7656 - accuracy: 0.0000e+00\n",
      "Epoch 303/500\n",
      "16924/16924 [==============================] - 0s 17us/step - loss: 140679.2721 - mae: 140679.2500 - accuracy: 0.0000e+00\n",
      "Epoch 304/500\n",
      "16924/16924 [==============================] - 0s 18us/step - loss: 140664.5456 - mae: 140664.5156 - accuracy: 0.0000e+00\n",
      "Epoch 305/500\n",
      "16924/16924 [==============================] - 0s 16us/step - loss: 140646.0100 - mae: 140645.9844 - accuracy: 0.0000e+00\n",
      "Epoch 306/500\n",
      "16924/16924 [==============================] - 0s 20us/step - loss: 140628.9095 - mae: 140628.9219 - accuracy: 0.0000e+00\n",
      "Epoch 307/500\n",
      "16924/16924 [==============================] - 0s 15us/step - loss: 140613.0245 - mae: 140613.0156 - accuracy: 0.0000e+00\n",
      "Epoch 308/500\n",
      "16924/16924 [==============================] - 0s 17us/step - loss: 140594.4224 - mae: 140594.4062 - accuracy: 0.0000e+00\n",
      "Epoch 309/500\n",
      "16924/16924 [==============================] - 0s 16us/step - loss: 140578.2529 - mae: 140578.2500 - accuracy: 0.0000e+00\n",
      "Epoch 310/500\n",
      "16924/16924 [==============================] - 0s 17us/step - loss: 140561.9702 - mae: 140561.9531 - accuracy: 0.0000e+00\n",
      "Epoch 311/500\n",
      "16924/16924 [==============================] - 0s 17us/step - loss: 140544.2869 - mae: 140544.2812 - accuracy: 0.0000e+00\n",
      "Epoch 312/500\n",
      "16924/16924 [==============================] - 0s 16us/step - loss: 140526.1217 - mae: 140526.1250 - accuracy: 0.0000e+00\n",
      "Epoch 313/500\n",
      "16924/16924 [==============================] - 0s 16us/step - loss: 140513.3965 - mae: 140513.4062 - accuracy: 0.0000e+00\n",
      "Epoch 314/500\n",
      "16924/16924 [==============================] - 0s 17us/step - loss: 140499.6244 - mae: 140499.6094 - accuracy: 0.0000e+00\n",
      "Epoch 315/500\n",
      "16924/16924 [==============================] - 0s 17us/step - loss: 140480.9804 - mae: 140480.9688 - accuracy: 0.0000e+00\n",
      "Epoch 316/500\n",
      "16924/16924 [==============================] - 0s 16us/step - loss: 140464.2066 - mae: 140464.1875 - accuracy: 0.0000e+00\n",
      "Epoch 317/500\n",
      "16924/16924 [==============================] - 0s 16us/step - loss: 140450.9053 - mae: 140450.8750 - accuracy: 0.0000e+00\n",
      "Epoch 318/500\n",
      "16924/16924 [==============================] - 0s 17us/step - loss: 140437.9131 - mae: 140437.9531 - accuracy: 0.0000e+00\n",
      "Epoch 319/500\n",
      "16924/16924 [==============================] - 0s 17us/step - loss: 140418.3031 - mae: 140418.3438 - accuracy: 0.0000e+00\n",
      "Epoch 320/500\n",
      "16924/16924 [==============================] - 0s 17us/step - loss: 140403.9070 - mae: 140403.9219 - accuracy: 0.0000e+00\n",
      "Epoch 321/500\n",
      "16924/16924 [==============================] - 0s 18us/step - loss: 140395.4481 - mae: 140395.4219 - accuracy: 0.0000e+00\n",
      "Epoch 322/500\n",
      "16924/16924 [==============================] - 0s 17us/step - loss: 140376.0019 - mae: 140376.0312 - accuracy: 0.0000e+00\n",
      "Epoch 323/500\n",
      "16924/16924 [==============================] - 0s 18us/step - loss: 140362.3469 - mae: 140362.3281 - accuracy: 0.0000e+00\n",
      "Epoch 324/500\n",
      "16924/16924 [==============================] - 0s 18us/step - loss: 140351.5354 - mae: 140351.5625 - accuracy: 0.0000e+00\n",
      "Epoch 325/500\n",
      "16924/16924 [==============================] - 0s 17us/step - loss: 140333.8454 - mae: 140333.8594 - accuracy: 0.0000e+00\n",
      "Epoch 326/500\n",
      "16924/16924 [==============================] - 0s 18us/step - loss: 140319.5896 - mae: 140319.5781 - accuracy: 0.0000e+00\n",
      "Epoch 327/500\n",
      "16924/16924 [==============================] - 0s 16us/step - loss: 140309.4507 - mae: 140309.4688 - accuracy: 0.0000e+00\n",
      "Epoch 328/500\n",
      "16924/16924 [==============================] - 0s 17us/step - loss: 140289.7502 - mae: 140289.7344 - accuracy: 0.0000e+00\n",
      "Epoch 329/500\n",
      "16924/16924 [==============================] - 0s 17us/step - loss: 140278.1894 - mae: 140278.2188 - accuracy: 0.0000e+00\n",
      "Epoch 330/500\n",
      "16924/16924 [==============================] - 0s 17us/step - loss: 140266.9583 - mae: 140266.9375 - accuracy: 0.0000e+00\n",
      "Epoch 331/500\n",
      "16924/16924 [==============================] - 0s 17us/step - loss: 140246.5458 - mae: 140246.5781 - accuracy: 0.0000e+00\n",
      "Epoch 332/500\n",
      "16924/16924 [==============================] - 0s 17us/step - loss: 140234.4749 - mae: 140234.4844 - accuracy: 0.0000e+00\n",
      "Epoch 333/500\n",
      "16924/16924 [==============================] - 0s 16us/step - loss: 140220.3846 - mae: 140220.3906 - accuracy: 0.0000e+00\n",
      "Epoch 334/500\n",
      "16924/16924 [==============================] - 0s 17us/step - loss: 140208.0176 - mae: 140208.0469 - accuracy: 0.0000e+00\n",
      "Epoch 335/500\n",
      "16924/16924 [==============================] - 0s 17us/step - loss: 140193.7975 - mae: 140193.8125 - accuracy: 0.0000e+00\n",
      "Epoch 336/500\n",
      "16924/16924 [==============================] - 0s 17us/step - loss: 140178.7101 - mae: 140178.7188 - accuracy: 0.0000e+00\n",
      "Epoch 337/500\n",
      "16924/16924 [==============================] - 0s 16us/step - loss: 140169.9241 - mae: 140169.9219 - accuracy: 0.0000e+00\n",
      "Epoch 338/500\n",
      "16924/16924 [==============================] - 0s 16us/step - loss: 140157.0780 - mae: 140157.0781 - accuracy: 0.0000e+00\n",
      "Epoch 339/500\n",
      "16924/16924 [==============================] - 0s 18us/step - loss: 140140.5766 - mae: 140140.5938 - accuracy: 0.0000e+00\n",
      "Epoch 340/500\n",
      "16924/16924 [==============================] - 0s 17us/step - loss: 140131.7043 - mae: 140131.7500 - accuracy: 0.0000e+00\n",
      "Epoch 341/500\n",
      "16924/16924 [==============================] - 0s 17us/step - loss: 140118.3742 - mae: 140118.3125 - accuracy: 0.0000e+00\n",
      "Epoch 342/500\n",
      "16924/16924 [==============================] - 0s 17us/step - loss: 140107.6932 - mae: 140107.6875 - accuracy: 0.0000e+00\n",
      "Epoch 343/500\n",
      "16924/16924 [==============================] - 0s 17us/step - loss: 140090.3162 - mae: 140090.2969 - accuracy: 0.0000e+00\n",
      "Epoch 344/500\n",
      "16924/16924 [==============================] - 0s 17us/step - loss: 140081.6702 - mae: 140081.7031 - accuracy: 0.0000e+00\n",
      "Epoch 345/500\n",
      "16924/16924 [==============================] - 0s 17us/step - loss: 140067.7544 - mae: 140067.7812 - accuracy: 0.0000e+00\n",
      "Epoch 346/500\n",
      "16924/16924 [==============================] - 0s 18us/step - loss: 140055.9110 - mae: 140055.9375 - accuracy: 0.0000e+00\n",
      "Epoch 347/500\n",
      "16924/16924 [==============================] - 0s 17us/step - loss: 140043.1557 - mae: 140043.1406 - accuracy: 0.0000e+00\n",
      "Epoch 348/500\n",
      "16924/16924 [==============================] - 0s 17us/step - loss: 140032.3688 - mae: 140032.3281 - accuracy: 0.0000e+00\n",
      "Epoch 349/500\n",
      "16924/16924 [==============================] - 0s 17us/step - loss: 140020.2387 - mae: 140020.2500 - accuracy: 0.0000e+00\n",
      "Epoch 350/500\n",
      "16924/16924 [==============================] - 0s 17us/step - loss: 140007.6320 - mae: 140007.6094 - accuracy: 0.0000e+00\n",
      "Epoch 351/500\n",
      "16924/16924 [==============================] - 0s 20us/step - loss: 140001.0989 - mae: 140001.1094 - accuracy: 0.0000e+00\n",
      "Epoch 352/500\n",
      "16924/16924 [==============================] - 0s 17us/step - loss: 139989.3645 - mae: 139989.4219 - accuracy: 0.0000e+00\n",
      "Epoch 353/500\n",
      "16924/16924 [==============================] - 0s 17us/step - loss: 139975.0727 - mae: 139975.0625 - accuracy: 0.0000e+00\n",
      "Epoch 354/500\n",
      "16924/16924 [==============================] - 0s 17us/step - loss: 139963.4648 - mae: 139963.4844 - accuracy: 0.0000e+00\n",
      "Epoch 355/500\n",
      "16924/16924 [==============================] - 0s 17us/step - loss: 139952.9443 - mae: 139952.9375 - accuracy: 0.0000e+00\n",
      "Epoch 356/500\n",
      "16924/16924 [==============================] - 0s 17us/step - loss: 139942.8158 - mae: 139942.8125 - accuracy: 0.0000e+00\n",
      "Epoch 357/500\n",
      "16924/16924 [==============================] - 0s 17us/step - loss: 139932.8531 - mae: 139932.7969 - accuracy: 5.9088e-05\n",
      "Epoch 358/500\n",
      "16924/16924 [==============================] - 0s 16us/step - loss: 139919.5589 - mae: 139919.5469 - accuracy: 0.0000e+00\n",
      "Epoch 359/500\n",
      "16924/16924 [==============================] - 0s 17us/step - loss: 139909.7276 - mae: 139909.7344 - accuracy: 0.0000e+00\n",
      "Epoch 360/500\n",
      "16924/16924 [==============================] - 0s 18us/step - loss: 139898.7109 - mae: 139898.6875 - accuracy: 0.0000e+00\n",
      "Epoch 361/500\n",
      "16924/16924 [==============================] - 0s 16us/step - loss: 139889.7764 - mae: 139889.7500 - accuracy: 0.0000e+00\n",
      "Epoch 362/500\n",
      "16924/16924 [==============================] - 0s 17us/step - loss: 139882.4587 - mae: 139882.4219 - accuracy: 0.0000e+00\n",
      "Epoch 363/500\n",
      "16924/16924 [==============================] - 0s 17us/step - loss: 139868.1316 - mae: 139868.1250 - accuracy: 0.0000e+00\n",
      "Epoch 364/500\n",
      "16924/16924 [==============================] - 0s 17us/step - loss: 139860.6825 - mae: 139860.6719 - accuracy: 0.0000e+00\n",
      "Epoch 365/500\n",
      "16924/16924 [==============================] - 0s 16us/step - loss: 139848.8159 - mae: 139848.7812 - accuracy: 0.0000e+00\n",
      "Epoch 366/500\n",
      "16924/16924 [==============================] - 0s 17us/step - loss: 139841.0756 - mae: 139841.0625 - accuracy: 0.0000e+00\n",
      "Epoch 367/500\n",
      "16924/16924 [==============================] - 0s 17us/step - loss: 139827.6363 - mae: 139827.6406 - accuracy: 0.0000e+00\n",
      "Epoch 368/500\n",
      "16924/16924 [==============================] - 0s 16us/step - loss: 139819.4580 - mae: 139819.4531 - accuracy: 0.0000e+00\n",
      "Epoch 369/500\n",
      "16924/16924 [==============================] - 0s 17us/step - loss: 139811.4096 - mae: 139811.4062 - accuracy: 0.0000e+00\n",
      "Epoch 370/500\n",
      "16924/16924 [==============================] - 0s 17us/step - loss: 139799.5296 - mae: 139799.5000 - accuracy: 0.0000e+00\n",
      "Epoch 371/500\n",
      "16924/16924 [==============================] - 0s 17us/step - loss: 139792.9688 - mae: 139792.9844 - accuracy: 0.0000e+00\n",
      "Epoch 372/500\n",
      "16924/16924 [==============================] - 0s 17us/step - loss: 139782.1557 - mae: 139782.1719 - accuracy: 0.0000e+00\n",
      "Epoch 373/500\n",
      "16924/16924 [==============================] - 0s 16us/step - loss: 139776.3552 - mae: 139776.3750 - accuracy: 0.0000e+00\n",
      "Epoch 374/500\n",
      "16924/16924 [==============================] - 0s 17us/step - loss: 139765.7253 - mae: 139765.7344 - accuracy: 0.0000e+00\n",
      "Epoch 375/500\n",
      "16924/16924 [==============================] - 0s 16us/step - loss: 139753.3352 - mae: 139753.3281 - accuracy: 0.0000e+00\n",
      "Epoch 376/500\n",
      "16924/16924 [==============================] - 0s 16us/step - loss: 139744.4170 - mae: 139744.4688 - accuracy: 0.0000e+00\n",
      "Epoch 377/500\n",
      "16924/16924 [==============================] - 0s 17us/step - loss: 139732.8321 - mae: 139732.8438 - accuracy: 0.0000e+00\n",
      "Epoch 378/500\n",
      "16924/16924 [==============================] - 0s 17us/step - loss: 139725.6906 - mae: 139725.7188 - accuracy: 0.0000e+00\n",
      "Epoch 379/500\n",
      "16924/16924 [==============================] - 0s 17us/step - loss: 139717.8966 - mae: 139717.9219 - accuracy: 0.0000e+00\n",
      "Epoch 380/500\n",
      "16924/16924 [==============================] - 0s 16us/step - loss: 139705.3353 - mae: 139705.3438 - accuracy: 0.0000e+00\n",
      "Epoch 381/500\n",
      "16924/16924 [==============================] - 0s 17us/step - loss: 139696.2040 - mae: 139696.2500 - accuracy: 0.0000e+00\n",
      "Epoch 382/500\n",
      "16924/16924 [==============================] - 0s 16us/step - loss: 139690.4088 - mae: 139690.4062 - accuracy: 0.0000e+00\n",
      "Epoch 383/500\n",
      "16924/16924 [==============================] - 0s 16us/step - loss: 139680.8593 - mae: 139680.8281 - accuracy: 0.0000e+00\n",
      "Epoch 384/500\n",
      "16924/16924 [==============================] - 0s 15us/step - loss: 139671.2635 - mae: 139671.2500 - accuracy: 0.0000e+00\n",
      "Epoch 385/500\n",
      "16924/16924 [==============================] - 0s 16us/step - loss: 139660.0920 - mae: 139660.0938 - accuracy: 0.0000e+00\n",
      "Epoch 386/500\n",
      "16924/16924 [==============================] - 0s 17us/step - loss: 139654.3336 - mae: 139654.3594 - accuracy: 0.0000e+00\n",
      "Epoch 387/500\n",
      "16924/16924 [==============================] - 0s 17us/step - loss: 139641.3526 - mae: 139641.3750 - accuracy: 0.0000e+00\n",
      "Epoch 388/500\n",
      "16924/16924 [==============================] - 0s 17us/step - loss: 139637.8963 - mae: 139637.8906 - accuracy: 0.0000e+00\n",
      "Epoch 389/500\n",
      "16924/16924 [==============================] - 0s 17us/step - loss: 139625.7003 - mae: 139625.7031 - accuracy: 0.0000e+00\n",
      "Epoch 390/500\n",
      "16924/16924 [==============================] - 0s 17us/step - loss: 139625.9659 - mae: 139625.9219 - accuracy: 0.0000e+00\n",
      "Epoch 391/500\n",
      "16924/16924 [==============================] - 0s 19us/step - loss: 139608.4108 - mae: 139608.4219 - accuracy: 0.0000e+00\n",
      "Epoch 392/500\n",
      "16924/16924 [==============================] - 0s 16us/step - loss: 139602.7496 - mae: 139602.7344 - accuracy: 0.0000e+00\n",
      "Epoch 393/500\n",
      "16924/16924 [==============================] - 0s 16us/step - loss: 139596.2997 - mae: 139596.3125 - accuracy: 0.0000e+00\n",
      "Epoch 394/500\n",
      "16924/16924 [==============================] - 0s 17us/step - loss: 139586.6955 - mae: 139586.7031 - accuracy: 0.0000e+00\n",
      "Epoch 395/500\n",
      "16924/16924 [==============================] - 0s 17us/step - loss: 139581.0633 - mae: 139581.0781 - accuracy: 0.0000e+00\n",
      "Epoch 396/500\n",
      "16924/16924 [==============================] - 0s 17us/step - loss: 139571.0091 - mae: 139570.9844 - accuracy: 5.9088e-05\n",
      "Epoch 397/500\n",
      "16924/16924 [==============================] - 0s 16us/step - loss: 139568.2088 - mae: 139568.2031 - accuracy: 0.0000e+00\n",
      "Epoch 398/500\n",
      "16924/16924 [==============================] - 0s 17us/step - loss: 139558.9813 - mae: 139559.0000 - accuracy: 0.0000e+00\n",
      "Epoch 399/500\n",
      "16924/16924 [==============================] - 0s 17us/step - loss: 139549.8916 - mae: 139549.9531 - accuracy: 0.0000e+00\n",
      "Epoch 400/500\n",
      "16924/16924 [==============================] - 0s 17us/step - loss: 139541.9499 - mae: 139541.9375 - accuracy: 0.0000e+00\n",
      "Epoch 401/500\n",
      "16924/16924 [==============================] - 0s 17us/step - loss: 139533.6177 - mae: 139533.6406 - accuracy: 0.0000e+00\n",
      "Epoch 402/500\n",
      "16924/16924 [==============================] - 0s 16us/step - loss: 139525.0231 - mae: 139525.0625 - accuracy: 0.0000e+00\n",
      "Epoch 403/500\n",
      "16924/16924 [==============================] - 0s 17us/step - loss: 139519.8011 - mae: 139519.7812 - accuracy: 0.0000e+00\n",
      "Epoch 404/500\n",
      "16924/16924 [==============================] - 0s 17us/step - loss: 139513.1606 - mae: 139513.1875 - accuracy: 0.0000e+00\n",
      "Epoch 405/500\n",
      "16924/16924 [==============================] - 0s 16us/step - loss: 139501.6040 - mae: 139501.6719 - accuracy: 0.0000e+00\n",
      "Epoch 406/500\n",
      "16924/16924 [==============================] - 0s 17us/step - loss: 139497.0142 - mae: 139497.0156 - accuracy: 0.0000e+00\n",
      "Epoch 407/500\n",
      "16924/16924 [==============================] - 0s 23us/step - loss: 139490.7464 - mae: 139490.7656 - accuracy: 0.0000e+00\n",
      "Epoch 408/500\n",
      "16924/16924 [==============================] - 0s 23us/step - loss: 139482.5648 - mae: 139482.6094 - accuracy: 0.0000e+00\n",
      "Epoch 409/500\n",
      "16924/16924 [==============================] - 0s 24us/step - loss: 139475.6434 - mae: 139475.6562 - accuracy: 0.0000e+00\n",
      "Epoch 410/500\n",
      "16924/16924 [==============================] - 0s 22us/step - loss: 139468.7895 - mae: 139468.7656 - accuracy: 0.0000e+00\n",
      "Epoch 411/500\n",
      "16924/16924 [==============================] - 0s 23us/step - loss: 139460.8432 - mae: 139460.8281 - accuracy: 0.0000e+00\n",
      "Epoch 412/500\n",
      "16924/16924 [==============================] - 0s 25us/step - loss: 139453.5049 - mae: 139453.4844 - accuracy: 0.0000e+00\n",
      "Epoch 413/500\n",
      "16924/16924 [==============================] - 0s 18us/step - loss: 139451.6703 - mae: 139451.6719 - accuracy: 5.9088e-05\n",
      "Epoch 414/500\n",
      "16924/16924 [==============================] - 0s 18us/step - loss: 139438.3627 - mae: 139438.3906 - accuracy: 0.0000e+00\n",
      "Epoch 415/500\n",
      "16924/16924 [==============================] - 0s 17us/step - loss: 139432.1055 - mae: 139432.0625 - accuracy: 0.0000e+00\n",
      "Epoch 416/500\n",
      "16924/16924 [==============================] - 0s 17us/step - loss: 139427.1341 - mae: 139427.1406 - accuracy: 0.0000e+00\n",
      "Epoch 417/500\n",
      "16924/16924 [==============================] - 0s 17us/step - loss: 139419.3674 - mae: 139419.3750 - accuracy: 0.0000e+00\n",
      "Epoch 418/500\n"
     ]
    },
    {
     "name": "stdout",
     "output_type": "stream",
     "text": [
      "16924/16924 [==============================] - 0s 17us/step - loss: 139410.8594 - mae: 139410.8281 - accuracy: 0.0000e+00\n",
      "Epoch 419/500\n",
      "16924/16924 [==============================] - 0s 16us/step - loss: 139404.0950 - mae: 139404.0781 - accuracy: 0.0000e+00\n",
      "Epoch 420/500\n",
      "16924/16924 [==============================] - 0s 17us/step - loss: 139398.5274 - mae: 139398.5312 - accuracy: 0.0000e+00\n",
      "Epoch 421/500\n",
      "16924/16924 [==============================] - 0s 17us/step - loss: 139390.6611 - mae: 139390.6719 - accuracy: 0.0000e+00\n",
      "Epoch 422/500\n",
      "16924/16924 [==============================] - 0s 16us/step - loss: 139384.5788 - mae: 139384.5625 - accuracy: 0.0000e+00\n",
      "Epoch 423/500\n",
      "16924/16924 [==============================] - 0s 17us/step - loss: 139377.9165 - mae: 139377.9062 - accuracy: 0.0000e+00\n",
      "Epoch 424/500\n",
      "16924/16924 [==============================] - 0s 17us/step - loss: 139371.5279 - mae: 139371.5312 - accuracy: 0.0000e+00\n",
      "Epoch 425/500\n",
      "16924/16924 [==============================] - 0s 18us/step - loss: 139365.8992 - mae: 139365.8594 - accuracy: 0.0000e+00\n",
      "Epoch 426/500\n",
      "16924/16924 [==============================] - 0s 16us/step - loss: 139357.4603 - mae: 139357.4688 - accuracy: 0.0000e+00\n",
      "Epoch 427/500\n",
      "16924/16924 [==============================] - 0s 16us/step - loss: 139352.1050 - mae: 139352.0938 - accuracy: 0.0000e+00\n",
      "Epoch 428/500\n",
      "16924/16924 [==============================] - 0s 17us/step - loss: 139346.7066 - mae: 139346.7188 - accuracy: 0.0000e+00\n",
      "Epoch 429/500\n",
      "16924/16924 [==============================] - 0s 17us/step - loss: 139338.3510 - mae: 139338.3438 - accuracy: 0.0000e+00\n",
      "Epoch 430/500\n",
      "16924/16924 [==============================] - 0s 16us/step - loss: 139332.0398 - mae: 139332.0625 - accuracy: 0.0000e+00\n",
      "Epoch 431/500\n",
      "16924/16924 [==============================] - 0s 17us/step - loss: 139326.2765 - mae: 139326.2812 - accuracy: 0.0000e+00\n",
      "Epoch 432/500\n",
      "16924/16924 [==============================] - 0s 18us/step - loss: 139315.3842 - mae: 139315.4062 - accuracy: 0.0000e+00\n",
      "Epoch 433/500\n",
      "16924/16924 [==============================] - 0s 17us/step - loss: 139308.3017 - mae: 139308.3125 - accuracy: 0.0000e+00\n",
      "Epoch 434/500\n",
      "16924/16924 [==============================] - 0s 16us/step - loss: 139303.0083 - mae: 139303.0156 - accuracy: 0.0000e+00\n",
      "Epoch 435/500\n",
      "16924/16924 [==============================] - 0s 19us/step - loss: 139299.4729 - mae: 139299.4844 - accuracy: 0.0000e+00\n",
      "Epoch 436/500\n",
      "16924/16924 [==============================] - 0s 16us/step - loss: 139290.8597 - mae: 139290.8594 - accuracy: 0.0000e+00\n",
      "Epoch 437/500\n",
      "16924/16924 [==============================] - 0s 16us/step - loss: 139286.2552 - mae: 139286.2656 - accuracy: 0.0000e+00\n",
      "Epoch 438/500\n",
      "16924/16924 [==============================] - 0s 16us/step - loss: 139279.3390 - mae: 139279.3594 - accuracy: 0.0000e+00\n",
      "Epoch 439/500\n",
      "16924/16924 [==============================] - 0s 17us/step - loss: 139276.0624 - mae: 139276.0469 - accuracy: 0.0000e+00\n",
      "Epoch 440/500\n",
      "16924/16924 [==============================] - 0s 17us/step - loss: 139267.4668 - mae: 139267.5000 - accuracy: 0.0000e+00\n",
      "Epoch 441/500\n",
      "16924/16924 [==============================] - 0s 16us/step - loss: 139261.2468 - mae: 139261.2500 - accuracy: 0.0000e+00\n",
      "Epoch 442/500\n",
      "16924/16924 [==============================] - 0s 19us/step - loss: 139253.3031 - mae: 139253.2500 - accuracy: 0.0000e+00\n",
      "Epoch 443/500\n",
      "16924/16924 [==============================] - 0s 18us/step - loss: 139247.4375 - mae: 139247.4375 - accuracy: 0.0000e+00\n",
      "Epoch 444/500\n",
      "16924/16924 [==============================] - 0s 20us/step - loss: 139241.3735 - mae: 139241.4062 - accuracy: 0.0000e+00\n",
      "Epoch 445/500\n",
      "16924/16924 [==============================] - 0s 17us/step - loss: 139237.6320 - mae: 139237.6406 - accuracy: 0.0000e+00\n",
      "Epoch 446/500\n",
      "16924/16924 [==============================] - 0s 16us/step - loss: 139231.6687 - mae: 139231.6562 - accuracy: 0.0000e+00\n",
      "Epoch 447/500\n",
      "16924/16924 [==============================] - 0s 16us/step - loss: 139223.5775 - mae: 139223.5938 - accuracy: 0.0000e+00\n",
      "Epoch 448/500\n",
      "16924/16924 [==============================] - 0s 21us/step - loss: 139218.2724 - mae: 139218.2656 - accuracy: 0.0000e+00\n",
      "Epoch 449/500\n",
      "16924/16924 [==============================] - 0s 17us/step - loss: 139210.5789 - mae: 139210.5625 - accuracy: 0.0000e+00\n",
      "Epoch 450/500\n",
      "16924/16924 [==============================] - 0s 15us/step - loss: 139207.4212 - mae: 139207.4219 - accuracy: 0.0000e+00\n",
      "Epoch 451/500\n",
      "16924/16924 [==============================] - 0s 16us/step - loss: 139201.1978 - mae: 139201.1719 - accuracy: 0.0000e+00\n",
      "Epoch 452/500\n",
      "16924/16924 [==============================] - 0s 17us/step - loss: 139194.6528 - mae: 139194.6406 - accuracy: 0.0000e+00\n",
      "Epoch 453/500\n",
      "16924/16924 [==============================] - 0s 17us/step - loss: 139189.7236 - mae: 139189.7656 - accuracy: 0.0000e+00\n",
      "Epoch 454/500\n",
      "16924/16924 [==============================] - 0s 16us/step - loss: 139183.9295 - mae: 139183.9219 - accuracy: 0.0000e+00\n",
      "Epoch 455/500\n",
      "16924/16924 [==============================] - 0s 17us/step - loss: 139176.1072 - mae: 139176.1094 - accuracy: 0.0000e+00\n",
      "Epoch 456/500\n",
      "16924/16924 [==============================] - 0s 17us/step - loss: 139173.2957 - mae: 139173.2656 - accuracy: 0.0000e+00\n",
      "Epoch 457/500\n",
      "16924/16924 [==============================] - 0s 17us/step - loss: 139167.3756 - mae: 139167.3750 - accuracy: 0.0000e+00\n",
      "Epoch 458/500\n",
      "16924/16924 [==============================] - 0s 17us/step - loss: 139162.5018 - mae: 139162.5156 - accuracy: 0.0000e+00\n",
      "Epoch 459/500\n",
      "16924/16924 [==============================] - 0s 16us/step - loss: 139158.0893 - mae: 139158.0469 - accuracy: 0.0000e+00\n",
      "Epoch 460/500\n",
      "16924/16924 [==============================] - 0s 17us/step - loss: 139149.0030 - mae: 139149.0000 - accuracy: 0.0000e+00\n",
      "Epoch 461/500\n",
      "16924/16924 [==============================] - 0s 17us/step - loss: 139145.8843 - mae: 139145.9219 - accuracy: 0.0000e+00\n",
      "Epoch 462/500\n",
      "16924/16924 [==============================] - 0s 16us/step - loss: 139144.6333 - mae: 139144.6562 - accuracy: 0.0000e+00\n",
      "Epoch 463/500\n",
      "16924/16924 [==============================] - 0s 17us/step - loss: 139135.0410 - mae: 139135.0781 - accuracy: 0.0000e+00\n",
      "Epoch 464/500\n",
      "16924/16924 [==============================] - 0s 17us/step - loss: 139129.8118 - mae: 139129.7969 - accuracy: 0.0000e+00\n",
      "Epoch 465/500\n",
      "16924/16924 [==============================] - 0s 16us/step - loss: 139121.2803 - mae: 139121.2969 - accuracy: 0.0000e+00\n",
      "Epoch 466/500\n",
      "16924/16924 [==============================] - 0s 16us/step - loss: 139114.3071 - mae: 139114.2656 - accuracy: 0.0000e+00\n",
      "Epoch 467/500\n",
      "16924/16924 [==============================] - 0s 17us/step - loss: 139111.9135 - mae: 139111.9062 - accuracy: 0.0000e+00\n",
      "Epoch 468/500\n",
      "16924/16924 [==============================] - 0s 17us/step - loss: 139104.0203 - mae: 139104.0000 - accuracy: 0.0000e+00\n",
      "Epoch 469/500\n",
      "16924/16924 [==============================] - 0s 17us/step - loss: 139099.6159 - mae: 139099.5938 - accuracy: 0.0000e+00\n",
      "Epoch 470/500\n",
      "16924/16924 [==============================] - 0s 17us/step - loss: 139093.3953 - mae: 139093.3594 - accuracy: 0.0000e+00\n",
      "Epoch 471/500\n",
      "16924/16924 [==============================] - 0s 16us/step - loss: 139089.2025 - mae: 139089.2188 - accuracy: 0.0000e+00\n",
      "Epoch 472/500\n",
      "16924/16924 [==============================] - 0s 16us/step - loss: 139083.4128 - mae: 139083.4375 - accuracy: 0.0000e+00\n",
      "Epoch 473/500\n",
      "16924/16924 [==============================] - 0s 17us/step - loss: 139078.3279 - mae: 139078.3438 - accuracy: 0.0000e+00\n",
      "Epoch 474/500\n",
      "16924/16924 [==============================] - 0s 17us/step - loss: 139072.8674 - mae: 139072.9219 - accuracy: 0.0000e+00\n",
      "Epoch 475/500\n",
      "16924/16924 [==============================] - 0s 17us/step - loss: 139072.4061 - mae: 139072.4219 - accuracy: 0.0000e+00\n",
      "Epoch 476/500\n",
      "16924/16924 [==============================] - 0s 17us/step - loss: 139061.4949 - mae: 139061.5000 - accuracy: 0.0000e+00\n",
      "Epoch 477/500\n",
      "16924/16924 [==============================] - 0s 17us/step - loss: 139060.1559 - mae: 139060.1562 - accuracy: 0.0000e+00\n",
      "Epoch 478/500\n",
      "16924/16924 [==============================] - 0s 16us/step - loss: 139050.9053 - mae: 139050.9062 - accuracy: 0.0000e+00\n",
      "Epoch 479/500\n",
      "16924/16924 [==============================] - 0s 16us/step - loss: 139047.5781 - mae: 139047.6406 - accuracy: 0.0000e+00\n",
      "Epoch 480/500\n",
      "16924/16924 [==============================] - 0s 16us/step - loss: 139040.8988 - mae: 139040.8906 - accuracy: 5.9088e-05\n",
      "Epoch 481/500\n",
      "16924/16924 [==============================] - 0s 17us/step - loss: 139034.6469 - mae: 139034.6719 - accuracy: 0.0000e+00\n",
      "Epoch 482/500\n",
      "16924/16924 [==============================] - 0s 16us/step - loss: 139034.5085 - mae: 139034.5000 - accuracy: 0.0000e+00\n",
      "Epoch 483/500\n",
      "16924/16924 [==============================] - 0s 17us/step - loss: 139028.9259 - mae: 139028.9219 - accuracy: 0.0000e+00\n",
      "Epoch 484/500\n",
      "16924/16924 [==============================] - 0s 17us/step - loss: 139020.4130 - mae: 139020.4531 - accuracy: 0.0000e+00\n",
      "Epoch 485/500\n",
      "16924/16924 [==============================] - 0s 18us/step - loss: 139014.2368 - mae: 139014.2500 - accuracy: 0.0000e+00\n",
      "Epoch 486/500\n",
      "16924/16924 [==============================] - 0s 17us/step - loss: 139013.6853 - mae: 139013.6875 - accuracy: 0.0000e+00\n",
      "Epoch 487/500\n",
      "16924/16924 [==============================] - 0s 18us/step - loss: 139010.1599 - mae: 139010.1875 - accuracy: 0.0000e+00\n",
      "Epoch 488/500\n",
      "16924/16924 [==============================] - 0s 17us/step - loss: 138999.8633 - mae: 138999.8281 - accuracy: 0.0000e+00\n",
      "Epoch 489/500\n",
      "16924/16924 [==============================] - 0s 16us/step - loss: 138993.9254 - mae: 138993.9375 - accuracy: 0.0000e+00\n",
      "Epoch 490/500\n",
      "16924/16924 [==============================] - 0s 16us/step - loss: 138989.2870 - mae: 138989.2812 - accuracy: 0.0000e+00\n",
      "Epoch 491/500\n",
      "16924/16924 [==============================] - 0s 17us/step - loss: 138991.0316 - mae: 138991.0781 - accuracy: 0.0000e+00\n",
      "Epoch 492/500\n",
      "16924/16924 [==============================] - 0s 17us/step - loss: 138981.5862 - mae: 138981.5781 - accuracy: 0.0000e+00\n",
      "Epoch 493/500\n",
      "16924/16924 [==============================] - 0s 16us/step - loss: 138974.0892 - mae: 138974.0781 - accuracy: 0.0000e+00\n",
      "Epoch 494/500\n",
      "16924/16924 [==============================] - 0s 17us/step - loss: 138968.8343 - mae: 138968.8438 - accuracy: 0.0000e+00\n",
      "Epoch 495/500\n",
      "16924/16924 [==============================] - 0s 17us/step - loss: 138963.4214 - mae: 138963.4219 - accuracy: 0.0000e+00\n",
      "Epoch 496/500\n",
      "16924/16924 [==============================] - 0s 17us/step - loss: 138958.8091 - mae: 138958.7812 - accuracy: 0.0000e+00\n",
      "Epoch 497/500\n",
      "16924/16924 [==============================] - 0s 17us/step - loss: 138957.0230 - mae: 138957.0312 - accuracy: 0.0000e+00\n",
      "Epoch 498/500\n",
      "16924/16924 [==============================] - 0s 17us/step - loss: 138949.3896 - mae: 138949.4219 - accuracy: 0.0000e+00\n",
      "Epoch 499/500\n",
      "16924/16924 [==============================] - 0s 16us/step - loss: 138945.9080 - mae: 138945.9375 - accuracy: 0.0000e+00\n",
      "Epoch 500/500\n",
      "16924/16924 [==============================] - 0s 16us/step - loss: 138938.1194 - mae: 138938.1250 - accuracy: 0.0000e+00\n"
     ]
    },
    {
     "data": {
      "text/plain": [
       "<keras.callbacks.callbacks.History at 0x1851a41f9b0>"
      ]
     },
     "execution_count": 393,
     "metadata": {},
     "output_type": "execute_result"
    }
   ],
   "source": [
    "from keras import Sequential\n",
    "from keras.layers import Dense\n",
    "\n",
    "#model\n",
    "Nmodel = Sequential()\n",
    "\n",
    "#input layer\n",
    "Nmodel.add(Dense(18, activation = 'relu',input_dim = X_train.shape[1]))\n",
    "\n",
    "#hidden layer\n",
    "Nmodel.add(Dense(9, kernel_initializer='normal', activation = 'relu' ))\n",
    "\n",
    "#output layer\n",
    "Nmodel.add(Dense(1, kernel_initializer='normal', activation='linear'))\n",
    "\n",
    "#compile the model\n",
    "Nmodel.compile(loss = 'mean_absolute_error', optimizer = 'adam', metrics = ['mae','accuracy'])\n",
    "\n",
    "#fit\n",
    "Nmodel.fit(X_train_scaled, y_train, epochs = 500, batch_size = 128)"
   ]
  },
  {
   "cell_type": "code",
   "execution_count": 397,
   "metadata": {
    "scrolled": false
   },
   "outputs": [
    {
     "name": "stdout",
     "output_type": "stream",
     "text": [
      "Accuracy: 0.61\n"
     ]
    }
   ],
   "source": [
    "y_prednn = Nmodel.predict(X_test_scaled)\n",
    "print('Accuracy: {:.2f}'.format(metrics.r2_score(y_test,y_prednn)))"
   ]
  },
  {
   "cell_type": "code",
   "execution_count": 398,
   "metadata": {
    "scrolled": true
   },
   "outputs": [
    {
     "data": {
      "application/javascript": [
       "/* Put everything inside the global mpl namespace */\n",
       "window.mpl = {};\n",
       "\n",
       "\n",
       "mpl.get_websocket_type = function() {\n",
       "    if (typeof(WebSocket) !== 'undefined') {\n",
       "        return WebSocket;\n",
       "    } else if (typeof(MozWebSocket) !== 'undefined') {\n",
       "        return MozWebSocket;\n",
       "    } else {\n",
       "        alert('Your browser does not have WebSocket support.' +\n",
       "              'Please try Chrome, Safari or Firefox ≥ 6. ' +\n",
       "              'Firefox 4 and 5 are also supported but you ' +\n",
       "              'have to enable WebSockets in about:config.');\n",
       "    };\n",
       "}\n",
       "\n",
       "mpl.figure = function(figure_id, websocket, ondownload, parent_element) {\n",
       "    this.id = figure_id;\n",
       "\n",
       "    this.ws = websocket;\n",
       "\n",
       "    this.supports_binary = (this.ws.binaryType != undefined);\n",
       "\n",
       "    if (!this.supports_binary) {\n",
       "        var warnings = document.getElementById(\"mpl-warnings\");\n",
       "        if (warnings) {\n",
       "            warnings.style.display = 'block';\n",
       "            warnings.textContent = (\n",
       "                \"This browser does not support binary websocket messages. \" +\n",
       "                    \"Performance may be slow.\");\n",
       "        }\n",
       "    }\n",
       "\n",
       "    this.imageObj = new Image();\n",
       "\n",
       "    this.context = undefined;\n",
       "    this.message = undefined;\n",
       "    this.canvas = undefined;\n",
       "    this.rubberband_canvas = undefined;\n",
       "    this.rubberband_context = undefined;\n",
       "    this.format_dropdown = undefined;\n",
       "\n",
       "    this.image_mode = 'full';\n",
       "\n",
       "    this.root = $('<div/>');\n",
       "    this._root_extra_style(this.root)\n",
       "    this.root.attr('style', 'display: inline-block');\n",
       "\n",
       "    $(parent_element).append(this.root);\n",
       "\n",
       "    this._init_header(this);\n",
       "    this._init_canvas(this);\n",
       "    this._init_toolbar(this);\n",
       "\n",
       "    var fig = this;\n",
       "\n",
       "    this.waiting = false;\n",
       "\n",
       "    this.ws.onopen =  function () {\n",
       "            fig.send_message(\"supports_binary\", {value: fig.supports_binary});\n",
       "            fig.send_message(\"send_image_mode\", {});\n",
       "            if (mpl.ratio != 1) {\n",
       "                fig.send_message(\"set_dpi_ratio\", {'dpi_ratio': mpl.ratio});\n",
       "            }\n",
       "            fig.send_message(\"refresh\", {});\n",
       "        }\n",
       "\n",
       "    this.imageObj.onload = function() {\n",
       "            if (fig.image_mode == 'full') {\n",
       "                // Full images could contain transparency (where diff images\n",
       "                // almost always do), so we need to clear the canvas so that\n",
       "                // there is no ghosting.\n",
       "                fig.context.clearRect(0, 0, fig.canvas.width, fig.canvas.height);\n",
       "            }\n",
       "            fig.context.drawImage(fig.imageObj, 0, 0);\n",
       "        };\n",
       "\n",
       "    this.imageObj.onunload = function() {\n",
       "        fig.ws.close();\n",
       "    }\n",
       "\n",
       "    this.ws.onmessage = this._make_on_message_function(this);\n",
       "\n",
       "    this.ondownload = ondownload;\n",
       "}\n",
       "\n",
       "mpl.figure.prototype._init_header = function() {\n",
       "    var titlebar = $(\n",
       "        '<div class=\"ui-dialog-titlebar ui-widget-header ui-corner-all ' +\n",
       "        'ui-helper-clearfix\"/>');\n",
       "    var titletext = $(\n",
       "        '<div class=\"ui-dialog-title\" style=\"width: 100%; ' +\n",
       "        'text-align: center; padding: 3px;\"/>');\n",
       "    titlebar.append(titletext)\n",
       "    this.root.append(titlebar);\n",
       "    this.header = titletext[0];\n",
       "}\n",
       "\n",
       "\n",
       "\n",
       "mpl.figure.prototype._canvas_extra_style = function(canvas_div) {\n",
       "\n",
       "}\n",
       "\n",
       "\n",
       "mpl.figure.prototype._root_extra_style = function(canvas_div) {\n",
       "\n",
       "}\n",
       "\n",
       "mpl.figure.prototype._init_canvas = function() {\n",
       "    var fig = this;\n",
       "\n",
       "    var canvas_div = $('<div/>');\n",
       "\n",
       "    canvas_div.attr('style', 'position: relative; clear: both; outline: 0');\n",
       "\n",
       "    function canvas_keyboard_event(event) {\n",
       "        return fig.key_event(event, event['data']);\n",
       "    }\n",
       "\n",
       "    canvas_div.keydown('key_press', canvas_keyboard_event);\n",
       "    canvas_div.keyup('key_release', canvas_keyboard_event);\n",
       "    this.canvas_div = canvas_div\n",
       "    this._canvas_extra_style(canvas_div)\n",
       "    this.root.append(canvas_div);\n",
       "\n",
       "    var canvas = $('<canvas/>');\n",
       "    canvas.addClass('mpl-canvas');\n",
       "    canvas.attr('style', \"left: 0; top: 0; z-index: 0; outline: 0\")\n",
       "\n",
       "    this.canvas = canvas[0];\n",
       "    this.context = canvas[0].getContext(\"2d\");\n",
       "\n",
       "    var backingStore = this.context.backingStorePixelRatio ||\n",
       "\tthis.context.webkitBackingStorePixelRatio ||\n",
       "\tthis.context.mozBackingStorePixelRatio ||\n",
       "\tthis.context.msBackingStorePixelRatio ||\n",
       "\tthis.context.oBackingStorePixelRatio ||\n",
       "\tthis.context.backingStorePixelRatio || 1;\n",
       "\n",
       "    mpl.ratio = (window.devicePixelRatio || 1) / backingStore;\n",
       "\n",
       "    var rubberband = $('<canvas/>');\n",
       "    rubberband.attr('style', \"position: absolute; left: 0; top: 0; z-index: 1;\")\n",
       "\n",
       "    var pass_mouse_events = true;\n",
       "\n",
       "    canvas_div.resizable({\n",
       "        start: function(event, ui) {\n",
       "            pass_mouse_events = false;\n",
       "        },\n",
       "        resize: function(event, ui) {\n",
       "            fig.request_resize(ui.size.width, ui.size.height);\n",
       "        },\n",
       "        stop: function(event, ui) {\n",
       "            pass_mouse_events = true;\n",
       "            fig.request_resize(ui.size.width, ui.size.height);\n",
       "        },\n",
       "    });\n",
       "\n",
       "    function mouse_event_fn(event) {\n",
       "        if (pass_mouse_events)\n",
       "            return fig.mouse_event(event, event['data']);\n",
       "    }\n",
       "\n",
       "    rubberband.mousedown('button_press', mouse_event_fn);\n",
       "    rubberband.mouseup('button_release', mouse_event_fn);\n",
       "    // Throttle sequential mouse events to 1 every 20ms.\n",
       "    rubberband.mousemove('motion_notify', mouse_event_fn);\n",
       "\n",
       "    rubberband.mouseenter('figure_enter', mouse_event_fn);\n",
       "    rubberband.mouseleave('figure_leave', mouse_event_fn);\n",
       "\n",
       "    canvas_div.on(\"wheel\", function (event) {\n",
       "        event = event.originalEvent;\n",
       "        event['data'] = 'scroll'\n",
       "        if (event.deltaY < 0) {\n",
       "            event.step = 1;\n",
       "        } else {\n",
       "            event.step = -1;\n",
       "        }\n",
       "        mouse_event_fn(event);\n",
       "    });\n",
       "\n",
       "    canvas_div.append(canvas);\n",
       "    canvas_div.append(rubberband);\n",
       "\n",
       "    this.rubberband = rubberband;\n",
       "    this.rubberband_canvas = rubberband[0];\n",
       "    this.rubberband_context = rubberband[0].getContext(\"2d\");\n",
       "    this.rubberband_context.strokeStyle = \"#000000\";\n",
       "\n",
       "    this._resize_canvas = function(width, height) {\n",
       "        // Keep the size of the canvas, canvas container, and rubber band\n",
       "        // canvas in synch.\n",
       "        canvas_div.css('width', width)\n",
       "        canvas_div.css('height', height)\n",
       "\n",
       "        canvas.attr('width', width * mpl.ratio);\n",
       "        canvas.attr('height', height * mpl.ratio);\n",
       "        canvas.attr('style', 'width: ' + width + 'px; height: ' + height + 'px;');\n",
       "\n",
       "        rubberband.attr('width', width);\n",
       "        rubberband.attr('height', height);\n",
       "    }\n",
       "\n",
       "    // Set the figure to an initial 600x600px, this will subsequently be updated\n",
       "    // upon first draw.\n",
       "    this._resize_canvas(600, 600);\n",
       "\n",
       "    // Disable right mouse context menu.\n",
       "    $(this.rubberband_canvas).bind(\"contextmenu\",function(e){\n",
       "        return false;\n",
       "    });\n",
       "\n",
       "    function set_focus () {\n",
       "        canvas.focus();\n",
       "        canvas_div.focus();\n",
       "    }\n",
       "\n",
       "    window.setTimeout(set_focus, 100);\n",
       "}\n",
       "\n",
       "mpl.figure.prototype._init_toolbar = function() {\n",
       "    var fig = this;\n",
       "\n",
       "    var nav_element = $('<div/>')\n",
       "    nav_element.attr('style', 'width: 100%');\n",
       "    this.root.append(nav_element);\n",
       "\n",
       "    // Define a callback function for later on.\n",
       "    function toolbar_event(event) {\n",
       "        return fig.toolbar_button_onclick(event['data']);\n",
       "    }\n",
       "    function toolbar_mouse_event(event) {\n",
       "        return fig.toolbar_button_onmouseover(event['data']);\n",
       "    }\n",
       "\n",
       "    for(var toolbar_ind in mpl.toolbar_items) {\n",
       "        var name = mpl.toolbar_items[toolbar_ind][0];\n",
       "        var tooltip = mpl.toolbar_items[toolbar_ind][1];\n",
       "        var image = mpl.toolbar_items[toolbar_ind][2];\n",
       "        var method_name = mpl.toolbar_items[toolbar_ind][3];\n",
       "\n",
       "        if (!name) {\n",
       "            // put a spacer in here.\n",
       "            continue;\n",
       "        }\n",
       "        var button = $('<button/>');\n",
       "        button.addClass('ui-button ui-widget ui-state-default ui-corner-all ' +\n",
       "                        'ui-button-icon-only');\n",
       "        button.attr('role', 'button');\n",
       "        button.attr('aria-disabled', 'false');\n",
       "        button.click(method_name, toolbar_event);\n",
       "        button.mouseover(tooltip, toolbar_mouse_event);\n",
       "\n",
       "        var icon_img = $('<span/>');\n",
       "        icon_img.addClass('ui-button-icon-primary ui-icon');\n",
       "        icon_img.addClass(image);\n",
       "        icon_img.addClass('ui-corner-all');\n",
       "\n",
       "        var tooltip_span = $('<span/>');\n",
       "        tooltip_span.addClass('ui-button-text');\n",
       "        tooltip_span.html(tooltip);\n",
       "\n",
       "        button.append(icon_img);\n",
       "        button.append(tooltip_span);\n",
       "\n",
       "        nav_element.append(button);\n",
       "    }\n",
       "\n",
       "    var fmt_picker_span = $('<span/>');\n",
       "\n",
       "    var fmt_picker = $('<select/>');\n",
       "    fmt_picker.addClass('mpl-toolbar-option ui-widget ui-widget-content');\n",
       "    fmt_picker_span.append(fmt_picker);\n",
       "    nav_element.append(fmt_picker_span);\n",
       "    this.format_dropdown = fmt_picker[0];\n",
       "\n",
       "    for (var ind in mpl.extensions) {\n",
       "        var fmt = mpl.extensions[ind];\n",
       "        var option = $(\n",
       "            '<option/>', {selected: fmt === mpl.default_extension}).html(fmt);\n",
       "        fmt_picker.append(option)\n",
       "    }\n",
       "\n",
       "    // Add hover states to the ui-buttons\n",
       "    $( \".ui-button\" ).hover(\n",
       "        function() { $(this).addClass(\"ui-state-hover\");},\n",
       "        function() { $(this).removeClass(\"ui-state-hover\");}\n",
       "    );\n",
       "\n",
       "    var status_bar = $('<span class=\"mpl-message\"/>');\n",
       "    nav_element.append(status_bar);\n",
       "    this.message = status_bar[0];\n",
       "}\n",
       "\n",
       "mpl.figure.prototype.request_resize = function(x_pixels, y_pixels) {\n",
       "    // Request matplotlib to resize the figure. Matplotlib will then trigger a resize in the client,\n",
       "    // which will in turn request a refresh of the image.\n",
       "    this.send_message('resize', {'width': x_pixels, 'height': y_pixels});\n",
       "}\n",
       "\n",
       "mpl.figure.prototype.send_message = function(type, properties) {\n",
       "    properties['type'] = type;\n",
       "    properties['figure_id'] = this.id;\n",
       "    this.ws.send(JSON.stringify(properties));\n",
       "}\n",
       "\n",
       "mpl.figure.prototype.send_draw_message = function() {\n",
       "    if (!this.waiting) {\n",
       "        this.waiting = true;\n",
       "        this.ws.send(JSON.stringify({type: \"draw\", figure_id: this.id}));\n",
       "    }\n",
       "}\n",
       "\n",
       "\n",
       "mpl.figure.prototype.handle_save = function(fig, msg) {\n",
       "    var format_dropdown = fig.format_dropdown;\n",
       "    var format = format_dropdown.options[format_dropdown.selectedIndex].value;\n",
       "    fig.ondownload(fig, format);\n",
       "}\n",
       "\n",
       "\n",
       "mpl.figure.prototype.handle_resize = function(fig, msg) {\n",
       "    var size = msg['size'];\n",
       "    if (size[0] != fig.canvas.width || size[1] != fig.canvas.height) {\n",
       "        fig._resize_canvas(size[0], size[1]);\n",
       "        fig.send_message(\"refresh\", {});\n",
       "    };\n",
       "}\n",
       "\n",
       "mpl.figure.prototype.handle_rubberband = function(fig, msg) {\n",
       "    var x0 = msg['x0'] / mpl.ratio;\n",
       "    var y0 = (fig.canvas.height - msg['y0']) / mpl.ratio;\n",
       "    var x1 = msg['x1'] / mpl.ratio;\n",
       "    var y1 = (fig.canvas.height - msg['y1']) / mpl.ratio;\n",
       "    x0 = Math.floor(x0) + 0.5;\n",
       "    y0 = Math.floor(y0) + 0.5;\n",
       "    x1 = Math.floor(x1) + 0.5;\n",
       "    y1 = Math.floor(y1) + 0.5;\n",
       "    var min_x = Math.min(x0, x1);\n",
       "    var min_y = Math.min(y0, y1);\n",
       "    var width = Math.abs(x1 - x0);\n",
       "    var height = Math.abs(y1 - y0);\n",
       "\n",
       "    fig.rubberband_context.clearRect(\n",
       "        0, 0, fig.canvas.width, fig.canvas.height);\n",
       "\n",
       "    fig.rubberband_context.strokeRect(min_x, min_y, width, height);\n",
       "}\n",
       "\n",
       "mpl.figure.prototype.handle_figure_label = function(fig, msg) {\n",
       "    // Updates the figure title.\n",
       "    fig.header.textContent = msg['label'];\n",
       "}\n",
       "\n",
       "mpl.figure.prototype.handle_cursor = function(fig, msg) {\n",
       "    var cursor = msg['cursor'];\n",
       "    switch(cursor)\n",
       "    {\n",
       "    case 0:\n",
       "        cursor = 'pointer';\n",
       "        break;\n",
       "    case 1:\n",
       "        cursor = 'default';\n",
       "        break;\n",
       "    case 2:\n",
       "        cursor = 'crosshair';\n",
       "        break;\n",
       "    case 3:\n",
       "        cursor = 'move';\n",
       "        break;\n",
       "    }\n",
       "    fig.rubberband_canvas.style.cursor = cursor;\n",
       "}\n",
       "\n",
       "mpl.figure.prototype.handle_message = function(fig, msg) {\n",
       "    fig.message.textContent = msg['message'];\n",
       "}\n",
       "\n",
       "mpl.figure.prototype.handle_draw = function(fig, msg) {\n",
       "    // Request the server to send over a new figure.\n",
       "    fig.send_draw_message();\n",
       "}\n",
       "\n",
       "mpl.figure.prototype.handle_image_mode = function(fig, msg) {\n",
       "    fig.image_mode = msg['mode'];\n",
       "}\n",
       "\n",
       "mpl.figure.prototype.updated_canvas_event = function() {\n",
       "    // Called whenever the canvas gets updated.\n",
       "    this.send_message(\"ack\", {});\n",
       "}\n",
       "\n",
       "// A function to construct a web socket function for onmessage handling.\n",
       "// Called in the figure constructor.\n",
       "mpl.figure.prototype._make_on_message_function = function(fig) {\n",
       "    return function socket_on_message(evt) {\n",
       "        if (evt.data instanceof Blob) {\n",
       "            /* FIXME: We get \"Resource interpreted as Image but\n",
       "             * transferred with MIME type text/plain:\" errors on\n",
       "             * Chrome.  But how to set the MIME type?  It doesn't seem\n",
       "             * to be part of the websocket stream */\n",
       "            evt.data.type = \"image/png\";\n",
       "\n",
       "            /* Free the memory for the previous frames */\n",
       "            if (fig.imageObj.src) {\n",
       "                (window.URL || window.webkitURL).revokeObjectURL(\n",
       "                    fig.imageObj.src);\n",
       "            }\n",
       "\n",
       "            fig.imageObj.src = (window.URL || window.webkitURL).createObjectURL(\n",
       "                evt.data);\n",
       "            fig.updated_canvas_event();\n",
       "            fig.waiting = false;\n",
       "            return;\n",
       "        }\n",
       "        else if (typeof evt.data === 'string' && evt.data.slice(0, 21) == \"data:image/png;base64\") {\n",
       "            fig.imageObj.src = evt.data;\n",
       "            fig.updated_canvas_event();\n",
       "            fig.waiting = false;\n",
       "            return;\n",
       "        }\n",
       "\n",
       "        var msg = JSON.parse(evt.data);\n",
       "        var msg_type = msg['type'];\n",
       "\n",
       "        // Call the  \"handle_{type}\" callback, which takes\n",
       "        // the figure and JSON message as its only arguments.\n",
       "        try {\n",
       "            var callback = fig[\"handle_\" + msg_type];\n",
       "        } catch (e) {\n",
       "            console.log(\"No handler for the '\" + msg_type + \"' message type: \", msg);\n",
       "            return;\n",
       "        }\n",
       "\n",
       "        if (callback) {\n",
       "            try {\n",
       "                // console.log(\"Handling '\" + msg_type + \"' message: \", msg);\n",
       "                callback(fig, msg);\n",
       "            } catch (e) {\n",
       "                console.log(\"Exception inside the 'handler_\" + msg_type + \"' callback:\", e, e.stack, msg);\n",
       "            }\n",
       "        }\n",
       "    };\n",
       "}\n",
       "\n",
       "// from http://stackoverflow.com/questions/1114465/getting-mouse-location-in-canvas\n",
       "mpl.findpos = function(e) {\n",
       "    //this section is from http://www.quirksmode.org/js/events_properties.html\n",
       "    var targ;\n",
       "    if (!e)\n",
       "        e = window.event;\n",
       "    if (e.target)\n",
       "        targ = e.target;\n",
       "    else if (e.srcElement)\n",
       "        targ = e.srcElement;\n",
       "    if (targ.nodeType == 3) // defeat Safari bug\n",
       "        targ = targ.parentNode;\n",
       "\n",
       "    // jQuery normalizes the pageX and pageY\n",
       "    // pageX,Y are the mouse positions relative to the document\n",
       "    // offset() returns the position of the element relative to the document\n",
       "    var x = e.pageX - $(targ).offset().left;\n",
       "    var y = e.pageY - $(targ).offset().top;\n",
       "\n",
       "    return {\"x\": x, \"y\": y};\n",
       "};\n",
       "\n",
       "/*\n",
       " * return a copy of an object with only non-object keys\n",
       " * we need this to avoid circular references\n",
       " * http://stackoverflow.com/a/24161582/3208463\n",
       " */\n",
       "function simpleKeys (original) {\n",
       "  return Object.keys(original).reduce(function (obj, key) {\n",
       "    if (typeof original[key] !== 'object')\n",
       "        obj[key] = original[key]\n",
       "    return obj;\n",
       "  }, {});\n",
       "}\n",
       "\n",
       "mpl.figure.prototype.mouse_event = function(event, name) {\n",
       "    var canvas_pos = mpl.findpos(event)\n",
       "\n",
       "    if (name === 'button_press')\n",
       "    {\n",
       "        this.canvas.focus();\n",
       "        this.canvas_div.focus();\n",
       "    }\n",
       "\n",
       "    var x = canvas_pos.x * mpl.ratio;\n",
       "    var y = canvas_pos.y * mpl.ratio;\n",
       "\n",
       "    this.send_message(name, {x: x, y: y, button: event.button,\n",
       "                             step: event.step,\n",
       "                             guiEvent: simpleKeys(event)});\n",
       "\n",
       "    /* This prevents the web browser from automatically changing to\n",
       "     * the text insertion cursor when the button is pressed.  We want\n",
       "     * to control all of the cursor setting manually through the\n",
       "     * 'cursor' event from matplotlib */\n",
       "    event.preventDefault();\n",
       "    return false;\n",
       "}\n",
       "\n",
       "mpl.figure.prototype._key_event_extra = function(event, name) {\n",
       "    // Handle any extra behaviour associated with a key event\n",
       "}\n",
       "\n",
       "mpl.figure.prototype.key_event = function(event, name) {\n",
       "\n",
       "    // Prevent repeat events\n",
       "    if (name == 'key_press')\n",
       "    {\n",
       "        if (event.which === this._key)\n",
       "            return;\n",
       "        else\n",
       "            this._key = event.which;\n",
       "    }\n",
       "    if (name == 'key_release')\n",
       "        this._key = null;\n",
       "\n",
       "    var value = '';\n",
       "    if (event.ctrlKey && event.which != 17)\n",
       "        value += \"ctrl+\";\n",
       "    if (event.altKey && event.which != 18)\n",
       "        value += \"alt+\";\n",
       "    if (event.shiftKey && event.which != 16)\n",
       "        value += \"shift+\";\n",
       "\n",
       "    value += 'k';\n",
       "    value += event.which.toString();\n",
       "\n",
       "    this._key_event_extra(event, name);\n",
       "\n",
       "    this.send_message(name, {key: value,\n",
       "                             guiEvent: simpleKeys(event)});\n",
       "    return false;\n",
       "}\n",
       "\n",
       "mpl.figure.prototype.toolbar_button_onclick = function(name) {\n",
       "    if (name == 'download') {\n",
       "        this.handle_save(this, null);\n",
       "    } else {\n",
       "        this.send_message(\"toolbar_button\", {name: name});\n",
       "    }\n",
       "};\n",
       "\n",
       "mpl.figure.prototype.toolbar_button_onmouseover = function(tooltip) {\n",
       "    this.message.textContent = tooltip;\n",
       "};\n",
       "mpl.toolbar_items = [[\"Home\", \"Reset original view\", \"fa fa-home icon-home\", \"home\"], [\"Back\", \"Back to previous view\", \"fa fa-arrow-left icon-arrow-left\", \"back\"], [\"Forward\", \"Forward to next view\", \"fa fa-arrow-right icon-arrow-right\", \"forward\"], [\"\", \"\", \"\", \"\"], [\"Pan\", \"Pan axes with left mouse, zoom with right\", \"fa fa-arrows icon-move\", \"pan\"], [\"Zoom\", \"Zoom to rectangle\", \"fa fa-square-o icon-check-empty\", \"zoom\"], [\"\", \"\", \"\", \"\"], [\"Download\", \"Download plot\", \"fa fa-floppy-o icon-save\", \"download\"]];\n",
       "\n",
       "mpl.extensions = [\"eps\", \"jpeg\", \"pdf\", \"png\", \"ps\", \"raw\", \"svg\", \"tif\"];\n",
       "\n",
       "mpl.default_extension = \"png\";var comm_websocket_adapter = function(comm) {\n",
       "    // Create a \"websocket\"-like object which calls the given IPython comm\n",
       "    // object with the appropriate methods. Currently this is a non binary\n",
       "    // socket, so there is still some room for performance tuning.\n",
       "    var ws = {};\n",
       "\n",
       "    ws.close = function() {\n",
       "        comm.close()\n",
       "    };\n",
       "    ws.send = function(m) {\n",
       "        //console.log('sending', m);\n",
       "        comm.send(m);\n",
       "    };\n",
       "    // Register the callback with on_msg.\n",
       "    comm.on_msg(function(msg) {\n",
       "        //console.log('receiving', msg['content']['data'], msg);\n",
       "        // Pass the mpl event to the overridden (by mpl) onmessage function.\n",
       "        ws.onmessage(msg['content']['data'])\n",
       "    });\n",
       "    return ws;\n",
       "}\n",
       "\n",
       "mpl.mpl_figure_comm = function(comm, msg) {\n",
       "    // This is the function which gets called when the mpl process\n",
       "    // starts-up an IPython Comm through the \"matplotlib\" channel.\n",
       "\n",
       "    var id = msg.content.data.id;\n",
       "    // Get hold of the div created by the display call when the Comm\n",
       "    // socket was opened in Python.\n",
       "    var element = $(\"#\" + id);\n",
       "    var ws_proxy = comm_websocket_adapter(comm)\n",
       "\n",
       "    function ondownload(figure, format) {\n",
       "        window.open(figure.imageObj.src);\n",
       "    }\n",
       "\n",
       "    var fig = new mpl.figure(id, ws_proxy,\n",
       "                           ondownload,\n",
       "                           element.get(0));\n",
       "\n",
       "    // Call onopen now - mpl needs it, as it is assuming we've passed it a real\n",
       "    // web socket which is closed, not our websocket->open comm proxy.\n",
       "    ws_proxy.onopen();\n",
       "\n",
       "    fig.parent_element = element.get(0);\n",
       "    fig.cell_info = mpl.find_output_cell(\"<div id='\" + id + \"'></div>\");\n",
       "    if (!fig.cell_info) {\n",
       "        console.error(\"Failed to find cell for figure\", id, fig);\n",
       "        return;\n",
       "    }\n",
       "\n",
       "    var output_index = fig.cell_info[2]\n",
       "    var cell = fig.cell_info[0];\n",
       "\n",
       "};\n",
       "\n",
       "mpl.figure.prototype.handle_close = function(fig, msg) {\n",
       "    var width = fig.canvas.width/mpl.ratio\n",
       "    fig.root.unbind('remove')\n",
       "\n",
       "    // Update the output cell to use the data from the current canvas.\n",
       "    fig.push_to_output();\n",
       "    var dataURL = fig.canvas.toDataURL();\n",
       "    // Re-enable the keyboard manager in IPython - without this line, in FF,\n",
       "    // the notebook keyboard shortcuts fail.\n",
       "    IPython.keyboard_manager.enable()\n",
       "    $(fig.parent_element).html('<img src=\"' + dataURL + '\" width=\"' + width + '\">');\n",
       "    fig.close_ws(fig, msg);\n",
       "}\n",
       "\n",
       "mpl.figure.prototype.close_ws = function(fig, msg){\n",
       "    fig.send_message('closing', msg);\n",
       "    // fig.ws.close()\n",
       "}\n",
       "\n",
       "mpl.figure.prototype.push_to_output = function(remove_interactive) {\n",
       "    // Turn the data on the canvas into data in the output cell.\n",
       "    var width = this.canvas.width/mpl.ratio\n",
       "    var dataURL = this.canvas.toDataURL();\n",
       "    this.cell_info[1]['text/html'] = '<img src=\"' + dataURL + '\" width=\"' + width + '\">';\n",
       "}\n",
       "\n",
       "mpl.figure.prototype.updated_canvas_event = function() {\n",
       "    // Tell IPython that the notebook contents must change.\n",
       "    IPython.notebook.set_dirty(true);\n",
       "    this.send_message(\"ack\", {});\n",
       "    var fig = this;\n",
       "    // Wait a second, then push the new image to the DOM so\n",
       "    // that it is saved nicely (might be nice to debounce this).\n",
       "    setTimeout(function () { fig.push_to_output() }, 1000);\n",
       "}\n",
       "\n",
       "mpl.figure.prototype._init_toolbar = function() {\n",
       "    var fig = this;\n",
       "\n",
       "    var nav_element = $('<div/>')\n",
       "    nav_element.attr('style', 'width: 100%');\n",
       "    this.root.append(nav_element);\n",
       "\n",
       "    // Define a callback function for later on.\n",
       "    function toolbar_event(event) {\n",
       "        return fig.toolbar_button_onclick(event['data']);\n",
       "    }\n",
       "    function toolbar_mouse_event(event) {\n",
       "        return fig.toolbar_button_onmouseover(event['data']);\n",
       "    }\n",
       "\n",
       "    for(var toolbar_ind in mpl.toolbar_items){\n",
       "        var name = mpl.toolbar_items[toolbar_ind][0];\n",
       "        var tooltip = mpl.toolbar_items[toolbar_ind][1];\n",
       "        var image = mpl.toolbar_items[toolbar_ind][2];\n",
       "        var method_name = mpl.toolbar_items[toolbar_ind][3];\n",
       "\n",
       "        if (!name) { continue; };\n",
       "\n",
       "        var button = $('<button class=\"btn btn-default\" href=\"#\" title=\"' + name + '\"><i class=\"fa ' + image + ' fa-lg\"></i></button>');\n",
       "        button.click(method_name, toolbar_event);\n",
       "        button.mouseover(tooltip, toolbar_mouse_event);\n",
       "        nav_element.append(button);\n",
       "    }\n",
       "\n",
       "    // Add the status bar.\n",
       "    var status_bar = $('<span class=\"mpl-message\" style=\"text-align:right; float: right;\"/>');\n",
       "    nav_element.append(status_bar);\n",
       "    this.message = status_bar[0];\n",
       "\n",
       "    // Add the close button to the window.\n",
       "    var buttongrp = $('<div class=\"btn-group inline pull-right\"></div>');\n",
       "    var button = $('<button class=\"btn btn-mini btn-primary\" href=\"#\" title=\"Stop Interaction\"><i class=\"fa fa-power-off icon-remove icon-large\"></i></button>');\n",
       "    button.click(function (evt) { fig.handle_close(fig, {}); } );\n",
       "    button.mouseover('Stop Interaction', toolbar_mouse_event);\n",
       "    buttongrp.append(button);\n",
       "    var titlebar = this.root.find($('.ui-dialog-titlebar'));\n",
       "    titlebar.prepend(buttongrp);\n",
       "}\n",
       "\n",
       "mpl.figure.prototype._root_extra_style = function(el){\n",
       "    var fig = this\n",
       "    el.on(\"remove\", function(){\n",
       "\tfig.close_ws(fig, {});\n",
       "    });\n",
       "}\n",
       "\n",
       "mpl.figure.prototype._canvas_extra_style = function(el){\n",
       "    // this is important to make the div 'focusable\n",
       "    el.attr('tabindex', 0)\n",
       "    // reach out to IPython and tell the keyboard manager to turn it's self\n",
       "    // off when our div gets focus\n",
       "\n",
       "    // location in version 3\n",
       "    if (IPython.notebook.keyboard_manager) {\n",
       "        IPython.notebook.keyboard_manager.register_events(el);\n",
       "    }\n",
       "    else {\n",
       "        // location in version 2\n",
       "        IPython.keyboard_manager.register_events(el);\n",
       "    }\n",
       "\n",
       "}\n",
       "\n",
       "mpl.figure.prototype._key_event_extra = function(event, name) {\n",
       "    var manager = IPython.notebook.keyboard_manager;\n",
       "    if (!manager)\n",
       "        manager = IPython.keyboard_manager;\n",
       "\n",
       "    // Check for shift+enter\n",
       "    if (event.shiftKey && event.which == 13) {\n",
       "        this.canvas_div.blur();\n",
       "        event.shiftKey = false;\n",
       "        // Send a \"J\" for go to next cell\n",
       "        event.which = 74;\n",
       "        event.keyCode = 74;\n",
       "        manager.command_mode();\n",
       "        manager.handle_keydown(event);\n",
       "    }\n",
       "}\n",
       "\n",
       "mpl.figure.prototype.handle_save = function(fig, msg) {\n",
       "    fig.ondownload(fig, null);\n",
       "}\n",
       "\n",
       "\n",
       "mpl.find_output_cell = function(html_output) {\n",
       "    // Return the cell and output element which can be found *uniquely* in the notebook.\n",
       "    // Note - this is a bit hacky, but it is done because the \"notebook_saving.Notebook\"\n",
       "    // IPython event is triggered only after the cells have been serialised, which for\n",
       "    // our purposes (turning an active figure into a static one), is too late.\n",
       "    var cells = IPython.notebook.get_cells();\n",
       "    var ncells = cells.length;\n",
       "    for (var i=0; i<ncells; i++) {\n",
       "        var cell = cells[i];\n",
       "        if (cell.cell_type === 'code'){\n",
       "            for (var j=0; j<cell.output_area.outputs.length; j++) {\n",
       "                var data = cell.output_area.outputs[j];\n",
       "                if (data.data) {\n",
       "                    // IPython >= 3 moved mimebundle to data attribute of output\n",
       "                    data = data.data;\n",
       "                }\n",
       "                if (data['text/html'] == html_output) {\n",
       "                    return [cell, data, j];\n",
       "                }\n",
       "            }\n",
       "        }\n",
       "    }\n",
       "}\n",
       "\n",
       "// Register the function which deals with the matplotlib target/channel.\n",
       "// The kernel may be null if the page has been refreshed.\n",
       "if (IPython.notebook.kernel != null) {\n",
       "    IPython.notebook.kernel.comm_manager.register_target('matplotlib', mpl.mpl_figure_comm);\n",
       "}\n"
      ],
      "text/plain": [
       "<IPython.core.display.Javascript object>"
      ]
     },
     "metadata": {},
     "output_type": "display_data"
    },
    {
     "data": {
      "text/html": [
       "<img src=\"data:image/png;base64,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\" width=\"432\">"
      ],
      "text/plain": [
       "<IPython.core.display.HTML object>"
      ]
     },
     "metadata": {},
     "output_type": "display_data"
    }
   ],
   "source": [
    "fig, ax = plt.subplots()\n",
    "ax.scatter(y_test, y_prednn)\n",
    "ax.plot([y_test.min(), y_test.max()], [y_test.min(), y_test.max()], 'k--', lw=4)\n",
    "ax.set_xlabel('Actual Value')\n",
    "ax.set_ylabel('Predicted Value')\n",
    "plt.show()"
   ]
  },
  {
   "cell_type": "markdown",
   "metadata": {},
   "source": [
    "## RESULT"
   ]
  },
  {
   "cell_type": "markdown",
   "metadata": {},
   "source": [
    "On comparison with the Deep Learning model, Polynomial Model was able to classify more efficiently with 72% accuracy."
   ]
  }
 ],
 "metadata": {
  "kernelspec": {
   "display_name": "Python 3",
   "language": "python",
   "name": "python3"
  },
  "language_info": {
   "codemirror_mode": {
    "name": "ipython",
    "version": 3
   },
   "file_extension": ".py",
   "mimetype": "text/x-python",
   "name": "python",
   "nbconvert_exporter": "python",
   "pygments_lexer": "ipython3",
   "version": "3.7.3"
  }
 },
 "nbformat": 4,
 "nbformat_minor": 2
}
